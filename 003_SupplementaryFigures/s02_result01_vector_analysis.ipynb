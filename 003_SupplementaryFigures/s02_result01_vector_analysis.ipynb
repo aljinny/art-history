{
 "cells": [
  {
   "cell_type": "code",
   "execution_count": null,
   "id": "8cacb6ab-137b-4ab9-ab93-b254a73d6c32",
   "metadata": {},
   "outputs": [],
   "source": [
    "import pandas as pd\n",
    "import numpy as np\n",
    "import matplotlib.pyplot as plt\n",
    "import seaborn as sns\n",
    "import umap\n",
    "from tqdm import tqdm\n",
    "\n",
    "import matplotlib.pyplot as plt\n",
    "import matplotlib.image as img\n",
    "from matplotlib.image import imread\n",
    "import matplotlib.font_manager as fm\n",
    "from mpl_toolkits.axes_grid1.inset_locator import inset_axes\n",
    "from matplotlib.patches import Rectangle\n",
    "\n",
    "import cv2\n",
    "import pickle\n",
    "\n",
    "import time"
   ]
  },
  {
   "cell_type": "code",
   "execution_count": null,
   "id": "3ed6e61d-03aa-4abf-be01-ae99bf459e14",
   "metadata": {},
   "outputs": [],
   "source": [
    "import matplotlib.pyplot as plt \n",
    "plt.rcParams.update({\n",
    "    \"font.family\" : 'Arial',   # specify font family here\n",
    "    \"font.size\" : 12,\n",
    "    \"font.weight\" : \"normal\"})          # specify font size here"
   ]
  },
  {
   "cell_type": "code",
   "execution_count": null,
   "id": "8e98ded7-3d8f-45ff-8829-23becf844163",
   "metadata": {},
   "outputs": [],
   "source": [
    "base_path = '/home/jinny/projects/Art-history/Art-history/datas/'\n",
    "file_info = pd.read_csv(base_path+'file_info.csv')\n",
    "\n",
    "# file_info_latent\n",
    "df = pd.DataFrame(( np.load(base_path+'vectors/avec_latents.npy', allow_pickle=True)),columns=['avec','Path'])\n",
    "file_info_latents = pd.merge(file_info, df, how = 'left', on = 'Path')\n",
    "file_info_latents = file_info_latents[~file_info_latents.avec.isnull()]\n",
    "\n",
    "avec = np.array([i.reshape(-1) for i in file_info_latents['avec']])"
   ]
  },
  {
   "cell_type": "code",
   "execution_count": null,
   "id": "d4227fc8-5c69-469c-a613-e3248e924f3d",
   "metadata": {
    "scrolled": true
   },
   "outputs": [],
   "source": [
    "df = pd.DataFrame(np.load(base_path+'vectors/cvec_latents.npy', allow_pickle=True),columns=['cvec','Path'])\n",
    "df['cvec']=[i.reshape(-1) for i in df['cvec']]\n",
    "file_info_latents = pd.merge(file_info_latents, df, how = 'left', on = 'Path')\n",
    "\n",
    "cvec = np.array([i.reshape(-1) for i in file_info_latents['cvec']])"
   ]
  },
  {
   "cell_type": "markdown",
   "id": "165d4ac7-b76e-4cfe-9e1f-913e7ef8acb7",
   "metadata": {},
   "source": [
    "## 01. UMAP 추가"
   ]
  },
  {
   "cell_type": "code",
   "execution_count": null,
   "id": "e04be031-25a6-48b4-a443-6e6656402eaa",
   "metadata": {},
   "outputs": [],
   "source": [
    "avec_umap = pickle.load((open(base_path+'models/avec_umap.sav', 'rb')))\n",
    "cvec_umap = pickle.load((open(base_path+'models/cvec_umap.sav', 'rb')))"
   ]
  },
  {
   "cell_type": "code",
   "execution_count": null,
   "id": "45db687c-6945-4e52-8124-6610708ccc9b",
   "metadata": {},
   "outputs": [],
   "source": [
    "avecs = avec_umap.transform(avec)\n",
    "avecs  = pd.DataFrame(avecs,columns=['x','y'])\n",
    "avecs['new_date_detail']= file_info_latents['new_date_detail']\n",
    "avecs['new_date'] = list(file_info_latents['new_date'])\n",
    "avecs['author_name'] = list(file_info_latents['author_name'])\n",
    "avecs['Style'] = list(file_info_latents['Style'])\n",
    "avecs['Path'] = list(file_info_latents['Path'])\n",
    "avecs['Genre'] = list(file_info_latents['Genre'])"
   ]
  },
  {
   "cell_type": "code",
   "execution_count": null,
   "id": "668673fb-c97b-4481-9325-9878e3c25d32",
   "metadata": {},
   "outputs": [],
   "source": [
    "cvecs = cvec_umap.transform(cvec)\n",
    "cvecs  = pd.DataFrame(cvecs,columns=['x','y'])\n",
    "cvecs['new_date_detail']= file_info_latents['new_date_detail']\n",
    "cvecs['new_date']= file_info_latents['new_date']\n",
    "cvecs['author_name']= file_info_latents['author_name']\n",
    "cvecs['Style'] = list(file_info_latents['Style'])\n",
    "cvecs['Path']= file_info_latents['Path']\n",
    "cvecs['Genre']= file_info_latents['Genre']"
   ]
  },
  {
   "cell_type": "code",
   "execution_count": null,
   "id": "1210ec97-0e8e-4563-9cfd-a87dc2173b6d",
   "metadata": {},
   "outputs": [],
   "source": [
    "avecs['x_c'] = cvecs['x']\n",
    "avecs['y_c'] = cvecs['y']"
   ]
  },
  {
   "cell_type": "code",
   "execution_count": null,
   "id": "664a6420-03ef-4419-aa64-8864512fddd8",
   "metadata": {},
   "outputs": [],
   "source": [
    "#스타일 가중치 계산 및 대표 년도 추가\n",
    "df_newstyle = file_info['Style'].str.split(',', expand=True)\n",
    "df_newstyle = df_newstyle.melt(value_name='Style', ignore_index=False).dropna().drop(columns='variable')\n",
    "\n",
    "temp = file_info[['new_date','Style','painting_name']].drop(columns='Style').join(df_newstyle, how='left')\n",
    "temp['Weight'] = 1 / (temp.groupby('painting_name')['Style'].transform('count'))\n",
    "\n",
    "df_newstyle = temp.dropna(subset=['Style'])\n",
    "\n",
    "temp = df_newstyle.groupby('Style')['new_date'].agg(lambda x: x.mode().iloc[0]).reset_index()\n",
    "temp.rename(columns={'new_date': 'Peak_year'}, inplace=True)\n",
    "\n",
    "df_newstyle = df_newstyle.merge(temp, on='Style', how='left')\n",
    "\n",
    "style_peak_year = df_newstyle[['Style','Peak_year']]\n",
    "style_peak_year = style_peak_year.drop_duplicates()\n",
    "\n",
    "new_style = list()\n",
    "for i in df_newstyle['Style'] :\n",
    "    year = style_peak_year['Peak_year'][style_peak_year['Style']==i].values[0]\n",
    "    new_style.append(f'{i} ({year})')\n",
    "df_newstyle['Style_Peak_year'] = new_style"
   ]
  },
  {
   "cell_type": "code",
   "execution_count": null,
   "id": "59cc729d-a52a-4f7f-8b27-a1368ce5134e",
   "metadata": {},
   "outputs": [],
   "source": [
    "temp = df_newstyle[['Style_Peak_year','Weight']].groupby('Style_Peak_year').sum()\n",
    "temp = temp.sort_values(by='Weight', ascending=False)[:10].reset_index()\n",
    "\n",
    "styles = df_newstyle[['Style','Style_Peak_year']].drop_duplicates()\n",
    "styles10 = temp['Style_Peak_year'].values"
   ]
  },
  {
   "cell_type": "code",
   "execution_count": null,
   "id": "7ff2077a-64cc-447b-b3b8-d80e4bc22e12",
   "metadata": {},
   "outputs": [],
   "source": [
    "df_umap_style = avecs.copy()\n",
    "df_umap_style['new_style'] = df_umap_style['Style'].str.split(',')\n",
    "df_umap_style = df_umap_style.explode('new_style') \n",
    "\n",
    "df_umap_style10 = df_umap_style[df_umap_style['new_style'].isin(styles['Style'][styles['Style_Peak_year'].isin(styles10)].unique())]\n",
    "df_umap_style10['Style_Peak_year'] = df_umap_style10['new_style'].map(styles.set_index('Style')['Style_Peak_year'])"
   ]
  },
  {
   "cell_type": "code",
   "execution_count": null,
   "id": "5e9937f0-518f-426f-a93f-920078d31c19",
   "metadata": {},
   "outputs": [],
   "source": [
    "#target_authors = [['Albrecht Durer (1471-1528)','albrecht durer'],['Rembrandt (1606-1669)','rembrandt'],['Johannes Vermeer (1632-1675)','johannes vermeer'],['Jean-Francois Millet (1814-1875)','jean-francois millet'],['Edouard Manet (1832-1883)','edouard manet'],['Paul Cezanne (1839-1906)','paul cezanne'],['Pierre-Auguste Renoir (1841-1919)','pierre auguste renoir'],['Vincent van Gogh (1853-1890)','vincent van gogh'],['Gustav Klimt (1862-1918)','gustav klimt'],['Egon Schiele (1890-1918)','egon schiele']]\n",
    "target_authors = [['Albrecht Durer (1528)','albrecht durer'],['Rembrandt (1669)','rembrandt'],['Johannes Vermeer (1675)','johannes vermeer'],['Jean-Francois Millet (1875)','jean-francois millet'],['Edouard Manet (1883)','edouard manet'],['Paul Cezanne (1906)','paul cezanne'],['Pierre-Auguste Renoir (1919)','pierre auguste renoir'],['Vincent van Gogh (1890)','vincent van gogh'],['Gustav Klimt (1918)','gustav klimt'],['Egon Schiele (1918)','egon schiele']]\n",
    "\n",
    "target_authors_dic = {i[1]:i[0] for i in target_authors}\n",
    "\n",
    "df_umap_author10 = avecs[avecs['author_name'].isin(target_authors_dic.keys())]\n",
    "df_umap_author10['author_name_year'] = [target_authors_dic[i] for i in df_umap_author10['author_name'] ]\n"
   ]
  },
  {
   "cell_type": "markdown",
   "id": "55b957c3-57ee-4a42-adbe-ca6c37bc6393",
   "metadata": {},
   "source": [
    "### Date"
   ]
  },
  {
   "cell_type": "code",
   "execution_count": null,
   "id": "0aa85d3b-4fbb-4d4d-b378-22be470d479d",
   "metadata": {},
   "outputs": [],
   "source": [
    "palette = sns.color_palette(\"Spectral\", n_colors=7) "
   ]
  },
  {
   "cell_type": "code",
   "execution_count": null,
   "id": "05d322a1-8162-4a9b-9d82-89a8b7bb2c0b",
   "metadata": {},
   "outputs": [],
   "source": [
    "import matplotlib.pyplot as plt\n",
    "import seaborn as sns\n",
    "\n",
    "# 그래프와 축 설정 (constrained_layout 제거)\n",
    "fig, ax = plt.subplots(2, 4, figsize=(20, 8))\n",
    "ax = ax.reshape(-1)\n",
    "\n",
    "# 축 설정 (배경, 테두리 등)\n",
    "for i in range(2):\n",
    "    ax[i].patch.set_facecolor('white')\n",
    "    for spine in ax[i].spines.values():\n",
    "        spine.set_color('black')\n",
    "        spine.set_linewidth(0.8)\n",
    "\n",
    "\n",
    "\n",
    "for idx,year in enumerate([1300,1400,1500,1600,1700,1800,1900]) :\n",
    "    sns.scatterplot(x='x', y='y', data=avecs, s=1, alpha=0.03, color='gray', edgecolor=None, ax=ax[idx])\n",
    "    temp = avecs[avecs['new_date'].isin([year+10*i for i in range(10)])]\n",
    "    sns.scatterplot(x='x', y='y', data=temp, alpha=0.6, hue_order=[1300,1400,1500,1600,1700,1800,1900], s=2, edgecolor=None, ax=ax[idx])\n",
    "    \n",
    "    ax[idx].set_title(f\"{year} CE\", fontsize=30, pad=10)\n",
    "    ax[idx].set_xlim(avecs.x.min() - 0.2, avecs.x.max() + 0.2)\n",
    "    ax[idx].set_ylim(avecs.y.min() - 1.2, avecs.y.max() + 1.2)\n",
    "    ax[idx].get_xaxis().set_visible(False)\n",
    "    ax[idx].get_yaxis().set_visible(False)\n",
    "\n",
    "ax[7].get_xaxis().set_visible(False)\n",
    "ax[7].get_yaxis().set_visible(False)\n",
    "\n",
    "plt.tight_layout()\n",
    "plt.savefig(f'/home/jinny/projects/Art-history/Art-history/graph/supple/si05_a0.png',bbox_inches='tight',transparent = True,dpi=600)"
   ]
  },
  {
   "cell_type": "code",
   "execution_count": null,
   "id": "c5530ac0-8bb2-49df-bdee-183361e5b6a4",
   "metadata": {},
   "outputs": [],
   "source": [
    "import matplotlib.pyplot as plt\n",
    "import seaborn as sns\n",
    "\n",
    "# 그래프와 축 설정 (constrained_layout 제거)\n",
    "fig, ax = plt.subplots(2, 4, figsize=(20, 8))\n",
    "ax = ax.reshape(-1)\n",
    "\n",
    "# 축 설정 (배경, 테두리 등)\n",
    "for i in range(2):\n",
    "    ax[i].patch.set_facecolor('white')\n",
    "    for spine in ax[i].spines.values():\n",
    "        spine.set_color('black')\n",
    "        spine.set_linewidth(0.8)\n",
    "\n",
    "\n",
    "\n",
    "for idx,year in enumerate([1300,1400,1500,1600,1700,1800,1900]) :\n",
    "    sns.scatterplot(x='x_c', y='y_c', data=avecs, s=1, alpha=0.03, color='gray', edgecolor=None, ax=ax[idx])\n",
    "    temp = avecs[avecs['new_date'].isin([year+10*i for i in range(10)])]\n",
    "    sns.scatterplot(x='x_c', y='y_c', data=temp, alpha=0.6, hue_order=[1300,1400,1500,1600,1700,1800,1900], s=2, edgecolor=None, ax=ax[idx])\n",
    "    \n",
    "    ax[idx].set_title(f\"{year} CE\", fontsize=30, pad=10)\n",
    "    ax[idx].set_xlim(avecs.x_c.min() - 0.2, avecs.x_c.max() + 0.2)\n",
    "    ax[idx].set_ylim(avecs.y_c.min() - 1, avecs.y_c.max() + 0.2)\n",
    "    ax[idx].get_xaxis().set_visible(False)\n",
    "    ax[idx].get_yaxis().set_visible(False)\n",
    "\n",
    "ax[7].get_xaxis().set_visible(False)\n",
    "ax[7].get_yaxis().set_visible(False)\n",
    "\n",
    "plt.tight_layout()\n",
    "plt.savefig(f'/home/jinny/projects/Art-history/Art-history/graph/supple/si05_c0.png',bbox_inches='tight',transparent = True,dpi=600)"
   ]
  },
  {
   "cell_type": "markdown",
   "id": "a9ee0502-6f8e-4780-8ef9-50bde04338f8",
   "metadata": {},
   "source": [
    "### style"
   ]
  },
  {
   "cell_type": "code",
   "execution_count": null,
   "id": "fbf391cb-0450-4f9f-964a-044e70187523",
   "metadata": {},
   "outputs": [],
   "source": [
    "import matplotlib.colors as mcolors\n",
    "\n",
    "palette = sns.color_palette(\"Paired\") \n",
    "palette[2] = mcolors.to_rgb('#A09317')\n",
    "palette[8] = mcolors.to_rgb('#872600')"
   ]
  },
  {
   "cell_type": "code",
   "execution_count": null,
   "id": "6efb4a21-e185-42fd-a710-bad77443d97d",
   "metadata": {},
   "outputs": [],
   "source": [
    "import matplotlib.pyplot as plt\n",
    "import seaborn as sns\n",
    "\n",
    "# 그래프와 축 설정 (constrained_layout 제거)\n",
    "fig, ax = plt.subplots(2, 5, figsize=(21, 7))\n",
    "ax = ax.reshape(-1)\n",
    "\n",
    "# 축 설정 (배경, 테두리 등)\n",
    "for i in range(2):\n",
    "    ax[i].patch.set_facecolor('white')\n",
    "    for spine in ax[i].spines.values():\n",
    "        spine.set_color('black')\n",
    "        spine.set_linewidth(0.8)\n",
    "\n",
    "# 스타일 리스트\n",
    "style_order = ['Northern Renaissance (1510)', 'Baroque (1630)', 'Rococo (1780)', 'Romanticism (1820)',\n",
    "           'Realism (1880)', 'Impressionism (1880)', 'Post-Impressionism (1880)', 'Symbolism (1900)', 'Art Nouveau (Modern) (1910)',\n",
    "           'Expressionism (1910)']\n",
    "\n",
    "for idx,style in enumerate(style_order) :\n",
    "    sns.scatterplot(x='x', y='y', data=df_umap_style, s=1, alpha=0.03, color='gray', edgecolor=None, ax=ax[idx])\n",
    "    temp = df_umap_style10[df_umap_style10['Style_Peak_year']==style]\n",
    "    sns.scatterplot(x='x', y='y', data=temp, alpha=0.9, hue_order=style_order, s=2, edgecolor=None, ax=ax[idx])\n",
    "    \n",
    "    ax[idx].set_title(f\"{style}\", fontsize=20, pad=10)\n",
    "    ax[idx].set_xlim(avecs.x.min() - 0.2, avecs.x.max() + 0.2)\n",
    "    ax[idx].set_ylim(avecs.y.min() - 1, avecs.y.max() + 1)\n",
    "    ax[idx].get_xaxis().set_visible(False)\n",
    "    ax[idx].get_yaxis().set_visible(False)\n",
    "\n",
    "plt.tight_layout()\n",
    "plt.savefig(f'/home/jinny/projects/Art-history/Art-history/graph/supple/si05_a1.png',bbox_inches='tight',transparent = True,dpi=600)"
   ]
  },
  {
   "cell_type": "code",
   "execution_count": null,
   "id": "fdeebc96-b5fd-41f7-b3e1-7d30e7152342",
   "metadata": {},
   "outputs": [],
   "source": [
    "import matplotlib.pyplot as plt\n",
    "import seaborn as sns\n",
    "\n",
    "# 그래프와 축 설정 (constrained_layout 제거)\n",
    "fig, ax = plt.subplots(2, 5, figsize=(21, 7))\n",
    "ax = ax.reshape(-1)\n",
    "\n",
    "# 축 설정 (배경, 테두리 등)\n",
    "for i in range(2):\n",
    "    ax[i].patch.set_facecolor('white')\n",
    "    for spine in ax[i].spines.values():\n",
    "        spine.set_color('black')\n",
    "        spine.set_linewidth(0.8)\n",
    "\n",
    "# 스타일 리스트\n",
    "styless = ['Northern Renaissance (1510)', 'Baroque (1630)', 'Rococo (1780)', 'Romanticism (1820)',\n",
    "           'Realism (1880)', 'Impressionism (1880)', 'Post-Impressionism (1880)', 'Symbolism (1900)', 'Art Nouveau (Modern) (1910)',\n",
    "           'Expressionism (1910)']\n",
    "\n",
    "for idx,style in enumerate(styless) :\n",
    "    sns.scatterplot(x='x_c', y='y_c', data=df_umap_style, s=1, alpha=0.03, color='gray', edgecolor=None, ax=ax[idx])\n",
    "    temp = df_umap_style10[df_umap_style10['Style_Peak_year']==style]\n",
    "    sns.scatterplot(x='x_c', y='y_c', data=temp, alpha=0.9, hue_order=styless, s=2, edgecolor=None, ax=ax[idx])\n",
    "    \n",
    "    ax[idx].set_title(f\"{style}\", fontsize=20, pad=10)\n",
    "    ax[idx].set_xlim(avecs.x_c.min() - 0.2, avecs.x_c.max() + 0.2)\n",
    "    ax[idx].set_ylim(avecs.y_c.min() - 1, avecs.y_c.max() + 0.2)\n",
    "    ax[idx].get_xaxis().set_visible(False)\n",
    "    ax[idx].get_yaxis().set_visible(False)\n",
    "\n",
    "plt.tight_layout()\n",
    "plt.savefig(f'/home/jinny/projects/Art-history/Art-history/graph/supple/si05_c1.png',bbox_inches='tight',transparent = True,dpi=600)"
   ]
  },
  {
   "cell_type": "markdown",
   "id": "b950b2fb-9440-44d2-a34b-dc31f67be6f4",
   "metadata": {},
   "source": [
    "### author"
   ]
  },
  {
   "cell_type": "code",
   "execution_count": null,
   "id": "72aa5b74-0c6c-476c-a70f-91de0abdcd73",
   "metadata": {},
   "outputs": [],
   "source": [
    "import matplotlib.pyplot as plt\n",
    "import seaborn as sns\n",
    "\n",
    "# 그래프와 축 설정 (constrained_layout 제거)\n",
    "fig, ax = plt.subplots(2, 5, figsize=(21, 7))\n",
    "ax = ax.reshape(-1)\n",
    "\n",
    "# 축 설정 (배경, 테두리 등)\n",
    "for i in range(2):\n",
    "    ax[i].patch.set_facecolor('white')\n",
    "    for spine in ax[i].spines.values():\n",
    "        spine.set_color('black')\n",
    "        spine.set_linewidth(0.8)\n",
    "\n",
    "for idx,author in enumerate(target_authors_dic.values()) :\n",
    "    sns.scatterplot(x='x', y='y', data=df_umap_style, s=1, alpha=0.03, color='gray', edgecolor=None, ax=ax[idx])\n",
    "    temp = df_umap_author10[df_umap_author10['author_name_year']==author]\n",
    "    sns.scatterplot(x='x', y='y', data=temp, s=5, edgecolor=None, ax=ax[idx], color=palette[idx])\n",
    "    \n",
    "    ax[idx].set_title(f\"{author}\", fontsize=20, pad=10)\n",
    "    ax[idx].set_xlim(avecs.x.min() - 0.2, avecs.x.max() + 0.2)\n",
    "    ax[idx].set_ylim(avecs.y.min() - 1, avecs.y.max() + 1)\n",
    "    ax[idx].get_xaxis().set_visible(False)\n",
    "    ax[idx].get_yaxis().set_visible(False)\n",
    "\n",
    "plt.tight_layout()\n",
    "plt.savefig(f'/home/jinny/projects/Art-history/Art-history/graph/supple/si05_a2.png',bbox_inches='tight',transparent = True,dpi=600)"
   ]
  },
  {
   "cell_type": "code",
   "execution_count": null,
   "id": "553f6dde-3738-4043-aeb1-461f081114d7",
   "metadata": {},
   "outputs": [],
   "source": [
    "import matplotlib.pyplot as plt\n",
    "import seaborn as sns\n",
    "\n",
    "# 그래프와 축 설정 (constrained_layout 제거)\n",
    "fig, ax = plt.subplots(2, 5, figsize=(21, 7))\n",
    "ax = ax.reshape(-1)\n",
    "\n",
    "# 축 설정 (배경, 테두리 등)\n",
    "for i in range(2):\n",
    "    ax[i].patch.set_facecolor('white')\n",
    "    for spine in ax[i].spines.values():\n",
    "        spine.set_color('black')\n",
    "        spine.set_linewidth(0.8)\n",
    "\n",
    "for idx,author in enumerate(target_authors_dic.values()) :\n",
    "    sns.scatterplot(x='x_c', y='y_c', data=df_umap_style, s=1, alpha=0.03, color='gray', edgecolor=None, ax=ax[idx])\n",
    "    temp = df_umap_author10[df_umap_author10['author_name_year']==author]\n",
    "    sns.scatterplot(x='x_c', y='y_c', data=temp, s=5, edgecolor=None, ax=ax[idx], color=palette[idx])\n",
    "    \n",
    "    ax[idx].set_title(f\"{author}\", fontsize=20, pad=10)\n",
    "    ax[idx].set_xlim(avecs.x_c.min() - 0.2, avecs.x_c.max() + 0.2)\n",
    "    ax[idx].set_ylim(avecs.y_c.min() - 1, avecs.y_c.max() + 0.2)\n",
    "    ax[idx].get_xaxis().set_visible(False)\n",
    "    ax[idx].get_yaxis().set_visible(False)\n",
    "\n",
    "plt.tight_layout()\n",
    "plt.savefig(f'/home/jinny/projects/Art-history/Art-history/graph/supple/si05_c2.png',bbox_inches='tight',transparent = True,dpi=600)"
   ]
  },
  {
   "cell_type": "markdown",
   "id": "7761b74c-f30d-432f-b140-6e15c8a89dd0",
   "metadata": {},
   "source": [
    "## 02. TSNE로 추가"
   ]
  },
  {
   "cell_type": "code",
   "execution_count": null,
   "id": "b22e4753-0029-4e16-8ac4-d60700fdd4d8",
   "metadata": {},
   "outputs": [],
   "source": [
    "from openTSNE import TSNE\n",
    "import pickle"
   ]
  },
  {
   "cell_type": "raw",
   "id": "deca1f60-f98d-446b-9218-0a4a60347fb1",
   "metadata": {},
   "source": [
    "avec_tsne = TSNE(\n",
    "    n_components=2,  # 2차원으로 축소\n",
    "    perplexity=30,   # 클러스터 밀도 설정\n",
    "    random_state=102,  # 재현성을 위한 설정\n",
    "    n_jobs=-1,  # CPU 멀티코어 사용 (GPU는 자동 활성화)\n",
    "    initialization=\"pca\",  # 초기값 설정 (PCA 사용)\n",
    "    negative_gradient_method=\"fft\"  # GPU 가속 지원\n",
    ")\n",
    "\n",
    "avec_tsne_result = avec_tsne.fit(avec)"
   ]
  },
  {
   "cell_type": "raw",
   "id": "59fb866a-a76a-482d-876c-e50062656024",
   "metadata": {},
   "source": [
    "cvec_tsne = TSNE(\n",
    "    n_components=2,  # 2차원으로 축소\n",
    "    perplexity=30,   # 클러스터 밀도 설정\n",
    "    random_state=102,  # 재현성을 위한 설정\n",
    "    n_jobs=-1,  # CPU 멀티코어 사용 (GPU는 자동 활성화)\n",
    "    initialization=\"pca\",  # 초기값 설정 (PCA 사용)\n",
    "    negative_gradient_method=\"fft\"  # GPU 가속 지원\n",
    ")\n",
    "\n",
    "cvec_tsne_result = cvec_tsne.fit(cvec)"
   ]
  },
  {
   "cell_type": "raw",
   "id": "627934cd-0fb2-4499-8985-9aea5a4fbbe2",
   "metadata": {},
   "source": [
    "df_tsne  = pd.DataFrame(avec_tsne_result,columns=['x_a','y_a'])\n",
    "df_tsne['new_date_detail']= file_info_latents['new_date_detail']\n",
    "df_tsne['new_date'] = list(file_info_latents['new_date'])\n",
    "df_tsne['author_name'] = list(file_info_latents['author_name'])\n",
    "df_tsne['Style'] = list(file_info_latents['Style'])\n",
    "df_tsne['Path'] = list(file_info_latents['Path'])\n",
    "df_tsne['Genre'] = list(file_info_latents['Genre'])\n",
    "\n",
    "temp  = pd.DataFrame(cvec_tsne_result,columns=['x','y'])\n",
    "\n",
    "df_tsne['x_c'] = temp['x']\n",
    "df_tsne['y_c'] = temp['y']\n",
    "\n",
    "df_tsne.to_csv(\"datas/models/df_tsne.csv\")"
   ]
  },
  {
   "cell_type": "code",
   "execution_count": null,
   "id": "bae0bba7-8c78-4234-af64-2fa58d96ab0a",
   "metadata": {},
   "outputs": [],
   "source": [
    "df_tsne = pd.read_csv('datas/models/df_tsne.csv')"
   ]
  },
  {
   "cell_type": "code",
   "execution_count": null,
   "id": "c4e33ae9-cf50-4b4c-b98e-8a9e92f6cbed",
   "metadata": {},
   "outputs": [],
   "source": [
    "df_tsne_style = df_tsne.copy()\n",
    "df_tsne_style['new_style'] = df_tsne_style['Style'].str.split(',')\n",
    "df_tsne_style = df_tsne_style.explode('new_style') \n",
    "\n",
    "df_tsne_style10 = df_tsne_style[df_tsne_style['new_style'].isin(styles['Style'][styles['Style_Peak_year'].isin(styles10)].unique())]\n",
    "df_tsne_style10['Style_Peak_year'] = df_tsne_style10['new_style'].map(styles.set_index('Style')['Style_Peak_year'])"
   ]
  },
  {
   "cell_type": "code",
   "execution_count": null,
   "id": "7a406b57-5f3e-4be2-89ff-f3e0cc3851f7",
   "metadata": {},
   "outputs": [],
   "source": [
    "#target_authors = [['Albrecht Durer (1471-1528)','albrecht durer'],['Rembrandt (1606-1669)','rembrandt'],['Johannes Vermeer (1632-1675)','johannes vermeer'],['Jean-Francois Millet (1814-1875)','jean-francois millet'],['Edouard Manet (1832-1883)','edouard manet'],['Paul Cezanne (1839-1906)','paul cezanne'],['Pierre-Auguste Renoir (1841-1919)','pierre auguste renoir'],['Vincent van Gogh (1853-1890)','vincent van gogh'],['Gustav Klimt (1862-1918)','gustav klimt'],['Egon Schiele (1890-1918)','egon schiele']]\n",
    "target_authors = [['Albrecht Durer (1528)','albrecht durer'],['Rembrandt (1669)','rembrandt'],['Johannes Vermeer (1675)','johannes vermeer'],['Jean-Francois Millet (1875)','jean-francois millet'],['Edouard Manet (1883)','edouard manet'],['Paul Cezanne (1906)','paul cezanne'],['Pierre-Auguste Renoir (1919)','pierre auguste renoir'],['Vincent van Gogh (1890)','vincent van gogh'],['Gustav Klimt (1918)','gustav klimt'],['Egon Schiele (1918)','egon schiele']]\n",
    "\n",
    "target_authors_dic = {i[1]:i[0] for i in target_authors}\n",
    "\n",
    "df_tsne_author10 = df_tsne[df_tsne['author_name'].isin(target_authors_dic.keys())]\n",
    "df_tsne_author10['author_name_year'] = [target_authors_dic[i] for i in df_tsne_author10['author_name'] ]\n"
   ]
  },
  {
   "cell_type": "code",
   "execution_count": null,
   "id": "e05f0df3-88bf-4abf-bc7d-30c984cd6d5d",
   "metadata": {},
   "outputs": [],
   "source": [
    "import matplotlib.cm as cm\n",
    "\n",
    "fig, ax = plt.subplots(1,1, figsize=(10, 7))\n",
    "ax.patch.set_facecolor('white')\n",
    "\n",
    "## tsne\n",
    "sns.scatterplot(x='x_a',y='y_a', data=df_tsne, hue='new_date',alpha=0.5, s=3, palette=\"Spectral_r\",linewidth=0, edgecolor=None)\n",
    "ax.set_title(f\"A-vector\",fontsize=34, pad=20)\n",
    "ax.legend(title='Date',loc = 'upper right').remove()\n",
    "ax.set_xlim(df_tsne.x_a.min()-0.2, df_tsne.x_a.max()+0.2)\n",
    "ax.set_ylim(df_tsne.y_a.min()-1, df_tsne.y_a.max()+1)\n",
    "ax.get_xaxis().set_visible(False)\n",
    "ax.get_yaxis().set_visible(False)\n",
    "\n",
    "\n",
    "## clolrbar\n",
    "# ScalarMappable을 사용하여 색상 매핑을 생성합니다.\n",
    "sm = cm.ScalarMappable(cmap='Spectral_r')\n",
    "sm.set_array(range(70))\n",
    "# colorbar를 추가합니다.\n",
    "cbar = plt.colorbar(sm, ax=ax, pad=0.01, aspect=30)\n",
    "cbar.set_label('Year', rotation=270, labelpad=30,fontsize=26)\n",
    "cbar.outline.set_edgecolor('black')\n",
    "cbar.outline.set_linewidth(0.8)\n",
    "# colorbar의 눈금과 눈금 레이블을 설정합니다.\n",
    "cbar.set_ticks([0,10,20,30,40,50,60, 69])  # 예시로 0, 35, 69 설정\n",
    "cbar.set_ticklabels([1300,1400,1500, 1600,1700,1800, 1900,1990])  # 예시로 숫자 변경\n",
    "cbar.ax.invert_yaxis()\n",
    "cbar.ax.yaxis.set_tick_params(labelsize=26)\n",
    "\n",
    "\n",
    "## save\n",
    "fig.tight_layout()\n",
    "plt.savefig(f'/home/jinny/projects/Art-history/Art-history/graph/supple/si06_a0.png',bbox_inches='tight',transparent = True,dpi=600)"
   ]
  },
  {
   "cell_type": "code",
   "execution_count": null,
   "id": "f080cbd2-364c-4df1-9c4b-022cbc72ad27",
   "metadata": {},
   "outputs": [],
   "source": [
    "import matplotlib.cm as cm\n",
    "\n",
    "fig, ax = plt.subplots(1,1, figsize=(10, 7))\n",
    "ax.patch.set_facecolor('white')\n",
    "\n",
    "## tsne\n",
    "sns.scatterplot(x='x_c',y='y_c', data=df_tsne, hue='new_date',alpha=0.5, s=3, palette=\"Spectral_r\",linewidth=0, edgecolor=None)\n",
    "ax.set_title(f\"C-vector\",fontsize=34, pad=20)\n",
    "ax.legend(title='Date',loc = 'upper right').remove()\n",
    "ax.set_xlim(df_tsne.x_c.min()-0.2, df_tsne.x_c.max()+0.2)\n",
    "ax.set_ylim(df_tsne.y_c.min()-1, df_tsne.y_c.max()+1)\n",
    "ax.get_xaxis().set_visible(False)\n",
    "ax.get_yaxis().set_visible(False)\n",
    "\n",
    "\n",
    "## clolrbar\n",
    "# ScalarMappable을 사용하여 색상 매핑을 생성합니다.\n",
    "sm = cm.ScalarMappable(cmap='Spectral_r')\n",
    "sm.set_array(range(70))\n",
    "# colorbar를 추가합니다.\n",
    "cbar = plt.colorbar(sm, ax=ax, pad=0.01, aspect=30)\n",
    "cbar.set_label('Year', rotation=270, labelpad=30,fontsize=26)\n",
    "cbar.outline.set_edgecolor('black')\n",
    "cbar.outline.set_linewidth(0.8)\n",
    "# colorbar의 눈금과 눈금 레이블을 설정합니다.\n",
    "cbar.set_ticks([0,10,20,30,40,50,60, 69])  # 예시로 0, 35, 69 설정\n",
    "cbar.set_ticklabels([1300,1400,1500, 1600,1700,1800, 1900,1990])  # 예시로 숫자 변경\n",
    "cbar.ax.invert_yaxis()\n",
    "cbar.ax.yaxis.set_tick_params(labelsize=26)\n",
    "\n",
    "\n",
    "## save\n",
    "fig.tight_layout()\n",
    "plt.savefig(f'/home/jinny/projects/Art-history/Art-history/graph/supple/si06_c0.png',bbox_inches='tight',transparent = True,dpi=600)"
   ]
  },
  {
   "cell_type": "markdown",
   "id": "88689aef-c42f-4f94-af19-f43c954756ab",
   "metadata": {},
   "source": [
    "### Date"
   ]
  },
  {
   "cell_type": "code",
   "execution_count": null,
   "id": "ec7d660a-2ed9-478b-8a4d-794cea9f1bb2",
   "metadata": {},
   "outputs": [],
   "source": [
    "import matplotlib.colors as mcolors\n",
    "\n",
    "palette = sns.color_palette(\"Spectral\", n_colors=7) "
   ]
  },
  {
   "cell_type": "code",
   "execution_count": null,
   "id": "d11d4829-5008-4385-a5ef-ef05562918c4",
   "metadata": {},
   "outputs": [],
   "source": [
    "import matplotlib.pyplot as plt\n",
    "import seaborn as sns\n",
    "\n",
    "# 그래프와 축 설정 (constrained_layout 제거)\n",
    "fig, ax = plt.subplots(2, 4, figsize=(20, 8))\n",
    "ax = ax.reshape(-1)\n",
    "\n",
    "# 축 설정 (배경, 테두리 등)\n",
    "for i in range(2):\n",
    "    ax[i].patch.set_facecolor('white')\n",
    "    for spine in ax[i].spines.values():\n",
    "        spine.set_color('black')\n",
    "        spine.set_linewidth(0.8)\n",
    "\n",
    "\n",
    "\n",
    "for idx,year in enumerate([1300,1400,1500,1600,1700,1800,1900]) :\n",
    "    sns.scatterplot(x='x_a', y='y_a', data=df_tsne, s=1, alpha=0.03, color='gray', edgecolor=None, ax=ax[idx])\n",
    "    temp = df_tsne[df_tsne['new_date'].isin([year+10*i for i in range(10)])]\n",
    "    sns.scatterplot(x='x_a', y='y_a', data=temp, alpha=0.6, hue_order=[1300,1400,1500,1600,1700,1800,1900], s=2, edgecolor=None, ax=ax[idx], color=palette[idx])\n",
    "    \n",
    "    ax[idx].set_title(f\"{year} CE\", fontsize=30, pad=10)\n",
    "    ax[idx].set_xlim(df_tsne.x_a.min() - 0.2, df_tsne.x_a.max() + 0.2)\n",
    "    ax[idx].set_ylim(df_tsne.y_a.min(), df_tsne.y_a.max())\n",
    "    ax[idx].get_xaxis().set_visible(False)\n",
    "    ax[idx].get_yaxis().set_visible(False)\n",
    "\n",
    "ax[7].get_xaxis().set_visible(False)\n",
    "ax[7].get_yaxis().set_visible(False)\n",
    "\n",
    "plt.tight_layout()\n",
    "plt.savefig(f'/home/jinny/projects/Art-history/Art-history/graph/supple/si06_a00.png',bbox_inches='tight',transparent = True,dpi=600)"
   ]
  },
  {
   "cell_type": "code",
   "execution_count": null,
   "id": "763a9d68-8fc5-4790-84de-59fa69237c92",
   "metadata": {},
   "outputs": [],
   "source": [
    "import matplotlib.pyplot as plt\n",
    "import seaborn as sns\n",
    "\n",
    "# 그래프와 축 설정 (constrained_layout 제거)\n",
    "fig, ax = plt.subplots(2, 4, figsize=(20, 8))\n",
    "ax = ax.reshape(-1)\n",
    "\n",
    "# 축 설정 (배경, 테두리 등)\n",
    "for i in range(2):\n",
    "    ax[i].patch.set_facecolor('white')\n",
    "    for spine in ax[i].spines.values():\n",
    "        spine.set_color('black')\n",
    "        spine.set_linewidth(0.8)\n",
    "\n",
    "\n",
    "\n",
    "for idx,year in enumerate([1300,1400,1500,1600,1700,1800,1900]) :\n",
    "    sns.scatterplot(x='x_c', y='y_c', data=df_tsne, s=1, alpha=0.03, color='gray', edgecolor=None, ax=ax[idx])\n",
    "    temp = df_tsne[df_tsne['new_date'].isin([year+10*i for i in range(10)])]\n",
    "    sns.scatterplot(x='x_c', y='y_c', data=temp, alpha=0.6, hue_order=[1300,1400,1500,1600,1700,1800,1900], s=2, edgecolor=None, ax=ax[idx], color=palette[idx])\n",
    "    \n",
    "    ax[idx].set_title(f\"{year} CE\", fontsize=30, pad=10)\n",
    "    ax[idx].set_xlim(df_tsne.x_c.min() - 0.2, df_tsne.x_c.max() + 0.2)\n",
    "    ax[idx].set_ylim(df_tsne.y_c.min(), df_tsne.y_c.max())\n",
    "    ax[idx].get_xaxis().set_visible(False)\n",
    "    ax[idx].get_yaxis().set_visible(False)\n",
    "\n",
    "ax[7].get_xaxis().set_visible(False)\n",
    "ax[7].get_yaxis().set_visible(False)\n",
    "\n",
    "plt.tight_layout()\n",
    "plt.savefig(f'/home/jinny/projects/Art-history/Art-history/graph/supple/si06_c00.png',bbox_inches='tight',transparent = True,dpi=600)"
   ]
  },
  {
   "cell_type": "markdown",
   "id": "e53b6a6d-f815-4243-acfe-cc34dad43879",
   "metadata": {},
   "source": [
    "### style"
   ]
  },
  {
   "cell_type": "code",
   "execution_count": null,
   "id": "fc251b92-cf1d-4955-8f80-4a02b085ea59",
   "metadata": {},
   "outputs": [],
   "source": [
    "import matplotlib.colors as mcolors\n",
    "\n",
    "palette = sns.color_palette(\"Paired\") \n",
    "palette[2] = mcolors.to_rgb('#A09317')\n",
    "palette[8] = mcolors.to_rgb('#872600')"
   ]
  },
  {
   "cell_type": "code",
   "execution_count": null,
   "id": "8ebbe0fe-e8ba-4490-bf59-0e578841aeb3",
   "metadata": {},
   "outputs": [],
   "source": [
    "import matplotlib.pyplot as plt\n",
    "import seaborn as sns\n",
    "\n",
    "# 그래프와 축 설정 (constrained_layout 제거)\n",
    "fig, ax = plt.subplots(2, 5, figsize=(21, 7))\n",
    "ax = ax.reshape(-1)\n",
    "\n",
    "# 축 설정 (배경, 테두리 등)\n",
    "for i in range(2):\n",
    "    ax[i].patch.set_facecolor('white')\n",
    "    for spine in ax[i].spines.values():\n",
    "        spine.set_color('black')\n",
    "        spine.set_linewidth(0.8)\n",
    "\n",
    "# 스타일 리스트\n",
    "styless = ['Northern Renaissance (1510)', 'Baroque (1630)', 'Rococo (1780)', 'Romanticism (1820)',\n",
    "           'Realism (1880)', 'Impressionism (1880)', 'Post-Impressionism (1880)', 'Symbolism (1900)', 'Art Nouveau (Modern) (1910)',\n",
    "           'Expressionism (1910)']\n",
    "\n",
    "for idx,style in enumerate(styless) :\n",
    "    sns.scatterplot(x='x_a', y='y_a', data=df_tsne_style, s=1, alpha=0.03, color='gray', edgecolor=None, ax=ax[idx])\n",
    "    temp = df_tsne_style10[df_tsne_style10['Style_Peak_year']==style]\n",
    "    sns.scatterplot(x='x_a', y='y_a', data=temp, alpha=0.6, hue_order=styless, s=2, edgecolor=None, ax=ax[idx], color=palette[idx])\n",
    "    \n",
    "    ax[idx].set_title(f\"{style}\", fontsize=20, pad=10)\n",
    "    ax[idx].set_xlim(df_tsne.x_a.min() - 0.2, df_tsne.x_a.max() + 0.2)\n",
    "    ax[idx].set_ylim(df_tsne.y_a.min(), df_tsne.y_a.max())\n",
    "    ax[idx].get_xaxis().set_visible(False)\n",
    "    ax[idx].get_yaxis().set_visible(False)\n",
    "\n",
    "plt.tight_layout()\n",
    "plt.savefig(f'/home/jinny/projects/Art-history/Art-history/graph/supple/si06_a1.png',bbox_inches='tight',transparent = True,dpi=600)"
   ]
  },
  {
   "cell_type": "code",
   "execution_count": null,
   "id": "b03cea2d-1cdf-4f22-b024-892090fc5fac",
   "metadata": {},
   "outputs": [],
   "source": [
    "import matplotlib.pyplot as plt\n",
    "import seaborn as sns\n",
    "\n",
    "# 그래프와 축 설정 (constrained_layout 제거)\n",
    "fig, ax = plt.subplots(2, 5, figsize=(21, 7))\n",
    "ax = ax.reshape(-1)\n",
    "\n",
    "# 축 설정 (배경, 테두리 등)\n",
    "for i in range(2):\n",
    "    ax[i].patch.set_facecolor('white')\n",
    "    for spine in ax[i].spines.values():\n",
    "        spine.set_color('black')\n",
    "        spine.set_linewidth(0.8)\n",
    "\n",
    "# 스타일 리스트\n",
    "styless = ['Northern Renaissance (1510)', 'Baroque (1630)', 'Rococo (1780)', 'Romanticism (1820)',\n",
    "           'Realism (1880)', 'Impressionism (1880)', 'Post-Impressionism (1880)', 'Symbolism (1900)', 'Art Nouveau (Modern) (1910)',\n",
    "           'Expressionism (1910)']\n",
    "\n",
    "for idx,style in enumerate(styless) :\n",
    "    sns.scatterplot(x='x_c', y='y_c', data=df_tsne_style, s=1, alpha=0.03, color='gray', edgecolor=None, ax=ax[idx])\n",
    "    temp = df_tsne_style10[df_tsne_style10['Style_Peak_year']==style]\n",
    "    sns.scatterplot(x='x_c', y='y_c', data=temp, alpha=0.6, hue_order=styless, s=2, edgecolor=None, ax=ax[idx], color=palette[idx])\n",
    "    \n",
    "    ax[idx].set_title(f\"{style}\", fontsize=20, pad=10)\n",
    "    ax[idx].set_xlim(df_tsne.x_c.min() - 0.2, df_tsne.x_c.max() + 0.2)\n",
    "    ax[idx].set_ylim(df_tsne.y_c.min(), df_tsne.y_c.max())\n",
    "    ax[idx].get_xaxis().set_visible(False)\n",
    "    ax[idx].get_yaxis().set_visible(False)\n",
    "\n",
    "plt.tight_layout()\n",
    "plt.savefig(f'/home/jinny/projects/Art-history/Art-history/graph/supple/si06_c1.png',bbox_inches='tight',transparent = True,dpi=600)"
   ]
  },
  {
   "cell_type": "markdown",
   "id": "1cdbc2d3-8530-4bcb-a5e9-dff834d8bb60",
   "metadata": {},
   "source": [
    "### author"
   ]
  },
  {
   "cell_type": "code",
   "execution_count": null,
   "id": "29e5803b-5776-43b9-8ff8-9f7e821fd645",
   "metadata": {},
   "outputs": [],
   "source": [
    "df_tsne_author10 = df_tsne[df_tsne['author_name'].isin(target_authors_dic.keys())]\n",
    "df_tsne_author10['author_name_year'] = [target_authors_dic[i] for i in df_tsne_author10['author_name'] ]"
   ]
  },
  {
   "cell_type": "code",
   "execution_count": null,
   "id": "f4ae4db4-06b8-42fd-912c-4b5e2cfdecdf",
   "metadata": {},
   "outputs": [],
   "source": [
    "import matplotlib.pyplot as plt\n",
    "import seaborn as sns\n",
    "\n",
    "# 그래프와 축 설정 (constrained_layout 제거)\n",
    "fig, ax = plt.subplots(2, 5, figsize=(21, 7))\n",
    "ax = ax.reshape(-1)\n",
    "\n",
    "# 축 설정 (배경, 테두리 등)\n",
    "for i in range(2):\n",
    "    ax[i].patch.set_facecolor('white')\n",
    "    for spine in ax[i].spines.values():\n",
    "        spine.set_color('black')\n",
    "        spine.set_linewidth(0.8)\n",
    "\n",
    "for idx,author in enumerate(target_authors_dic.values()) :\n",
    "    sns.scatterplot(x='x_a', y='y_a', data=df_tsne_style, s=1, alpha=0.03, color='gray', edgecolor=None, ax=ax[idx])\n",
    "    temp = df_tsne_author10[df_tsne_author10['author_name_year']==author]\n",
    "    sns.scatterplot(x='x_a', y='y_a', data=temp, s=5, edgecolor=None, ax=ax[idx], color=palette[idx])\n",
    "    \n",
    "    ax[idx].set_title(f\"{author}\", fontsize=20, pad=10)\n",
    "    ax[idx].set_xlim(df_tsne.x_a.min() - 0.2, df_tsne.x_a.max() + 0.2)\n",
    "    ax[idx].set_ylim(df_tsne.y_a.min(), df_tsne.y_a.max())\n",
    "    ax[idx].get_xaxis().set_visible(False)\n",
    "    ax[idx].get_yaxis().set_visible(False)\n",
    "\n",
    "plt.tight_layout()\n",
    "plt.savefig(f'/home/jinny/projects/Art-history/Art-history/graph/supple/si06_a2.png',bbox_inches='tight',transparent = True,dpi=600)"
   ]
  },
  {
   "cell_type": "code",
   "execution_count": null,
   "id": "0c19cb35-fe16-4a73-9b3e-20dc5c474608",
   "metadata": {},
   "outputs": [],
   "source": [
    "import matplotlib.pyplot as plt\n",
    "import seaborn as sns\n",
    "\n",
    "# 그래프와 축 설정 (constrained_layout 제거)\n",
    "fig, ax = plt.subplots(2, 5, figsize=(21, 7))\n",
    "ax = ax.reshape(-1)\n",
    "\n",
    "# 축 설정 (배경, 테두리 등)\n",
    "for i in range(2):\n",
    "    ax[i].patch.set_facecolor('white')\n",
    "    for spine in ax[i].spines.values():\n",
    "        spine.set_color('black')\n",
    "        spine.set_linewidth(0.8)\n",
    "\n",
    "for idx,author in enumerate(target_authors_dic.values()) :\n",
    "    sns.scatterplot(x='x_c', y='y_c', data=df_tsne_style, s=1, alpha=0.03, color='gray', edgecolor=None, ax=ax[idx])\n",
    "    temp = df_tsne_author10[df_tsne_author10['author_name_year']==author]\n",
    "    sns.scatterplot(x='x_c', y='y_c', data=temp, s=5, edgecolor=None, ax=ax[idx], color=palette[idx])\n",
    "    \n",
    "    ax[idx].set_title(f\"{author}\", fontsize=20, pad=10)\n",
    "    ax[idx].set_xlim(df_tsne.x_c.min() - 0.2, df_tsne.x_c.max() + 0.2)\n",
    "    ax[idx].set_ylim(df_tsne.y_c.min(), df_tsne.y_c.max())\n",
    "    ax[idx].get_xaxis().set_visible(False)\n",
    "    ax[idx].get_yaxis().set_visible(False)\n",
    "\n",
    "plt.tight_layout()\n",
    "plt.savefig(f'/home/jinny/projects/Art-history/Art-history/graph/supple/si06_c2.png',bbox_inches='tight',transparent = True,dpi=600)"
   ]
  },
  {
   "cell_type": "markdown",
   "id": "d565b4df-e831-4d1b-a1e2-eddca05832af",
   "metadata": {},
   "source": [
    "## 03. 벡터 거리 계산"
   ]
  },
  {
   "cell_type": "markdown",
   "id": "c800ed6c-2052-4c69-b51a-8f285e7841d1",
   "metadata": {},
   "source": [
    "### avec author"
   ]
  },
  {
   "cell_type": "code",
   "execution_count": null,
   "id": "140b5e1c-b132-411a-93f5-3278cb7904e2",
   "metadata": {},
   "outputs": [],
   "source": [
    "from sklearn.metrics.pairwise import euclidean_distances\n",
    "from scipy.spatial.distance import pdist, squareform\n",
    "from joblib import Parallel, delayed\n",
    "import random\n",
    "import time"
   ]
  },
  {
   "cell_type": "code",
   "execution_count": null,
   "id": "be530dca-f2bc-4232-97fe-96d2fc06a7f9",
   "metadata": {},
   "outputs": [],
   "source": [
    "## all vector\n",
    "n_chunks = 100\n",
    "def chunked_pdist(data_chunk):\n",
    "    return pdist(data_chunk, metric='euclidean')\n",
    "    \n",
    "temp = np.array(list(file_info_latents['avec']))\n",
    "temp = np.array_split(temp, n_chunks)"
   ]
  },
  {
   "cell_type": "raw",
   "id": "1d353896-f651-44f7-8baa-eeac888bcc01",
   "metadata": {},
   "source": [
    "%%time\n",
    "avec_all = np.hstack(Parallel(n_jobs=-1)(delayed(chunked_pdist)(chunk) for chunk in temp))"
   ]
  },
  {
   "cell_type": "raw",
   "id": "fde0d350-7cc2-41e1-89f1-ff2847895bb5",
   "metadata": {},
   "source": [
    "%%time\n",
    "\n",
    "## same author\n",
    "avec_sauthor = list()\n",
    "\n",
    "for author in tqdm(file_info_latents['author_name'].dropna().unique()) :\n",
    "    temp = np.array(list(file_info_latents['avec'][file_info_latents['author_name']==author])) \n",
    "    if len(temp)!=1 :\n",
    "        avec_sauthor.extend(pdist(temp, metric='euclidean'))"
   ]
  },
  {
   "cell_type": "raw",
   "id": "b7cb44b5-10ee-482b-84ef-4d5b92d22cef",
   "metadata": {},
   "source": [
    "%%time\n",
    "\n",
    "## diffrent author\n",
    "avec_dauthor = list()\n",
    "\n",
    "df_temp = file_info_latents.copy()\n",
    "for author in tqdm(file_info_latents['author_name'].dropna().unique()[:-1]) :\n",
    "    tempx = np.array(list(file_info_latents['avec'][file_info_latents['author_name']==author]))\n",
    "    if len(df_temp[df_temp['author_name']!=author])>1000 :\n",
    "        tempy = np.array(list(df_temp['avec'][df_temp['author_name']!=author].sample(n=1000)))\n",
    "    else : tempy = np.array(list(df_temp['avec'][df_temp['author_name']!=author]))\n",
    "\n",
    "    df_temp = df_temp[df_temp['author_name']!=author]\n",
    "    avec_dauthor.extend(euclidean_distances(tempx, tempy).reshape(-1))"
   ]
  },
  {
   "cell_type": "raw",
   "id": "5eecee0d-3c3e-4440-8344-243a56d9fc48",
   "metadata": {},
   "source": [
    "np.save(base_path+'vectors/distance/avec_all.npy', avec_all) \n",
    "np.save(base_path+'vectors/distance/avec_sauthor.npy', avec_sauthor) \n",
    "np.save(base_path+'vectors/distance/avec_dauthor.npy', avec_dauthor) "
   ]
  },
  {
   "cell_type": "code",
   "execution_count": null,
   "id": "c7d3d222-39c2-495a-b0de-09c9b29ffd51",
   "metadata": {},
   "outputs": [],
   "source": [
    "avec_all = np.load(base_path+'vectors/distance/avec_all.npy') \n",
    "avec_sauthor = np.load(base_path+'vectors/distance/avec_sauthor.npy') \n",
    "avec_dauthor = np.load(base_path+'vectors/distance/avec_dauthor.npy') "
   ]
  },
  {
   "cell_type": "code",
   "execution_count": null,
   "id": "a0f9b14c-4106-43df-af4a-c9fa4a28de10",
   "metadata": {},
   "outputs": [],
   "source": [
    "avec_all_mean = np.array(avec_all).mean()\n",
    "avec_sauthor_mean = np.array(avec_sauthor).mean()\n",
    "avec_dauthor_mean = np.array(avec_dauthor).mean()\n",
    "\n",
    "avec_all_var = np.array(avec_all).var()\n",
    "avec_sauthor_var = np.array(avec_sauthor).var()\n",
    "avec_dauthor_var = np.array(avec_dauthor).var()\n",
    "\n",
    "print(f'avec all - var : {avec_all_var} mean : {avec_all_mean}')\n",
    "print(f'avec same author - var : {avec_sauthor_var} mean : {avec_sauthor_mean}')\n",
    "print(f'avec different author - var : {avec_dauthor_var} mean : {avec_dauthor_mean}')"
   ]
  },
  {
   "cell_type": "code",
   "execution_count": null,
   "id": "bce768ef-9a08-4621-beef-06b17de81298",
   "metadata": {
    "tags": []
   },
   "outputs": [],
   "source": [
    "s = time.time()\n",
    "fig = plt.figure(figsize=(10,6))\n",
    "ax = fig.add_subplot()\n",
    "\n",
    "## stat=\"density\"\n",
    "\n",
    "sns.distplot(avec_all,color='#5D5D5D', hist=False)\n",
    "ax.vlines(avec_all_mean,0, 0.03, color='#000000', linestyle='solid', linewidth=1)\n",
    "\n",
    "sns.distplot(avec_sauthor,color='#F15F5F', hist=False)\n",
    "ax.vlines(avec_sauthor_mean, 0,0.03, color='#CC3D3D', linestyle='solid', linewidth=1)\n",
    "\n",
    "sns.distplot(avec_dauthor,color='#6799FF', hist=False)\n",
    "ax.vlines(avec_dauthor_mean, 0,0.03, color='#342FC7', linestyle='solid', linewidth=1)\n",
    "\n",
    "ax.set_title(\"A-vector Artist Distribution\",size=34 )\n",
    "ax.set_xlabel(\"Euclidean distance\",size=28)\n",
    "ax.set_ylabel(\"Density\",size=28)\n",
    "ax.set_xlim(50,310)\n",
    "ax.set_yticklabels(ax.get_yticklabels(),size=22)\n",
    "ax.set_xticklabels(ax.get_xticklabels(),size=22)\n",
    "\n",
    "print('time :',time.time()-s)\n",
    "\n",
    "plt.savefig(f'/home/jinny/projects/Art-history/Art-history/graph/supple/si07_a1.svg')"
   ]
  },
  {
   "cell_type": "code",
   "execution_count": null,
   "id": "c333ad21-7df1-49a7-b620-441a09488296",
   "metadata": {},
   "outputs": [],
   "source": [
    "from scipy.stats import ks_2samp\n",
    "\n",
    "# avec_all vs avec_sauthor 비교\n",
    "ks_stat, p_value = ks_2samp(avec_all, avec_sauthor)\n",
    "print(f\"all & same author - KS-statistic: {ks_stat}, p-value: {p_value}\")\n",
    "\n",
    "# avec_all vs avec_dauthor 비교\n",
    "ks_stat, p_value = ks_2samp(avec_all, avec_dauthor)\n",
    "print(f\"all & diffrent author - KS-statistic: {ks_stat}, p-value: {p_value}\")\n",
    "\n",
    "# avec_sauthor vs avec_dauthor 비교\n",
    "ks_stat, p_value = ks_2samp(avec_sauthor, avec_dauthor)\n",
    "print(f\"same author & diffrent author - KS-statistic: {ks_stat}, p-value: {p_value}\")"
   ]
  },
  {
   "cell_type": "markdown",
   "id": "058b50fb-6a0b-4a02-bc9e-10b18118fe38",
   "metadata": {},
   "source": [
    "### avec style"
   ]
  },
  {
   "cell_type": "raw",
   "id": "cd26cc03-6a2d-4fe4-a561-058c38dd48c1",
   "metadata": {},
   "source": [
    "s_file_info_latents = file_info_latents[~file_info_latents['Style'].str.contains(',',na=False)]"
   ]
  },
  {
   "cell_type": "raw",
   "id": "e9b49db2-e801-4c40-9054-8cc083e6bec0",
   "metadata": {},
   "source": [
    "%%time\n",
    "\n",
    "## same style\n",
    "avec_sstyle = list()\n",
    "n_chunks = 5\n",
    "\n",
    "for style in tqdm(s_file_info_latents['Style'].value_counts()[s_file_info_latents['Style'].value_counts()>1].keys()) :\n",
    "    temp = np.array(list(s_file_info_latents['avec'][s_file_info_latents['Style']==style]))\n",
    "    temp = np.array_split(temp, n_chunks)\n",
    "    avec_sstyle.extend(np.hstack(Parallel(n_jobs=-1)(delayed(chunked_pdist)(chunk) for chunk in temp)))"
   ]
  },
  {
   "cell_type": "raw",
   "id": "7f017156-ec9c-4514-809e-a2c814af3077",
   "metadata": {},
   "source": [
    "%%time\n",
    "\n",
    "## diffrent author\n",
    "avec_dstyle = list()\n",
    "\n",
    "df_temp = s_file_info_latents.copy()\n",
    "for sytle in tqdm(s_file_info_latents['Style'].dropna().unique()[:-1]) :\n",
    "    tempx = np.array(list(s_file_info_latents['avec'][s_file_info_latents['Style']==style]))\n",
    "    if len(df_temp[df_temp['Style']!=sytle])>1000 :\n",
    "        sample_num = int(len(df_temp[df_temp['Style']!=style])*0.6)\n",
    "        tempy = np.array(list(df_temp['avec'][df_temp['Style']!=style].sample(sample_num)))\n",
    "    else : tempy = np.array(list(df_temp['avec'][df_temp['Style']!=style]))\n",
    "\n",
    "    df_temp = df_temp[df_temp['Style']!=sytle]\n",
    "    avec_dstyle.extend(euclidean_distances(tempx, tempy).reshape(-1))"
   ]
  },
  {
   "cell_type": "raw",
   "id": "08df507e-c55e-4501-abde-969d8422447c",
   "metadata": {},
   "source": [
    "np.save(base_path+'vectors/distance/avec_sstyle.npy', avec_sstyle) \n",
    "np.save(base_path+'vectors/distance/avec_dstyle.npy', avec_dstyle) "
   ]
  },
  {
   "cell_type": "code",
   "execution_count": null,
   "id": "7ed684e0-b4d7-4e05-b3cb-8efb2a8a07ec",
   "metadata": {},
   "outputs": [],
   "source": [
    "avec_sstyle = np.load(base_path+'vectors/distance/avec_sstyle.npy') \n",
    "avec_dstyle = np.load(base_path+'vectors/distance/avec_dstyle.npy') "
   ]
  },
  {
   "cell_type": "code",
   "execution_count": null,
   "id": "3f63aae9-80e9-4d40-bb25-e0ed6455b9b8",
   "metadata": {},
   "outputs": [],
   "source": [
    "avec_all_mean = np.array(avec_all).mean()\n",
    "avec_sstyle_mean = np.array(avec_sstyle).mean()\n",
    "avec_dstyle_mean = np.array(avec_dstyle).mean()\n",
    "\n",
    "avec_all_var = np.array(avec_all).var()\n",
    "avec_sstyle_var = np.array(avec_sstyle).var()\n",
    "avec_dstyle_var = np.array(avec_dstyle).var()\n",
    "\n",
    "print(f'avec all - var : {avec_all_var} mean : {avec_all_mean}')\n",
    "print(f'avec same style - var : {avec_sstyle_var} mean : {avec_sstyle_mean}')\n",
    "print(f'avec different style - var : {avec_dstyle_var} mean : {avec_dstyle_mean}')"
   ]
  },
  {
   "cell_type": "code",
   "execution_count": null,
   "id": "9389e8fa-7d36-4a8b-94ac-0635c8860407",
   "metadata": {
    "tags": []
   },
   "outputs": [],
   "source": [
    "fig = plt.figure(figsize=(10,6))\n",
    "ax = fig.add_subplot()\n",
    "\n",
    "sns.distplot(avec_all,color='#5D5D5D', hist=False)\n",
    "ax.vlines(avec_all_mean,0, 0.03, color='#000000', linestyle='solid', linewidth=1)\n",
    "\n",
    "sns.distplot(avec_sstyle,color='#F15F5F', hist=False)\n",
    "ax.vlines(avec_sstyle_mean, 0,0.03, color='#CC3D3D', linestyle='solid', linewidth=1)\n",
    "\n",
    "sns.distplot(avec_dstyle,color='#6799FF', hist=False)\n",
    "ax.vlines(avec_dstyle_mean, 0,0.03, color='#342FC7', linestyle='solid', linewidth=1)\n",
    "\n",
    "ax.set_title(\"A-vector Style Period Distribution\",size=34 )\n",
    "ax.set_xlabel(\"Euclidean distance\",size=28)\n",
    "ax.set_ylabel(\"Density\",size=28)\n",
    "ax.set_xlim(50,310)\n",
    "ax.set_yticklabels(ax.get_yticklabels(),size=22)\n",
    "ax.set_xticklabels(ax.get_xticklabels(),size=22)\n",
    "\n",
    "plt.savefig(f'/home/jinny/projects/Art-history/Art-history/graph/supple/si07_a2.svg')"
   ]
  },
  {
   "cell_type": "code",
   "execution_count": null,
   "id": "901a5bb7-148f-424c-b29f-3b139fb4ddb8",
   "metadata": {},
   "outputs": [],
   "source": [
    "from scipy.stats import ks_2samp\n",
    "\n",
    "ks_stat, p_value = ks_2samp(avec_all, avec_sstyle)\n",
    "print(f\"all & same style - KS-statistic: {ks_stat}, p-value: {p_value}\")\n",
    "\n",
    "ks_stat, p_value = ks_2samp(avec_all, avec_dstyle)\n",
    "print(f\"all & diffrent style - KS-statistic: {ks_stat}, p-value: {p_value}\")\n",
    "\n",
    "ks_stat, p_value = ks_2samp(avec_sstyle, avec_dstyle)\n",
    "print(f\"same style & diffrent style - KS-statistic: {ks_stat}, p-value: {p_value}\")"
   ]
  },
  {
   "cell_type": "markdown",
   "id": "e89f5ffa-b101-4e30-9fb9-4d54362adb38",
   "metadata": {},
   "source": [
    "### cvec author"
   ]
  },
  {
   "cell_type": "code",
   "execution_count": null,
   "id": "af2cf8bf-61a0-4197-9840-a407ab997fcd",
   "metadata": {},
   "outputs": [],
   "source": [
    "from sklearn.metrics.pairwise import euclidean_distances\n",
    "from scipy.spatial.distance import pdist, squareform\n",
    "from joblib import Parallel, delayed\n",
    "import random\n",
    "import time"
   ]
  },
  {
   "cell_type": "code",
   "execution_count": null,
   "id": "d16b5216-7e72-432d-8916-a41c50269a31",
   "metadata": {},
   "outputs": [],
   "source": [
    "## all vector\n",
    "n_chunks = 100\n",
    "def chunked_pdist(data_chunk):\n",
    "    return pdist(data_chunk, metric='euclidean')\n",
    "    \n",
    "temp = np.array(list(file_info_latents['cvec']))\n",
    "temp = np.array_split(temp, n_chunks)"
   ]
  },
  {
   "cell_type": "raw",
   "id": "77755672-0215-4ad1-ae75-d857d5fb9749",
   "metadata": {},
   "source": [
    "%%time\n",
    "cvec_all = np.hstack(Parallel(n_jobs=-1)(delayed(chunked_pdist)(chunk) for chunk in temp))"
   ]
  },
  {
   "cell_type": "raw",
   "id": "7b49141c-796c-4e57-8b02-09b2ce48025a",
   "metadata": {},
   "source": [
    "%%time\n",
    "\n",
    "## same author\n",
    "cvec_sauthor = list()\n",
    "\n",
    "for author in tqdm(file_info_latents['author_name'].dropna().unique()) :\n",
    "    temp = np.array(list(file_info_latents['cvec'][file_info_latents['author_name']==author])) \n",
    "    if len(temp)!=1 :\n",
    "        cvec_sauthor.extend(pdist(temp, metric='euclidean'))"
   ]
  },
  {
   "cell_type": "raw",
   "id": "557197ae-b4c3-4c50-b6ad-f6adf933adab",
   "metadata": {},
   "source": [
    "%%time\n",
    "\n",
    "## diffrent author\n",
    "cvec_dauthor = list()\n",
    "\n",
    "df_temp = file_info_latents.copy()\n",
    "for author in tqdm(file_info_latents['author_name'].dropna().unique()[:-1]) :\n",
    "    tempx = np.array(list(file_info_latents['cvec'][file_info_latents['author_name']==author]))\n",
    "    if len(df_temp[df_temp['author_name']!=author])>1000 :\n",
    "        tempy = np.array(list(df_temp['cvec'][df_temp['author_name']!=author].sample(n=1000)))\n",
    "    else : tempy = np.array(list(df_temp['cvec'][df_temp['author_name']!=author]))\n",
    "\n",
    "    df_temp = df_temp[df_temp['author_name']!=author]\n",
    "    cvec_dauthor.extend(euclidean_distances(tempx, tempy).reshape(-1))"
   ]
  },
  {
   "cell_type": "raw",
   "id": "86e75879-11e3-4d92-817e-21b934dcf5b3",
   "metadata": {},
   "source": [
    "np.save(base_path+'vectors/distance/cvec_all.npy', cvec_all) \n",
    "np.save(base_path+'vectors/distance/cvec_sauthor.npy', cvec_sauthor) \n",
    "np.save(base_path+'vectors/distance/cvec_dauthor.npy', cvec_dauthor) "
   ]
  },
  {
   "cell_type": "code",
   "execution_count": null,
   "id": "91fab2a1-d722-4a11-9935-fafa72a769c3",
   "metadata": {},
   "outputs": [],
   "source": [
    "cvec_all = np.load(base_path+'vectors/distance/cvec_all.npy') \n",
    "cvec_sauthor = np.load(base_path+'vectors/distance/cvec_sauthor.npy') \n",
    "cvec_dauthor = np.load(base_path+'vectors/distance/cvec_dauthor.npy') "
   ]
  },
  {
   "cell_type": "code",
   "execution_count": null,
   "id": "dceecf48-00d4-4642-84fc-fd31fd825fc1",
   "metadata": {},
   "outputs": [],
   "source": [
    "cvec_all_mean = np.array(cvec_all).mean()\n",
    "cvec_sauthor_mean = np.array(cvec_sauthor).mean()\n",
    "cvec_dauthor_mean = np.array(cvec_dauthor).mean()\n",
    "\n",
    "cvec_all_var = np.array(cvec_all).var()\n",
    "cvec_sauthor_var = np.array(cvec_sauthor).var()\n",
    "cvec_dauthor_var = np.array(cvec_dauthor).var()\n",
    "\n",
    "print(f'cvec all - var : {cvec_all_var} mean : {cvec_all_mean}')\n",
    "print(f'cvec same author - var : {cvec_sauthor_var} mean : {cvec_sauthor_mean}')\n",
    "print(f'cvec different author - var : {cvec_dauthor_var} mean : {cvec_dauthor_mean}')"
   ]
  },
  {
   "cell_type": "code",
   "execution_count": null,
   "id": "19d89611-2506-49e6-9a0e-66ebfd6bc456",
   "metadata": {
    "tags": []
   },
   "outputs": [],
   "source": [
    "s = time.time()\n",
    "fig = plt.figure(figsize=(10,6))\n",
    "ax = fig.add_subplot()\n",
    "\n",
    "## stat=\"density\"\n",
    "\n",
    "sns.distplot(cvec_all,color='#5D5D5D', hist=False)\n",
    "ax.vlines(cvec_all_mean,0, 5, color='#000000', linestyle='solid', linewidth=1)\n",
    "\n",
    "sns.distplot(cvec_sauthor,color='#F15F5F', hist=False)\n",
    "ax.vlines(cvec_sauthor_mean, 0,5, color='#CC3D3D', linestyle='solid', linewidth=1)\n",
    "\n",
    "sns.distplot(cvec_dauthor,color='#6799FF', hist=False)\n",
    "ax.vlines(cvec_dauthor_mean, 0,5, color='#342FC7', linestyle='solid', linewidth=1)\n",
    "\n",
    "ax.set_title(\"C-vector Artist Distribution\",size=34 )\n",
    "ax.set_xlabel(\"Euclidean distance\",size=28)\n",
    "ax.set_ylabel(\"Density\",size=28)\n",
    "ax.set_xlim(0,2)\n",
    "ax.set_yticklabels(ax.get_yticklabels(),size=22)\n",
    "ax.set_xticklabels(ax.get_xticklabels(),size=22)\n",
    "\n",
    "print('time :',time.time()-s)\n",
    "\n",
    "plt.savefig(f'/home/jinny/projects/Art-history/Art-history/graph/supple/si07_c1.svg')"
   ]
  },
  {
   "cell_type": "code",
   "execution_count": null,
   "id": "a859b8ea-bbf8-4932-a87b-9f798eb9baa8",
   "metadata": {},
   "outputs": [],
   "source": [
    "from scipy.stats import ks_2samp\n",
    "\n",
    "# cvec_all vs cvec_sauthor 비교\n",
    "ks_stat, p_value = ks_2samp(cvec_all, cvec_sauthor)\n",
    "print(f\"all & same author - KS-statistic: {ks_stat}, p-value: {p_value}\")\n",
    "\n",
    "# cvec_all vs cvec_dauthor 비교\n",
    "ks_stat, p_value = ks_2samp(cvec_all, cvec_dauthor)\n",
    "print(f\"all & diffrent author - KS-statistic: {ks_stat}, p-value: {p_value}\")\n",
    "\n",
    "# cvec_sauthor vs cvec_dauthor 비교\n",
    "ks_stat, p_value = ks_2samp(cvec_sauthor, cvec_dauthor)\n",
    "print(f\"same author & diffrent author - KS-statistic: {ks_stat}, p-value: {p_value}\")"
   ]
  },
  {
   "cell_type": "markdown",
   "id": "89f05678-96e7-43d1-a112-f2a02a8707ce",
   "metadata": {},
   "source": [
    "### avec style"
   ]
  },
  {
   "cell_type": "raw",
   "id": "f3860023-ffe2-48de-a3ff-e4f9c24b806a",
   "metadata": {},
   "source": [
    "s_file_info_latents = file_info_latents[~file_info_latents['Style'].str.contains(',',na=False)]"
   ]
  },
  {
   "cell_type": "raw",
   "id": "69485204-dc8e-4e4e-be67-fef0036c3531",
   "metadata": {},
   "source": [
    "%%time\n",
    "\n",
    "## same style\n",
    "cvec_sstyle = list()\n",
    "n_chunks = 5\n",
    "\n",
    "for style in tqdm(s_file_info_latents['Style'].value_counts()[s_file_info_latents['Style'].value_counts()>1].keys()) :\n",
    "    temp = np.array(list(s_file_info_latents['cvec'][s_file_info_latents['Style']==style]))\n",
    "    temp = np.array_split(temp, n_chunks)\n",
    "    cvec_sstyle.extend(np.hstack(Parallel(n_jobs=-1)(delayed(chunked_pdist)(chunk) for chunk in temp)))"
   ]
  },
  {
   "cell_type": "raw",
   "id": "34ac0801-d179-41c4-a0a5-4ee74e7c6d42",
   "metadata": {},
   "source": [
    "%%time\n",
    "\n",
    "## diffrent author\n",
    "cvec_dstyle = list()\n",
    "\n",
    "df_temp = s_file_info_latents.copy()\n",
    "for sytle in tqdm(s_file_info_latents['Style'].dropna().unique()[:-1]) :\n",
    "    tempx = np.array(list(s_file_info_latents['cvec'][s_file_info_latents['Style']==style]))\n",
    "    if len(df_temp[df_temp['Style']!=sytle])>1000 :\n",
    "        sample_num = int(len(df_temp[df_temp['Style']!=style])*0.6)\n",
    "        tempy = np.array(list(df_temp['cvec'][df_temp['Style']!=style].sample(sample_num)))\n",
    "    else : tempy = np.array(list(df_temp['cvec'][df_temp['Style']!=style]))\n",
    "\n",
    "    df_temp = df_temp[df_temp['Style']!=sytle]\n",
    "    cvec_dstyle.extend(euclidean_distances(tempx, tempy).reshape(-1))"
   ]
  },
  {
   "cell_type": "raw",
   "id": "c244748d-f7af-4de5-952a-17b0701758bc",
   "metadata": {},
   "source": [
    "np.save(base_path+'vectors/distance/cvec_sstyle.npy', cvec_sstyle) \n",
    "np.save(base_path+'vectors/distance/cvec_dstyle.npy', cvec_dstyle) "
   ]
  },
  {
   "cell_type": "code",
   "execution_count": null,
   "id": "dbbe3411-429a-4ad4-990a-e145362c05b3",
   "metadata": {},
   "outputs": [],
   "source": [
    "cvec_sstyle = np.load(base_path+'vectors/distance/cvec_sstyle.npy') \n",
    "cvec_dstyle = np.load(base_path+'vectors/distance/cvec_dstyle.npy') "
   ]
  },
  {
   "cell_type": "code",
   "execution_count": null,
   "id": "4a1bcb32-e488-4322-8fe4-25c1a4bf5157",
   "metadata": {},
   "outputs": [],
   "source": [
    "cvec_all_mean = np.array(cvec_all).mean()\n",
    "cvec_sstyle_mean = np.array(cvec_sstyle).mean()\n",
    "cvec_dstyle_mean = np.array(cvec_dstyle).mean()\n",
    "\n",
    "cvec_all_var = np.array(cvec_all).var()\n",
    "cvec_sstyle_var = np.array(cvec_sstyle).var()\n",
    "cvec_dstyle_var = np.array(cvec_dstyle).var()\n",
    "\n",
    "print(f'cvec all - var : {cvec_all_var} mean : {cvec_all_mean}')\n",
    "print(f'cvec same style - var : {cvec_sstyle_var} mean : {cvec_sstyle_mean}')\n",
    "print(f'cvec different style - var : {cvec_dstyle_var} mean : {cvec_dstyle_mean}')"
   ]
  },
  {
   "cell_type": "code",
   "execution_count": null,
   "id": "cc7ec0c5-7ab1-4e15-a029-1b1e1d895700",
   "metadata": {
    "tags": []
   },
   "outputs": [],
   "source": [
    "fig = plt.figure(figsize=(10,6))\n",
    "ax = fig.add_subplot()\n",
    "\n",
    "sns.distplot(cvec_all,color='#5D5D5D', hist=False)\n",
    "ax.vlines(cvec_all_mean,0, 6, color='#000000', linestyle='solid', linewidth=1)\n",
    "\n",
    "sns.distplot(cvec_sstyle,color='#F15F5F', hist=False)\n",
    "ax.vlines(cvec_sstyle_mean, 0,6, color='#CC3D3D', linestyle='solid', linewidth=1)\n",
    "\n",
    "sns.distplot(cvec_dstyle,color='#6799FF', hist=False)\n",
    "ax.vlines(cvec_dstyle_mean, 0,6, color='#342FC7', linestyle='solid', linewidth=1)\n",
    "\n",
    "ax.set_title(\"C-vector Style Period Distribution\",size=34 )\n",
    "ax.set_xlabel(\"Euclidean distance\",size=28)\n",
    "ax.set_ylabel(\"Density\",size=28)\n",
    "ax.set_xlim(0,2)\n",
    "ax.set_yticklabels(ax.get_yticklabels(),size=22)\n",
    "ax.set_xticklabels(ax.get_xticklabels(),size=22)\n",
    "\n",
    "plt.savefig(f'/home/jinny/projects/Art-history/Art-history/graph/supple/si07_c2.svg')"
   ]
  },
  {
   "cell_type": "code",
   "execution_count": null,
   "id": "f88d65ab-b56d-4f14-9c49-99728c034eb1",
   "metadata": {},
   "outputs": [],
   "source": [
    "from scipy.stats import ks_2samp\n",
    "\n",
    "# cvec_all vs cvec_sauthor 비교\n",
    "ks_stat, p_value = ks_2samp(cvec_all, cvec_sstyle)\n",
    "print(f\"all & same style - KS-statistic: {ks_stat}, p-value: {p_value}\")\n",
    "\n",
    "# cvec_all vs cvec_dauthor 비교\n",
    "ks_stat, p_value = ks_2samp(cvec_all, cvec_dstyle)\n",
    "print(f\"all & diffrent style - KS-statistic: {ks_stat}, p-value: {p_value}\")\n",
    "\n",
    "# cvec_sauthor vs cvec_dauthor 비교\n",
    "ks_stat, p_value = ks_2samp(cvec_sstyle, cvec_dstyle)\n",
    "print(f\"same style & diffrent style - KS-statistic: {ks_stat}, p-value: {p_value}\")"
   ]
  },
  {
   "cell_type": "code",
   "execution_count": null,
   "id": "b937738a-768d-467f-bd36-723b8705cde7",
   "metadata": {},
   "outputs": [],
   "source": []
  }
 ],
 "metadata": {
  "kernelspec": {
   "display_name": "history",
   "language": "python",
   "name": "history"
  },
  "language_info": {
   "codemirror_mode": {
    "name": "ipython",
    "version": 3
   },
   "file_extension": ".py",
   "mimetype": "text/x-python",
   "name": "python",
   "nbconvert_exporter": "python",
   "pygments_lexer": "ipython3",
   "version": "3.8.5"
  }
 },
 "nbformat": 4,
 "nbformat_minor": 5
}
