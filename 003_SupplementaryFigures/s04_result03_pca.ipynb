{
 "cells": [
  {
   "cell_type": "code",
   "execution_count": null,
   "id": "46abcae0-fb2d-4405-a563-7d080137b1b9",
   "metadata": {},
   "outputs": [],
   "source": [
    "import pandas as pd\n",
    "import numpy as np\n",
    "from tqdm import tqdm\n",
    "import math\n",
    "import umap\n",
    "\n",
    "import pandas as pd\n",
    "import numpy as np\n",
    "import matplotlib.pyplot as plt\n",
    "import seaborn as sns\n",
    "import umap\n",
    "from tqdm import tqdm\n",
    "\n",
    "import matplotlib.pyplot as plt\n",
    "import matplotlib.image as img\n",
    "from matplotlib.image import imread\n",
    "\n",
    "from PIL import Image,ImageOps\n",
    "\n",
    "from sklearn.decomposition import PCA\n",
    "\n",
    "from matplotlib.colors import Normalize\n",
    "from matplotlib.cm import ScalarMappable\n",
    "\n",
    "import torch"
   ]
  },
  {
   "cell_type": "code",
   "execution_count": null,
   "id": "7d40e8b8-ac1b-45b6-8c28-48d33f1b56f7",
   "metadata": {},
   "outputs": [],
   "source": [
    "import matplotlib.pyplot as plt \n",
    "plt.rcParams.update({\n",
    "    \"font.family\" : 'Arial',   # specify font family here\n",
    "    \"font.size\" : 12,\n",
    "    \"font.weight\" : \"normal\"})          # specify font size here"
   ]
  },
  {
   "cell_type": "code",
   "execution_count": null,
   "id": "36479478-b5d8-4f4d-b73f-e6d0cb1af0d7",
   "metadata": {},
   "outputs": [],
   "source": [
    "import warnings\n",
    "warnings.filterwarnings(action='ignore')"
   ]
  },
  {
   "cell_type": "code",
   "execution_count": null,
   "id": "c67f1036-34e1-4278-b985-96acc8220c2a",
   "metadata": {},
   "outputs": [],
   "source": [
    "base_path = '/home/jinny/projects/Art-history/Art-history/datas/'\n",
    "file_info = pd.read_csv(base_path+'file_info.csv')\n",
    "\n",
    "# file_info_latent\n",
    "df = pd.DataFrame(( np.load(base_path+'vectors/avec_latents.npy', allow_pickle=True)),columns=['avec','Path'])\n",
    "file_info_latents = pd.merge(file_info, df, how = 'left', on = 'Path')\n",
    "file_info_latents = file_info_latents[~file_info_latents.avec.isnull()]\n",
    "\n",
    "avec = np.array([i.reshape(-1) for i in file_info_latents['avec']])"
   ]
  },
  {
   "cell_type": "code",
   "execution_count": null,
   "id": "351824f3-5119-43e0-b188-ac2bdf9b712c",
   "metadata": {},
   "outputs": [],
   "source": [
    "df = pd.DataFrame(np.load(base_path+'vectors/cvec_latents.npy', allow_pickle=True),columns=['cvec','Path'])\n",
    "file_info_latents = pd.merge(file_info_latents, df, how = 'left', on = 'Path')\n",
    "\n",
    "cvec = np.array([i.reshape(-1) for i in file_info_latents['cvec']])"
   ]
  },
  {
   "cell_type": "code",
   "execution_count": null,
   "id": "d15564a5-5c80-4ab1-95ac-39e798cddbca",
   "metadata": {
    "tags": []
   },
   "outputs": [],
   "source": [
    "pca_avec = PCA(n_components=100,random_state=42)\n",
    "pca_fit = pca_avec.fit_transform(avec)\n",
    "pca_avec_df = pd.DataFrame(data=pca_fit)\n",
    "\n",
    "pca_avec_df.columns = ['avec_pc'+str(i+1) for i in range(100)]"
   ]
  },
  {
   "cell_type": "code",
   "execution_count": null,
   "id": "ac0d5507-68f9-4f82-9e8e-f2db81ec367c",
   "metadata": {
    "tags": []
   },
   "outputs": [],
   "source": [
    "pca_cvec = PCA(n_components=100,random_state=42)\n",
    "pca_fit = pca_cvec.fit_transform(cvec)\n",
    "pca_cvec_df = pd.DataFrame(data=pca_fit)\n",
    "\n",
    "pca_cvec_df.columns = ['cvec_pc'+str(i+1) for i in range(100)]"
   ]
  },
  {
   "cell_type": "code",
   "execution_count": null,
   "id": "316c4afe-02ab-4284-8b19-a1b684f61326",
   "metadata": {},
   "outputs": [],
   "source": [
    "file_info_latents = pd.concat([file_info_latents,pca_avec_df.iloc[:,:10]],axis=1)\n",
    "file_info_latents = pd.concat([file_info_latents,pca_cvec_df.iloc[:,:10]],axis=1)"
   ]
  },
  {
   "cell_type": "code",
   "execution_count": null,
   "id": "8f45b3a1-03de-4ddf-8126-0693b9a7a1c2",
   "metadata": {},
   "outputs": [],
   "source": [
    "temp_file_info_latents = file_info_latents[file_info_latents['new_date']>=1500].reset_index(drop=True)"
   ]
  },
  {
   "cell_type": "markdown",
   "id": "02a177f4-c1b5-4061-a410-2c3953117d1d",
   "metadata": {
    "jp-MarkdownHeadingCollapsed": true
   },
   "source": [
    "### pca value"
   ]
  },
  {
   "cell_type": "code",
   "execution_count": null,
   "id": "42be3d3b-daac-4bb0-af96-46ca6fc637c8",
   "metadata": {},
   "outputs": [],
   "source": [
    "a_eigen_variance = pca_avec.explained_variance_ratio_\n",
    "c_eigen_variance = pca_cvec.explained_variance_ratio_"
   ]
  },
  {
   "cell_type": "code",
   "execution_count": null,
   "id": "9b73e7c7-f67b-46b2-bcac-3112c9d0f77e",
   "metadata": {},
   "outputs": [],
   "source": [
    "import matplotlib.pyplot as plt\n",
    "plt.figure(figsize=(9,7))\n",
    "plt.scatter(np.arange(1,len(a_eigen_variance)+1),a_eigen_variance,s=10)\n",
    "plt.yscale('log')\n",
    "plt.xticks(fontsize=28)\n",
    "plt.yticks(fontsize=28)\n",
    "plt.title('A-vector eigen value',fontsize=34)\n",
    "plt.savefig(\n",
    "    f\"/home/jinny/projects/Art-history/Art-history/graph/supple/si09_avec.svg\",\n",
    "    bbox_inches=\"tight\",\n",
    "    transparent=True,\n",
    "    dpi=600,\n",
    ")\n",
    "plt.show()"
   ]
  },
  {
   "cell_type": "code",
   "execution_count": null,
   "id": "4d830a44-03e5-4084-936c-07c69c918209",
   "metadata": {},
   "outputs": [],
   "source": [
    "a_eigen_variance[:10]"
   ]
  },
  {
   "cell_type": "code",
   "execution_count": null,
   "id": "8c20e022-1d9e-47e1-8f7a-aa5d5ee1d87e",
   "metadata": {},
   "outputs": [],
   "source": [
    "import matplotlib.pyplot as plt\n",
    "plt.figure(figsize=(9,7))\n",
    "plt.scatter(np.arange(1,len(c_eigen_variance)+1),c_eigen_variance,s=10)\n",
    "plt.yscale('log')\n",
    "plt.xticks(fontsize=28)\n",
    "plt.yticks(fontsize=28)\n",
    "plt.title('C-vector eigen value',fontsize=34)\n",
    "plt.savefig(\n",
    "    f\"/home/jinny/projects/Art-history/Art-history/graph/supple/si09_cvec.svg\",\n",
    "    bbox_inches=\"tight\",\n",
    "    transparent=True,\n",
    "    dpi=600,\n",
    ")\n",
    "plt.show()"
   ]
  },
  {
   "cell_type": "code",
   "execution_count": null,
   "id": "1295a880-2dca-4290-b138-a6b49cc24ef8",
   "metadata": {},
   "outputs": [],
   "source": [
    "c_eigen_variance[:10]"
   ]
  },
  {
   "cell_type": "markdown",
   "id": "3c28aa21-dda2-4e1c-b207-13680b22a0f3",
   "metadata": {},
   "source": [
    "### pca pc1 - pc10"
   ]
  },
  {
   "cell_type": "code",
   "execution_count": null,
   "id": "602b162d-d386-444b-9374-d565adedd105",
   "metadata": {},
   "outputs": [],
   "source": [
    "def make_pca_ridge(pc, vec, ticks):\n",
    "    sns.set(style=\"white\", rc={\"axes.facecolor\": (0, 0, 0, 0)})\n",
    "\n",
    "    # new_date 값을 내림차순으로 정렬\n",
    "    temp_file_info_latents_sorted = temp_file_info_latents.sort_values(by=\"new_date\", ascending=False)\n",
    "    unique_dates = sorted(temp_file_info_latents[\"new_date\"].unique())\n",
    "\n",
    "    # FacetGrid를 사용하여 데이터 분리 (내림차순 정렬된 데이터 사용)\n",
    "    g = sns.FacetGrid(\n",
    "        temp_file_info_latents,\n",
    "        row=\"new_date\",\n",
    "        hue=\"new_date\",\n",
    "        aspect=30,\n",
    "        height=0.2,\n",
    "        palette=\"Spectral_r\",\n",
    "        row_order=unique_dates,\n",
    "    )\n",
    "    years = list(temp_file_info_latents[\"new_date\"].unique())\n",
    "\n",
    "    # 각 능선에 KDE 플롯 추가\n",
    "    g.map(sns.kdeplot, f\"{vec}vec_pc{pc}\", clip_on=False, shade=True, alpha=1, lw=1, bw_adjust=0.5)\n",
    "    g.map(sns.kdeplot, f\"{vec}vec_pc{pc}\", clip_on=False, color=\"w\", lw=1.5, bw_adjust=0.5)\n",
    "\n",
    "    # 각 능선의 오버랩을 조정\n",
    "    g.map(plt.axhline, y=0, lw=2, clip_on=False)\n",
    "\n",
    "    # 그래프의 각 요소를 디자인\n",
    "    g.fig.subplots_adjust(hspace=-0.6)\n",
    "\n",
    "    # 범례 제거 및 기본 설정\n",
    "    g.set_titles(\"\")\n",
    "    g.set(yticks=[], ylabel=None, xlabel=None)\n",
    "    g.despine(bottom=True, left=True)\n",
    "\n",
    "    # # x축 수치 표시 - 마지막 subplot에만 적용\n",
    "    # for ax in g.axes[:-1].flat:\n",
    "    #     ax.set_xticks([])\n",
    "    \n",
    "    bottom_ax = g.axes[-1, 0]\n",
    "    bottom_ax.set_xticks(ticks,fontsize=25)  # x축 눈금을 설정\n",
    "    bottom_ax.set_xticklabels(ticks, fontsize=25)\n",
    "\n",
    "\n",
    "    # Colorbar 추가\n",
    "    norm = Normalize(\n",
    "        vmin=min([years.index(x) for x in temp_file_info_latents[\"new_date\"]]),\n",
    "        vmax=max([years.index(x) for x in temp_file_info_latents[\"new_date\"]]),\n",
    "    )\n",
    "    cbar_ax = g.fig.add_axes([0.95, 0.1, 0.03, 0.75])\n",
    "    sm = ScalarMappable(cmap=\"Spectral_r\", norm=norm)\n",
    "    sm.set_array([])\n",
    "    cbar = plt.colorbar(\n",
    "        sm, ax=g.axes.ravel().tolist(), cax=cbar_ax, orientation=\"vertical\", aspect=30, fraction=0.05\n",
    "    )\n",
    "    cbar.set_ticks([0, 25, 49])\n",
    "    cbar.set_ticklabels([1500, 1750, 1990], fontsize=36)\n",
    "    cbar.ax.invert_yaxis()\n",
    "\n",
    "    # 제목 추가\n",
    "    g.fig.suptitle(f\"PC{pc}\", fontsize=46, y=0.95, x=0.6)  # y로 타이틀 위치 조정\n",
    "    plt.savefig(\n",
    "        f\"/home/jinny/projects/Art-history/Art-history/graph/supple/si10_{vec}vec_pc{pc}.png\",\n",
    "        bbox_inches=\"tight\",\n",
    "        transparent=True,\n",
    "        dpi=600,\n",
    "    )\n",
    "    plt.show()\n"
   ]
  },
  {
   "cell_type": "code",
   "execution_count": null,
   "id": "151abb89-bd07-41b9-b791-aa7beaad1bc7",
   "metadata": {},
   "outputs": [],
   "source": [
    "num = 3\n",
    "print(pca_cvec_df[f'cvec_pc{num}'].min())\n",
    "print(pca_cvec_df[f'cvec_pc{num}'].max())"
   ]
  },
  {
   "cell_type": "code",
   "execution_count": null,
   "id": "c17803bf-918c-49e0-b881-2888e936d8cd",
   "metadata": {
    "scrolled": true
   },
   "outputs": [],
   "source": [
    "make_pca_ridge(3,'a',range(-110,111,55))\n",
    "make_pca_ridge(4,'a',range(-100,101,50))\n",
    "make_pca_ridge(5,'a',range(-120,121,60))\n",
    "make_pca_ridge(6,'a',range(-90,91,45))\n",
    "make_pca_ridge(7,'a',range(-120,121,60))\n",
    "make_pca_ridge(8,'a',range(-80,81,40))\n",
    "make_pca_ridge(9,'a',range(-80,81,40))\n",
    "make_pca_ridge(10,'a',range(-60,61,30))"
   ]
  },
  {
   "cell_type": "code",
   "execution_count": null,
   "id": "600f9c25-3cdb-454d-9e41-4930bf735135",
   "metadata": {
    "scrolled": true
   },
   "outputs": [],
   "source": [
    "make_pca_ridge(3,'c',np.arange(-0.5,0.51,0.25))\n",
    "make_pca_ridge(4,'c',np.arange(-0.5,0.51,0.25))\n",
    "make_pca_ridge(5,'c',np.arange(-0.5,0.51,0.25))\n",
    "make_pca_ridge(6,'c',np.arange(-0.5,0.51,0.25))\n",
    "make_pca_ridge(7,'c',np.arange(-0.5,0.51,0.25))\n",
    "make_pca_ridge(8,'c',np.arange(-0.5,0.51,0.25))\n",
    "make_pca_ridge(9,'c',np.arange(-0.5,0.51,0.25))\n",
    "make_pca_ridge(10,'c',np.arange(-0.5,0.51,0.25))"
   ]
  },
  {
   "cell_type": "code",
   "execution_count": null,
   "id": "117fa454-c1b9-43bb-9840-0dfd169b9113",
   "metadata": {},
   "outputs": [],
   "source": []
  },
  {
   "cell_type": "code",
   "execution_count": null,
   "id": "28fb93cd-0106-4cfd-937e-74b722134fb5",
   "metadata": {},
   "outputs": [],
   "source": []
  }
 ],
 "metadata": {
  "kernelspec": {
   "display_name": "history",
   "language": "python",
   "name": "history"
  },
  "language_info": {
   "codemirror_mode": {
    "name": "ipython",
    "version": 3
   },
   "file_extension": ".py",
   "mimetype": "text/x-python",
   "name": "python",
   "nbconvert_exporter": "python",
   "pygments_lexer": "ipython3",
   "version": "3.8.5"
  }
 },
 "nbformat": 4,
 "nbformat_minor": 5
}
