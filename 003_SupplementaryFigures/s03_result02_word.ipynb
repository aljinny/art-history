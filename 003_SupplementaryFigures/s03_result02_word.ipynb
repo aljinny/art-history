{
 "cells": [
  {
   "cell_type": "code",
   "execution_count": null,
   "id": "6625f750-20a3-4e1b-a907-689385e1bf54",
   "metadata": {},
   "outputs": [],
   "source": [
    "import pickle\n",
    "import pandas as pd\n",
    "from pandas import Series\n",
    "from tqdm import tqdm\n",
    "import seaborn as sns\n",
    "import numpy as np\n",
    "\n",
    "import matplotlib\n",
    "from matplotlib import pyplot as plt\n",
    "from matplotlib import font_manager as fm\n",
    "from matplotlib import rc\n",
    "\n",
    "from sklearn.preprocessing import normalize\n",
    "from sklearn.linear_model import LinearRegression"
   ]
  },
  {
   "cell_type": "code",
   "execution_count": null,
   "id": "cb15afa4-0940-470a-babb-803c25b6b9ef",
   "metadata": {},
   "outputs": [],
   "source": [
    "import matplotlib.pyplot as plt \n",
    "plt.rcParams.update({\n",
    "    \"font.family\" : 'Arial',   # specify font family here\n",
    "    \"font.size\" : 12,\n",
    "    \"font.weight\" : \"normal\"})          # specify font size here"
   ]
  },
  {
   "cell_type": "markdown",
   "id": "82ae6a43-af93-4db8-8db9-a4b66d20c71b",
   "metadata": {},
   "source": [
    "### 01. word table"
   ]
  },
  {
   "cell_type": "code",
   "execution_count": null,
   "id": "7fd62c09-cc51-44c0-aecd-83ac43fa6f71",
   "metadata": {},
   "outputs": [],
   "source": [
    "base_path= '/home/jinny/projects/Art-history/Art-history/datas/'\n",
    "\n",
    "df = pd.read_csv(base_path+'words/vocas_counting.csv')\n",
    "df_idx = pd.read_csv(base_path+'words/vocas.csv')\n",
    "df_norm = pd.DataFrame(normalize(df, norm='l1', axis=0), columns=df.columns)\n",
    "\n",
    "idx2word = dict(zip(df_idx['index'], df_idx['word']))\n",
    "wordidx2cnt = df.sum(axis=1)\n",
    "wordidx2cnt = wordidx2cnt.sort_values(ascending=0)\n",
    "word2idx = {v:k for k,v in idx2word.items()}"
   ]
  },
  {
   "cell_type": "code",
   "execution_count": null,
   "id": "35b691ff-275a-41ca-94a8-db03d30eebb4",
   "metadata": {},
   "outputs": [],
   "source": [
    "df_norm.columns = df_norm.columns.astype(int)\n",
    "\n",
    "# Initialize a linear regression model\n",
    "model = LinearRegression()\n",
    "\n",
    "# Store slopes (coefficients)\n",
    "slopes = []\n",
    "\n",
    "# Regress each word's frequencies against the years\n",
    "for index, row in df_norm.iterrows():\n",
    "\n",
    "    X = np.array(df_norm.columns).reshape(-1, 1)\n",
    "    y = row.values\n",
    "    \n",
    "    # Fit the linear regression model\n",
    "    model.fit(X, y)\n",
    "    \n",
    "    # Store the slope (coefficient)\n",
    "    slopes.append(model.coef_[0])\n",
    "\n",
    "df_norm['slope'] = slopes\n",
    "\n",
    "top_increasing = df_norm.sort_values(by='slope', ascending=False)\n",
    "top_decreasing = df_norm.sort_values(by='slope', ascending=True)"
   ]
  },
  {
   "cell_type": "code",
   "execution_count": null,
   "id": "013e2a86-71df-46a8-afd3-93ca1bc8d5a7",
   "metadata": {},
   "outputs": [],
   "source": [
    "# 색상 팔레트와 선 스타일 설정\n",
    "colors = plt.cm.tab20(np.linspace(0, 1, 25))  # 25개의 색상 생성\n",
    "linestyles = ['-', '--', '-.', ':']  # 다양한 선 스타일\n",
    "\n",
    "# 그래프 그리기\n",
    "plt.figure(figsize=(12, 8))\n",
    "for i, (index, row) in enumerate(top_increasing.head(25).iterrows()):\n",
    "    color = colors[i % len(colors)]\n",
    "    linestyle = linestyles[i % len(linestyles)]\n",
    "    plt.plot(row[:-1], label='%s' % (idx2word[index]), color=color, linestyle=linestyle)\n",
    "\n",
    "# 범례 설정\n",
    "plt.legend(bbox_to_anchor=(1.04, 1.02), fontsize=14, loc=\"upper left\")\n",
    "plt.title('Top increasing keywords', fontsize=30)\n",
    "plt.xlabel('year', fontsize=28)\n",
    "plt.ylabel('Normalized frequency', fontsize=28)\n",
    "\n",
    "plt.tick_params(axis='y', labelsize=20)\n",
    "plt.tick_params(axis='x', labelsize=20)\n",
    "\n",
    "\n",
    "plt.savefig(f'/home/jinny/projects/Art-history/Art-history/graph/supple/si08_a.svg')\n",
    "plt.show()\n"
   ]
  },
  {
   "cell_type": "code",
   "execution_count": null,
   "id": "b6eaba00-e097-47c3-9573-fde057511f13",
   "metadata": {},
   "outputs": [],
   "source": [
    "# 색상 팔레트와 선 스타일 설정\n",
    "colors = plt.cm.tab20(np.linspace(0, 1, 25))  # 25개의 색상 생성\n",
    "linestyles = ['-', '--', '-.', ':']  # 다양한 선 스타일\n",
    "\n",
    "# 그래프 그리기\n",
    "plt.figure(figsize=(12, 8))\n",
    "for i, (index, row) in enumerate(top_decreasing.head(25).iterrows()):\n",
    "    color = colors[i % len(colors)]\n",
    "    linestyle = linestyles[i % len(linestyles)]\n",
    "    plt.plot(row[:-1], label='%s' % (idx2word[index]), color=color, linestyle=linestyle)\n",
    "\n",
    "# 범례 설정\n",
    "plt.legend(bbox_to_anchor=(1.04, 1.02), fontsize=14, loc=\"upper left\")\n",
    "plt.title('Top decreasing keywords', fontsize=30)\n",
    "plt.xlabel('year', fontsize=28)\n",
    "plt.ylabel('Normalized frequency', fontsize=28)\n",
    "\n",
    "plt.tick_params(axis='y', labelsize=20)\n",
    "plt.tick_params(axis='x', labelsize=20)\n",
    "\n",
    "\n",
    "plt.savefig(f'/home/jinny/projects/Art-history/Art-history/graph/supple/si08_b.svg')\n",
    "plt.show()\n"
   ]
  },
  {
   "cell_type": "code",
   "execution_count": null,
   "id": "3036534c-54c9-4019-ad1f-a0d7be19f9b9",
   "metadata": {},
   "outputs": [],
   "source": [
    "top_i_100 = [[idx2word[i],top_increasing['slope'].values[idx]] for idx,i in enumerate(top_increasing[:100].index) ]\n",
    "top_i_100 = pd.DataFrame(top_i_100,columns=['word', 'slope'])\n",
    "\n",
    "top_d_100 = [[idx2word[i],top_decreasing['slope'].values[idx]] for idx,i in enumerate(top_decreasing[:100].index) ]\n",
    "top_d_100 = pd.DataFrame(top_d_100,columns=['word', 'slope'])"
   ]
  },
  {
   "cell_type": "code",
   "execution_count": null,
   "id": "7a9de682-6189-4a5e-b194-f7e61ea2cee5",
   "metadata": {
    "scrolled": true
   },
   "outputs": [],
   "source": [
    "pd.DataFrame(top_i_100).to_csv('graph/supple/top_i_100.csv')\n",
    "pd.DataFrame(top_d_100).to_csv('graph/supple/top_d_100.csv')"
   ]
  },
  {
   "cell_type": "markdown",
   "id": "86f5db74-b04b-45ba-a4e9-9ba633c1c6f7",
   "metadata": {},
   "source": [
    "### 02. prompt keword"
   ]
  },
  {
   "cell_type": "code",
   "execution_count": null,
   "id": "c6133c66-ae06-458c-9107-4b808f7c8829",
   "metadata": {},
   "outputs": [],
   "source": [
    "import pickle\n",
    "with open('datas/words/tokens.pkl', 'rb') as file:\n",
    "    wby = pickle.load(file)"
   ]
  },
  {
   "cell_type": "code",
   "execution_count": null,
   "id": "c6e32a9c-f898-4b40-a00b-029a0ebaf2f4",
   "metadata": {},
   "outputs": [],
   "source": [
    "pd.DataFrame(wby).to_csv('graph/supple/prompt_keyword_77.csv')"
   ]
  },
  {
   "cell_type": "code",
   "execution_count": null,
   "id": "14f9043e-8ef6-4334-9fb6-96e44314887b",
   "metadata": {},
   "outputs": [],
   "source": []
  }
 ],
 "metadata": {
  "kernelspec": {
   "display_name": "history",
   "language": "python",
   "name": "history"
  },
  "language_info": {
   "codemirror_mode": {
    "name": "ipython",
    "version": 3
   },
   "file_extension": ".py",
   "mimetype": "text/x-python",
   "name": "python",
   "nbconvert_exporter": "python",
   "pygments_lexer": "ipython3",
   "version": "3.8.5"
  }
 },
 "nbformat": 4,
 "nbformat_minor": 5
}
