{
 "cells": [
  {
   "cell_type": "code",
   "execution_count": null,
   "id": "7f0a1d7c-b09e-421b-b22e-f14d787f332c",
   "metadata": {},
   "outputs": [],
   "source": [
    "import pandas as pd\n",
    "import numpy as np\n",
    "import matplotlib.pyplot as plt\n",
    "import seaborn as sns\n",
    "import umap\n",
    "from tqdm import tqdm\n",
    "\n",
    "import matplotlib.pyplot as plt\n",
    "import matplotlib.image as img\n",
    "from matplotlib.image import imread\n",
    "import matplotlib.font_manager as fm\n",
    "from mpl_toolkits.axes_grid1.inset_locator import inset_axes\n",
    "from matplotlib.patches import Rectangle\n",
    "\n",
    "import cv2\n",
    "import pickle"
   ]
  },
  {
   "cell_type": "code",
   "execution_count": null,
   "id": "52c58a37-b7ab-4dc9-9beb-5bed7ba37c25",
   "metadata": {},
   "outputs": [],
   "source": [
    "import matplotlib.pyplot as plt \n",
    "plt.rcParams.update({\n",
    "    \"font.family\" : 'Arial',   # specify font family here\n",
    "    \"font.size\" : 12,\n",
    "    \"font.weight\" : \"normal\"})          # specify font size here"
   ]
  },
  {
   "cell_type": "code",
   "execution_count": null,
   "id": "cf3162e5-1dd8-4766-b261-bc83fa0af4ec",
   "metadata": {},
   "outputs": [],
   "source": [
    "file_info = pd.read_csv('/home/jinny/projects/Art-history/Art-history/datas/file_info.csv')\n",
    "avec = np.load('/home/jinny/projects/Art-history/Art-history/datas/vectors/avec_latents.npy', allow_pickle=True)\n",
    "\n",
    "# file_info_latent\n",
    "df = pd.DataFrame((avec),columns=['latent','Path'])\n",
    "file_info_latents = pd.merge(file_info, df, how = 'left', on = 'Path')\n",
    "file_info_latents = file_info_latents[~file_info_latents.latent.isnull()]\n",
    "\n",
    "avec = np.array([i.reshape(-1) for i in file_info_latents['latent']])"
   ]
  },
  {
   "cell_type": "code",
   "execution_count": null,
   "id": "4922ed45-e5e8-4dd3-b88d-dd855cd3a173",
   "metadata": {},
   "outputs": [],
   "source": [
    "file_info['new_date'].value_counts()[-30:]\n",
    "paintings = dict()\n",
    "for i in [1500,1600,1700,1800,1900] :\n",
    "    years = [i+j*10 for j in range(10)]\n",
    "    paintings[i] = len(file_info[file_info['new_date'].isin(years)])"
   ]
  },
  {
   "cell_type": "markdown",
   "id": "cdb55556-bfb7-4ff6-bc96-3d506b636405",
   "metadata": {},
   "source": [
    "## 00. EDA"
   ]
  },
  {
   "cell_type": "code",
   "execution_count": null,
   "id": "bb57f85f-ec7a-4e34-b622-b2ab79a22027",
   "metadata": {},
   "outputs": [],
   "source": [
    "file_info_latents_1500 = file_info_latents[file_info_latents['new_date']>=1]"
   ]
  },
  {
   "cell_type": "code",
   "execution_count": null,
   "id": "32adcbf2-f0af-479e-8d48-a8c42fc0fef0",
   "metadata": {},
   "outputs": [],
   "source": [
    "print('Painting total :',len(file_info_latents_1500))"
   ]
  },
  {
   "cell_type": "code",
   "execution_count": null,
   "id": "8757ec6f-725d-4504-aaf7-25d23c112c86",
   "metadata": {},
   "outputs": [],
   "source": [
    "df_style_temp = file_info_latents_1500[['Style']]\n",
    "df_style_temp['Style'] = df_style_temp['Style'].fillna('')\n",
    "df_style_temp['new_style'] = df_style_temp['Style'].str.split(',')\n",
    "df_style_temp = df_style_temp.explode('new_style')\n",
    "\n",
    "print('Style period total :', df_style_temp['new_style'].nunique())"
   ]
  },
  {
   "cell_type": "code",
   "execution_count": null,
   "id": "1198c62b-45d2-4ae9-906b-6fe6b3cd6977",
   "metadata": {},
   "outputs": [],
   "source": [
    "df_artist_temp = file_info_latents_1500[['author_name']]\n",
    "df_artist_temp['author_name'] = df_artist_temp['author_name'].fillna('')\n",
    "df_artist_temp['new_author_name'] = df_artist_temp['author_name'].str.split(',')\n",
    "df_artist_temp = df_artist_temp.explode('new_author_name')\n",
    "\n",
    "print('Artist total :', df_artist_temp['new_author_name'].nunique())"
   ]
  },
  {
   "cell_type": "code",
   "execution_count": null,
   "id": "96827515-661b-4b99-a78e-0ba73ef4f5fb",
   "metadata": {},
   "outputs": [],
   "source": [
    "df_nationality_temp = file_info_latents_1500[['Nationality']]\n",
    "df_nationality_temp['Nationality'] = df_nationality_temp['Nationality'].fillna('')\n",
    "df_nationality_temp['new_nationality'] = df_nationality_temp['Nationality'].str.split(',')\n",
    "df_nationality_temp = df_nationality_temp.explode('new_nationality')\n",
    "\n",
    "print('Nationality total :', df_nationality_temp['new_nationality'].nunique())"
   ]
  },
  {
   "cell_type": "markdown",
   "id": "d69f50d4-1966-40f6-b2eb-e6551da3e879",
   "metadata": {},
   "source": [
    "## 01.statistics"
   ]
  },
  {
   "cell_type": "code",
   "execution_count": null,
   "id": "e95e19f8-08d7-406d-93f6-723b55a48f9b",
   "metadata": {},
   "outputs": [],
   "source": [
    "fig, ax = plt.subplots(3,1,figsize=(18, 20))\n",
    "ax = ax.reshape(-1)\n",
    "\n",
    "sns.countplot(x='new_date', data=file_info, order = sorted(file_info['new_date'].unique()), ax = ax[0],palette='Spectral' )\n",
    "ax[0].set_ylabel(\"Paintings\",size=38)\n",
    "ax[0].set_title('Frequency of Works by Decade',size=38)\n",
    "\n",
    "sns.countplot(x='new_date', data=file_info.drop_duplicates(subset=['new_date','author_name']), ax = ax[1],palette='Spectral')\n",
    "ax[1].set_ylabel(\"Artists\",size=38)\n",
    "ax[1].set_title(\"Frequency of Artists by Decade\",size=38)\n",
    "\n",
    "sns.countplot(x='new_date', data=file_info.drop_duplicates(subset=['new_date','Style']), ax = ax[2],palette='Spectral')\n",
    "ax[2].set_ylabel(\"Style perods\",size=38)\n",
    "ax[2].set_title(\"Frequency of Style periods by Decade\",size=38)\n",
    "\n",
    "for i in range(3) :\n",
    "    ax[i].set_xlabel(\" \")\n",
    "    ax[i].set_yticklabels(ax[i].get_yticklabels(),size=32)\n",
    "    ax[i].set_xticklabels(ax[i].get_xticklabels(),size=32)\n",
    "    ax[i].set_xticks([0,9,19,29,39,49,59,69])\n",
    "\n",
    "plt.tight_layout()\n",
    "plt.savefig(f'/home/jinny/projects/Art-history/Art-history/graph/supple/si01.svg')"
   ]
  },
  {
   "cell_type": "code",
   "execution_count": null,
   "id": "ce5ed323-6800-4584-a914-9333471c156c",
   "metadata": {
    "scrolled": true
   },
   "outputs": [],
   "source": [
    "#스타일 가중치 계산 및 대표 년도 추가\n",
    "df_newstyle = file_info['Style'].str.split(',', expand=True)\n",
    "df_newstyle = df_newstyle.melt(value_name='Style', ignore_index=False).dropna().drop(columns='variable')\n",
    "\n",
    "temp = file_info[['new_date','Style','painting_name']].drop(columns='Style').join(df_newstyle, how='left')\n",
    "temp['Weight'] = 1 / (temp.groupby('painting_name')['Style'].transform('count'))\n",
    "\n",
    "df_newstyle = temp.dropna(subset=['Style'])\n",
    "\n",
    "temp = df_newstyle.groupby('Style')['new_date'].agg(lambda x: x.mode().iloc[0]).reset_index()\n",
    "temp.rename(columns={'new_date': 'Peak_year'}, inplace=True)\n",
    "\n",
    "df_newstyle = df_newstyle.merge(temp, on='Style', how='left')\n",
    "\n",
    "style_peak_year = df_newstyle[['Style','Peak_year']]\n",
    "style_peak_year = style_peak_year.drop_duplicates()\n",
    "\n",
    "new_style = list()\n",
    "for i in df_newstyle['Style'] :\n",
    "    year = style_peak_year['Peak_year'][style_peak_year['Style']==i].values[0]\n",
    "    new_style.append(f'{i} ({year})')\n",
    "df_newstyle['Style_Peak_year'] = new_style"
   ]
  },
  {
   "cell_type": "code",
   "execution_count": null,
   "id": "05e20531-93ff-4da5-a086-c841d6b939a8",
   "metadata": {},
   "outputs": [],
   "source": [
    "fig, ax = plt.subplots(1,2,figsize=(16,7))\n",
    "ax = ax.reshape(-1)\n",
    "\n",
    "temp = file_info.groupby('author_name')[['painting_name']].count().sort_values('painting_name',ascending=False)\n",
    "ax[0].plot(temp)\n",
    "ax[0].set_title('Artists',size=34)\n",
    "\n",
    "temp = df_newstyle.groupby('Style')[['Weight']].sum().sort_values('Weight',ascending=False)\n",
    "ax[1].plot(temp)\n",
    "ax[1].set_title('Style periods',size=34)\n",
    "\n",
    "for i in range(2) :\n",
    "    ax[i].set_xlabel('Rank',size=28)\n",
    " \n",
    "    ax[i].set_ylabel('Frequency',size=28)\n",
    "    ax[i].set_yscale('log')\n",
    "    ax[i].set_yticklabels(ax[i].get_yticklabels(),size=28)\n",
    "    ax[i].set_xticklabels(ax[i].get_xticklabels(),size=28)\n",
    "ax[0].set_xticks(np.arange(0,2500,550),labels=np.arange(0,2500,550),size=28)\n",
    "ax[1].set_xticks(np.arange(0,135,30),labels=np.arange(0,135,30),size=28)\n",
    "plt.tight_layout() \n",
    "plt.savefig(f'/home/jinny/projects/Art-history/Art-history/graph/supple/si02.svg')"
   ]
  },
  {
   "cell_type": "code",
   "execution_count": null,
   "id": "1cd1cba9-7a60-431a-84f1-d968122dc1da",
   "metadata": {},
   "outputs": [],
   "source": [
    "new_style = list()\n",
    "for i in df_newstyle['Style'] :\n",
    "    year = style_peak_year['Style_Peak_year'][style_peak_year['Style']==i].values[0]\n",
    "    new_style.append(f'{i} ({year})')\n",
    "\n",
    "df_newstyle['new_style'] = new_style\n",
    "\n",
    "temp = df_newstyle[['Style_Peak_year','Weight']].groupby('Style_Peak_year').sum()\n",
    "temp = temp.sort_values(by='Weight', ascending=False)[:10].reset_index()"
   ]
  },
  {
   "cell_type": "code",
   "execution_count": null,
   "id": "423d8817-2284-4e70-8ecd-b1babc4f9378",
   "metadata": {},
   "outputs": [],
   "source": [
    "plt.figure(figsize=(20,6))\n",
    "ax = sns.barplot(x='Style_Peak_year',y='Weight', data=temp ,palette='Spectral')\n",
    "ax.set_ylabel(\"Counts\",size=30)\n",
    "ax.set_xlabel(\" \")\n",
    "ax.set_xticklabels(ax.get_xticklabels(),rotation=45,size=30)\n",
    "ax.set_yticklabels(ax.get_yticklabels(),size=20)\n",
    "ax.set_title(\"Paintings by style periods\",size=32)\n",
    "plt.savefig(f'/home/jinny/projects/Art-history/Art-history/graph/supple/si03a.svg')\n",
    "plt.show()"
   ]
  },
  {
   "cell_type": "code",
   "execution_count": null,
   "id": "c2d7023c-16ad-47d1-ac14-803cde40b24a",
   "metadata": {},
   "outputs": [],
   "source": [
    "#target_authors = [['Albrecht Durer (1471-1528)','albrecht durer'],['Rembrandt (1606-1669)','rembrandt'],['Johannes Vermeer (1632-1675)','johannes vermeer'],['Jean-Francois Millet (1814-1875)','jean-francois millet'],['Edouard Manet (1832-1883)','edouard manet'],['Paul Cezanne (1839-1906)','paul cezanne'],['Pierre-Auguste Renoir (1841-1919)','pierre auguste renoir'],['Vincent van Gogh (1853-1890)','vincent van gogh'],['Gustav Klimt (1862-1918)','gustav klimt'],['Egon Schiele (1890-1918)','egon schiele']]\n",
    "target_authors = [['Albrecht Durer (1528)','albrecht durer'],['Rembrandt (1669)','rembrandt'],['Johannes Vermeer (1675)','johannes vermeer'],['Jean-Francois Millet (1875)','jean-francois millet'],['Edouard Manet (1883)','edouard manet'],['Paul Cezanne (1906)','paul cezanne'],['Pierre-Auguste Renoir (1919)','pierre auguste renoir'],['Vincent van Gogh (1890)','vincent van gogh'],['Gustav Klimt (1918)','gustav klimt'],['Egon Schiele (1918)','egon schiele']]\n",
    "\n",
    "target_authors_dic = {i[1]:i[0] for i in target_authors}\n",
    "\n",
    "df_umap_author10 = file_info[file_info['author_name'].isin(target_authors_dic.keys())]\n",
    "df_umap_author10['author_name_year'] = [target_authors_dic[i] for i in df_umap_author10['author_name'] ]"
   ]
  },
  {
   "cell_type": "code",
   "execution_count": null,
   "id": "842e0a47-02e3-449a-85a6-854c7b3ecb01",
   "metadata": {},
   "outputs": [],
   "source": [
    "plt.figure(figsize=(20,6))\n",
    "temp = df_umap_author10\n",
    "ax = sns.countplot(x='author_name_year', data=temp, order = temp['author_name_year'].value_counts()[:10].index ,palette='Spectral')\n",
    "ax.set_ylabel(\"Counts\",size=30)\n",
    "ax.set_xlabel(\" \")\n",
    "ax.set_xticklabels(ax.get_xticklabels(),rotation=45,size=30)\n",
    "ax.set_yticklabels(ax.get_yticklabels(),size=20)\n",
    "ax.set_title(\"Paintings by artists\",size=32)\n",
    "plt.savefig(f'/home/jinny/projects/Art-history/Art-history/graph/supple/si03b.svg')\n",
    "plt.show()"
   ]
  },
  {
   "cell_type": "markdown",
   "id": "adb07e4f-b66c-4134-afe0-c1bdb40ee50c",
   "metadata": {},
   "source": [
    "## 02. prompt smaple"
   ]
  },
  {
   "cell_type": "code",
   "execution_count": null,
   "id": "88e307f9-a671-4aa7-bb47-91721a761625",
   "metadata": {
    "scrolled": true
   },
   "outputs": [],
   "source": [
    "import os\n",
    "os.chdir(\"scripts\")"
   ]
  },
  {
   "cell_type": "code",
   "execution_count": null,
   "id": "3eb1d6f2-bdc9-4da9-b461-3a71546ce721",
   "metadata": {},
   "outputs": [],
   "source": [
    "import argparse, os\n",
    "import PIL\n",
    "import torch\n",
    "import numpy as np\n",
    "from omegaconf import OmegaConf\n",
    "from PIL import Image\n",
    "from tqdm import tqdm, trange\n",
    "from itertools import islice\n",
    "from einops import rearrange, repeat\n",
    "from torchvision.utils import make_grid\n",
    "from torch import autocast\n",
    "from contextlib import nullcontext\n",
    "from pytorch_lightning import seed_everything\n",
    "from imwatermark import WatermarkEncoder\n",
    "import pandas as pd\n",
    "from scripts.txt2img import put_watermark\n",
    "from ldm.util import instantiate_from_config\n",
    "from ldm.models.diffusion.ddim import DDIMSampler\n",
    "from matplotlib.offsetbox import OffsetImage, AnnotationBbox\n",
    "\n",
    "import matplotlib.pyplot as plt\n",
    "import matplotlib.image as img\n",
    "from matplotlib.image import imread"
   ]
  },
  {
   "cell_type": "code",
   "execution_count": null,
   "id": "c84879d5-15c5-4dd5-9f11-d7d3fb7ffcf9",
   "metadata": {},
   "outputs": [],
   "source": [
    "def chunk(it, size):\n",
    "    it = iter(it)\n",
    "    return iter(lambda: tuple(islice(it, size)), ())\n",
    "\n",
    "def load_model_from_config(config, ckpt, verbose=False):\n",
    "    print(f\"Loading model from {ckpt}\")\n",
    "    pl_sd = torch.load(ckpt, map_location=\"cpu\")\n",
    "    if \"global_step\" in pl_sd:\n",
    "        print(f\"Global Step: {pl_sd['global_step']}\")\n",
    "    sd = pl_sd[\"state_dict\"]\n",
    "    model = instantiate_from_config(config.model)\n",
    "    m, u = model.load_state_dict(sd, strict=False)\n",
    "    if len(m) > 0 and verbose:\n",
    "        print(\"missing keys:\")\n",
    "        print(m)\n",
    "    if len(u) > 0 and verbose:\n",
    "        print(\"unexpected keys:\")\n",
    "        print(u)\n",
    "\n",
    "    model.cuda()\n",
    "    model.eval()\n",
    "    return model\n",
    "\n",
    "def load_model(device_num) :\n",
    "    base_path = '/home/jinny/projects/Art-history/Art-history/'\n",
    "    config = OmegaConf.load(base_path+f\"scripts/configs/stable-diffusion/v2-inference.yaml\")\n",
    "    model = load_model_from_config(config, base_path+f\"scripts/configs/checkpoint/512-base-ema.ckpt\") \n",
    "\n",
    "    GPU_NUM = device_num # 원하는 GPU 번호 입력\n",
    "    \n",
    "    # GPU 할당 변경하기\n",
    "    device = torch.device(f'cuda:{GPU_NUM}' if torch.cuda.is_available() else 'cpu')\n",
    "    torch.cuda.set_device(device) # change allocation of current GPU\n",
    "    print ('Current cuda device ', torch.cuda.current_device()) # check\n",
    "    \n",
    "    model = model.to(device)\n",
    "    return model,device\n",
    "\n",
    "def load_img(path):\n",
    "    image = Image.open(path).convert(\"RGB\")\n",
    "    w, h = image.size\n",
    "    print(f\"loaded input image of size ({w}, {h}) from {path}\")\n",
    "    w, h = map(lambda x: x - x % 64, (w, h))  # resize to integer multiple of 64\n",
    "    image = image.resize((w, h), resample=PIL.Image.LANCZOS)\n",
    "    image = np.array(image).astype(np.float32) / 255.0\n",
    "    image = image[None].transpose(0, 3, 1, 2)\n",
    "    image = torch.from_numpy(image)\n",
    "    return 2. * image - 1."
   ]
  },
  {
   "cell_type": "code",
   "execution_count": null,
   "id": "2a1eb8f4-4028-41d1-a36a-b6cfce0bac37",
   "metadata": {},
   "outputs": [],
   "source": [
    "def diffusion_txt2img(model,device,from_file,prompt,negative_prompts,seed):\n",
    "    seed = seed\n",
    "    seed_everything(seed)\n",
    "\n",
    "    #sampler = PLMSSampler(model)\n",
    "    #sampler = DPMSolverSampler(model)\n",
    "    sampler = DDIMSampler(model)\n",
    "\n",
    "    n_samples = 1\n",
    "    batch_size = n_samples\n",
    "    n_rows = 1\n",
    "    repeat = 1\n",
    "    \n",
    "    if not from_file:\n",
    "        print(f\"prompt - {prompt}\")\n",
    "        prompt = prompt\n",
    "        assert prompt is not None\n",
    "        data = [batch_size * [prompt]]\n",
    "    else:\n",
    "        print(f\"reading prompts from {from_file}\")\n",
    "        with open(from_file, \"r\") as f:\n",
    "            data = f.read().splitlines()\n",
    "            data = [p for p in data for i in range(repeat)]\n",
    "            data = list(chunk(data, batch_size))\n",
    "\n",
    "    start_code = None\n",
    "    #start_code = torch.randn([1,4, 512 // 8, 512 // 8], device=device)\n",
    "\n",
    "    precision_scope = autocast \n",
    "    n_iter = 1\n",
    "    scale = 9.0\n",
    "    steps = 40\n",
    "    ddim_eta = 0\n",
    "    C,H,W = 4,512,512\n",
    "    f = 8\n",
    "    with torch.no_grad(), \\\n",
    "        precision_scope(\"cuda\"), \\\n",
    "        model.ema_scope():\n",
    "            all_samples = list()\n",
    "            for n in trange(n_iter, desc=\"Sampling\"):\n",
    "                for prompts in tqdm(data, desc=\"data\"):\n",
    "                    uc = None\n",
    "                    if scale != 1.0:\n",
    "                        uc = model.get_learned_conditioning(batch_size * [negative_prompts])\n",
    "                    if isinstance(prompts, tuple):\n",
    "                        prompts = list(prompts)\n",
    "                    c = model.get_learned_conditioning(prompts)\n",
    "                    new_c = list()\n",
    "                    new_c.append(c)\n",
    "                    shape = [C, H//8, W//8]\n",
    "                    samples, _ = sampler.sample(S=steps,\n",
    "                                                     conditioning=c,\n",
    "                                                     batch_size=n_samples,\n",
    "                                                     shape=shape,\n",
    "                                                     verbose=False,\n",
    "                                                     unconditional_guidance_scale=scale,\n",
    "                                                     unconditional_conditioning=uc,\n",
    "                                                     eta=ddim_eta,\n",
    "                                                     x_T=start_code)\n",
    "\n",
    "                    # x_samples = model.decode_first_stage(samples)\n",
    "                    # x_samples = torch.clamp((x_samples + 1.0) / 2.0, min=0.0, max=1.0)\n",
    "                    #all_samples.append(x_samples[0])\n",
    "                    #all_samples_enc.append(samples[0])\n",
    "               \n",
    "    return samples,new_c,prompts"
   ]
  },
  {
   "cell_type": "code",
   "execution_count": null,
   "id": "4756ee06-a8c7-4a3b-b80e-dedac72e1d7d",
   "metadata": {},
   "outputs": [],
   "source": [
    "def model_2img(latent_samples, model) :\n",
    "    precision_scope = autocast \n",
    "    with torch.no_grad():\n",
    "        with precision_scope(\"cuda\"):\n",
    "            with model.ema_scope():\n",
    "                \n",
    "                x_samples = model.decode_first_stage(latent_samples)\n",
    "                x_samples = torch.clamp((x_samples + 1.0) / 2.0, min=0.0, max=1.0)\n",
    "\n",
    "                for x_sample in x_samples:\n",
    "                    x_sample = 255. * rearrange(x_sample.cpu().numpy(), 'c h w -> h w c')\n",
    "                    img = Image.fromarray(x_sample.astype(np.uint8))\n",
    "                    #img = put_watermark(img, wm_encoder)\n",
    "                    return img\n",
    "                    # plt.imshow(img)\n",
    "                    # plt.show()"
   ]
  },
  {
   "cell_type": "code",
   "execution_count": null,
   "id": "6767f9db-f71c-46f9-a4d8-159f6a86dc81",
   "metadata": {
    "scrolled": true,
    "tags": []
   },
   "outputs": [],
   "source": [
    "# model load\n",
    "model,device = load_model(1)"
   ]
  },
  {
   "cell_type": "code",
   "execution_count": null,
   "id": "386d983f-d825-452c-b216-e0762dcdbb9a",
   "metadata": {},
   "outputs": [],
   "source": [
    "prompts = pd.read_csv('/home/jinny/projects/Art-history/Art-history/datas/prompts.csv')"
   ]
  },
  {
   "cell_type": "code",
   "execution_count": null,
   "id": "4df6c466-4135-42f5-9628-d9e2a5aa749f",
   "metadata": {},
   "outputs": [],
   "source": [
    "samples = ['Allegretto Nuzi/Crucifixion','William Simpson/The Petroleum', 'Jan Steen/Worship' ]\n",
    "sample_paths = [prompts['Path'][prompts['Path'].str.contains(i)].values[0] for i in samples]"
   ]
  },
  {
   "cell_type": "code",
   "execution_count": null,
   "id": "251be672-5076-4b52-9e1d-a657c5042deb",
   "metadata": {
    "scrolled": true
   },
   "outputs": [],
   "source": [
    "for path in sample_paths :\n",
    "    img_test = img.imread(f'/home/jinny/projects/Art-history/02_image_resize/output/{path}')\n",
    "    plt.imshow(img_test)\n",
    "    plt.show()"
   ]
  },
  {
   "cell_type": "code",
   "execution_count": null,
   "id": "95bf6bac-982b-421d-84be-bb6df0e52552",
   "metadata": {
    "scrolled": true
   },
   "outputs": [],
   "source": [
    "from_file = ''\n",
    "negative_prompt = ''\n",
    "prompt_diffusion = {}\n",
    "for path in sample_paths :\n",
    "    prompt = prompts['prompts'][prompts['Path']==path].values[0]\n",
    "    x_samples = diffusion_txt2img(model,device,from_file,prompt,negative_prompt,19980727)\n",
    "    prompt_diffusion[path] = x_samples"
   ]
  },
  {
   "cell_type": "code",
   "execution_count": null,
   "id": "1df914d6-55bf-4451-bc20-88ad6942d69a",
   "metadata": {},
   "outputs": [],
   "source": [
    "for idx,path in enumerate(prompt_diffusion.keys()) :\n",
    "    fig, ax = plt.subplots(1,2,figsize=(15,5))\n",
    "    print(prompts['prompts'][prompts['Path']==path].values[0])\n",
    "    img_test = img.imread(f'/home/jinny/projects/Art-history/02_image_resize/output/{path}')\n",
    "    ax[0].imshow(img_test)\n",
    "    ax[0].set_title('original',size=40)\n",
    "    ax[1].imshow(model_2img(prompt_diffusion[path][0][0].reshape(1,4,64,64),model))\n",
    "    ax[1].set_title('generation',size=40)\n",
    "    for i in range(2) :\n",
    "        ax[i].axes.xaxis.set_visible(False)\n",
    "        ax[i].axes.yaxis.set_visible(False)\n",
    "    artist = file_info_latents['author_name'][file_info_latents['Path']==path].values[0]\n",
    "    painting = file_info_latents['painting_name'][file_info_latents['Path']==path].values[0]\n",
    "    print(f'< artist - {artist} ---- painting name - {painting}>')\n",
    "    plt.tight_layout() \n",
    "    plt.savefig(f'/home/jinny/projects/Art-history/Art-history/graph/supple/si04_{idx}.svg')\n",
    "plt.show()"
   ]
  },
  {
   "cell_type": "code",
   "execution_count": null,
   "id": "3c24d9df-8813-4a52-ba84-53e282795641",
   "metadata": {},
   "outputs": [],
   "source": []
  }
 ],
 "metadata": {
  "kernelspec": {
   "display_name": "history",
   "language": "python",
   "name": "history"
  },
  "language_info": {
   "codemirror_mode": {
    "name": "ipython",
    "version": 3
   },
   "file_extension": ".py",
   "mimetype": "text/x-python",
   "name": "python",
   "nbconvert_exporter": "python",
   "pygments_lexer": "ipython3",
   "version": "3.8.5"
  }
 },
 "nbformat": 4,
 "nbformat_minor": 5
}
