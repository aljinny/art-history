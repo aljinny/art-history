{
 "cells": [
  {
   "cell_type": "markdown",
   "id": "a59d28bb-4368-49ca-9cda-8e551b51053c",
   "metadata": {},
   "source": [
    "## make diffusion samples"
   ]
  },
  {
   "cell_type": "code",
   "execution_count": null,
   "id": "f25e467f-fa70-445c-9b7b-5970c2dba089",
   "metadata": {},
   "outputs": [],
   "source": [
    "import pandas as pd\n",
    "import numpy as np\n",
    "import matplotlib.pyplot as plt\n",
    "import matplotlib.image as img\n",
    "from matplotlib.image import imread"
   ]
  },
  {
   "cell_type": "code",
   "execution_count": null,
   "id": "a9f86a3e-d95b-4683-9ea2-18aae2ad7f0a",
   "metadata": {},
   "outputs": [],
   "source": [
    "import pickle"
   ]
  },
  {
   "cell_type": "code",
   "execution_count": null,
   "id": "09b99282-fd67-48ad-90ba-1bd713f49e6d",
   "metadata": {},
   "outputs": [],
   "source": [
    "base_path= '/home/jinny/projects/Art-history/Art-history/'\n",
    "\n",
    "file_info = pd.read_csv(base_path+'datas/file_info.csv')\n",
    "avetor = np.load(base_path+'datas/vectors/avec_latents.npy', allow_pickle=True)\n",
    "\n",
    "# file_info_latent\n",
    "df = pd.DataFrame((avetor),columns=['latent','Path']) \n",
    "file_info_latents = pd.merge(file_info, df, how = 'left', on = 'Path')\n",
    "file_info_latents = file_info_latents[~file_info_latents.latent.isnull()]"
   ]
  },
  {
   "cell_type": "raw",
   "id": "c1bd2c09-1771-477f-8f1c-9a2daa054421",
   "metadata": {},
   "source": [
    "paintings = dict()\n",
    "for i in range(5) :\n",
    "    temp = list()\n",
    "    for j in range(10) :\n",
    "        temp.extend(file_info_latents[['latent','Path']][file_info_latents['new_date']==1500+i*100+j*10].sample(50, random_state=42).values)\n",
    "    paintings[1500+i*100] = temp"
   ]
  },
  {
   "cell_type": "raw",
   "id": "a9afe129-10c1-442d-8f21-0ef085d936e8",
   "metadata": {},
   "source": [
    "with open(base_path + 'datas/vectors/diffusion/diffusion_sample.pkl', 'wb') as file:\n",
    "    pickle.dump(paintings, file)"
   ]
  },
  {
   "cell_type": "code",
   "execution_count": null,
   "id": "b2d3d34e-972e-4179-893c-411836d844d5",
   "metadata": {},
   "outputs": [],
   "source": [
    "with open(base_path+'datas/vectors/diffusion/diffusion_sample.pkl', 'rb') as file:\n",
    "    painting = pickle.load(file)"
   ]
  },
  {
   "cell_type": "markdown",
   "id": "9a5e2344-24c8-4a2b-b7a9-f1f009b8e6e4",
   "metadata": {},
   "source": [
    "## diffusion test"
   ]
  },
  {
   "cell_type": "code",
   "execution_count": null,
   "id": "561d1d05-4d81-4918-9ff5-1e42ed3e1336",
   "metadata": {},
   "outputs": [],
   "source": [
    "base_path = '/home/jinny/projects/Art-history/Art-history/datas/vectors/diffusion/no_comma/img/'\n",
    "temp01 = dict()\n",
    "temp02 = dict()\n",
    "for step in ['step5','step10','step20','step30'] :\n",
    "    with open(base_path + step+'/using_prompt.pkl', 'rb') as file:\n",
    "        temp01[step] = pickle.load(file)\n",
    "    with open(base_path + step+'/using_noprompt.pkl', 'rb') as file:\n",
    "        temp02[step] = pickle.load(file)"
   ]
  },
  {
   "cell_type": "code",
   "execution_count": null,
   "id": "6c9e3564-1a2e-4c50-87e8-8f7bf3caddec",
   "metadata": {},
   "outputs": [],
   "source": [
    "print(len(temp01['step30'][1500]))\n",
    "temp01['step30'][1500][100]"
   ]
  },
  {
   "cell_type": "markdown",
   "id": "9fc7de32-59c9-4095-8c91-229eaa759bd8",
   "metadata": {},
   "source": [
    "## make cvec"
   ]
  },
  {
   "cell_type": "code",
   "execution_count": null,
   "id": "c01cdb5d-1d88-48aa-a8fb-14a14974e571",
   "metadata": {},
   "outputs": [],
   "source": [
    "import torch\n",
    "import pickle"
   ]
  },
  {
   "cell_type": "code",
   "execution_count": null,
   "id": "e6764227-3dae-4162-aab3-65c069589ac4",
   "metadata": {},
   "outputs": [],
   "source": [
    "from PIL import Image"
   ]
  },
  {
   "cell_type": "code",
   "execution_count": null,
   "id": "efedeaeb-38a9-4a95-8733-572b51dc2fda",
   "metadata": {
    "scrolled": true
   },
   "outputs": [],
   "source": [
    "from clip_interrogator import Config, Interrogator"
   ]
  },
  {
   "cell_type": "code",
   "execution_count": null,
   "id": "98b13466-378e-46b7-a627-04555e95e3d0",
   "metadata": {},
   "outputs": [],
   "source": [
    "from tqdm import tqdm"
   ]
  },
  {
   "cell_type": "code",
   "execution_count": null,
   "id": "76bb4280-e0e7-4ebf-811a-28013d10a979",
   "metadata": {},
   "outputs": [],
   "source": [
    "device = torch.device(f'cuda:{2}' if torch.cuda.is_available() else 'cpu')\n",
    "torch.cuda.set_device(device) # change allocation of current GPU\n",
    "print ('Current cuda device ', torch.cuda.current_device()) # check\n",
    "ci = Interrogator(Config(clip_model_name=\"ViT-H-14/laion2b_s32b_b79k\",device=device))"
   ]
  },
  {
   "cell_type": "code",
   "execution_count": null,
   "id": "ce5644dd-275d-421d-8f99-0a4edeb891b2",
   "metadata": {},
   "outputs": [],
   "source": [
    "base_path = '/home/jinny/projects/Art-history/Art-history/datas/vectors/diffusion/no_comma/cvec/'\n",
    "\n",
    "for step in tqdm(['step5','step10','step20','step30']) :\n",
    "    c_result = dict()\n",
    "    for year in list(temp01[step].keys()) :\n",
    "        temp = list()\n",
    "        for i in temp01[step][year] :\n",
    "            temp.append(ci.image_to_features(i).cpu())\n",
    "        c_result[year] = temp\n",
    "    with open(base_path + step+'/using_prompt.pkl', 'wb') as file:\n",
    "        pickle.dump(c_result, file)\n",
    "    \n",
    "    c_result = dict()\n",
    "    for year in list(temp02[step].keys())  :\n",
    "        temp = list()\n",
    "        for i in temp02[step][year] :\n",
    "            temp.append(ci.image_to_features(i).cpu())\n",
    "        c_result[year] = temp\n",
    "    with open(base_path + step+'/using_noprompt.pkl', 'wb') as file:\n",
    "        pickle.dump(c_result, file)"
   ]
  },
  {
   "cell_type": "code",
   "execution_count": null,
   "id": "fb44cfbc-f608-4087-beee-61cf1323225e",
   "metadata": {},
   "outputs": [],
   "source": []
  }
 ],
 "metadata": {
  "kernelspec": {
   "display_name": "clip_inter",
   "language": "python",
   "name": "clip_inter"
  },
  "language_info": {
   "codemirror_mode": {
    "name": "ipython",
    "version": 3
   },
   "file_extension": ".py",
   "mimetype": "text/x-python",
   "name": "python",
   "nbconvert_exporter": "python",
   "pygments_lexer": "ipython3",
   "version": "3.7.16"
  }
 },
 "nbformat": 4,
 "nbformat_minor": 5
}
