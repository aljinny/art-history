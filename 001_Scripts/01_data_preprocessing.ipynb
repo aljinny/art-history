{
 "cells": [
  {
   "cell_type": "code",
   "execution_count": null,
   "id": "19a0042b-555f-4cd8-ac91-ace8de7c96e1",
   "metadata": {},
   "outputs": [],
   "source": [
    "import numpy as np\n",
    "import pandas as pd\n",
    "from collections import Counter\n",
    "import re\n",
    "from tqdm import tqdm\n",
    "\n",
    "\n",
    "import matplotlib.pyplot as plt\n",
    "import matplotlib.image as img\n",
    "from matplotlib.image import imread\n",
    "import matplotlib.pyplot as plt\n",
    "\n",
    "import seaborn as sns \n",
    "import os"
   ]
  },
  {
   "cell_type": "code",
   "execution_count": null,
   "id": "beb9375a-d023-43e4-954a-6e2ef4cd430f",
   "metadata": {},
   "outputs": [],
   "source": [
    "pd.set_option('display.max_columns', None) "
   ]
  },
  {
   "cell_type": "code",
   "execution_count": null,
   "id": "a915f136-f7ab-443d-b944-ed42aa285987",
   "metadata": {
    "tags": []
   },
   "outputs": [],
   "source": [
    "df = pd.read_csv('datas/Art500k.csv')"
   ]
  },
  {
   "cell_type": "markdown",
   "id": "ca3da03d-2f64-4d3c-b64d-130d0e3ab9b8",
   "metadata": {},
   "source": [
    "## 0. EDA"
   ]
  },
  {
   "cell_type": "code",
   "execution_count": null,
   "id": "8f73beca-6b6a-458b-9272-1dacbbd70f11",
   "metadata": {},
   "outputs": [],
   "source": [
    "print('Painting total :',len(df))"
   ]
  },
  {
   "cell_type": "code",
   "execution_count": null,
   "id": "ecff6a00-e6d8-4d39-ab85-a18d632bf0b5",
   "metadata": {},
   "outputs": [],
   "source": [
    "df_style_temp = df[['Style']]\n",
    "df_style_temp['Style'] = df_style_temp['Style'].fillna('')\n",
    "df_style_temp['new_style'] = df_style_temp['Style'].str.split(',')\n",
    "df_style_temp = df_style_temp.explode('new_style')\n",
    "\n",
    "print('Style period total :', df_style_temp['new_style'].nunique())"
   ]
  },
  {
   "cell_type": "code",
   "execution_count": null,
   "id": "89385ea6-4e2f-41e9-b118-0e8075f20244",
   "metadata": {},
   "outputs": [],
   "source": [
    "df_artist_temp = df[['author_name']]\n",
    "df_artist_temp['author_name'] = df_artist_temp['author_name'].fillna('')\n",
    "df_artist_temp['new_author_name'] = df_artist_temp['author_name'].str.split(',')\n",
    "df_artist_temp = df_artist_temp.explode('new_author_name')\n",
    "\n",
    "print('Artist total :', df_artist_temp['new_author_name'].nunique())"
   ]
  },
  {
   "cell_type": "code",
   "execution_count": null,
   "id": "404c7dde-724b-4e89-ba92-61dff326e5bf",
   "metadata": {},
   "outputs": [],
   "source": [
    "df_nationality_temp = df[['Nationality']]\n",
    "df_nationality_temp['Nationality'] = df_nationality_temp['Nationality'].fillna('')\n",
    "df_nationality_temp['new_nationality'] = df_nationality_temp['Nationality'].str.split(',')\n",
    "df_nationality_temp = df_nationality_temp.explode('new_nationality')\n",
    "\n",
    "print('Nationality total :', df_nationality_temp['new_nationality'].nunique())"
   ]
  },
  {
   "cell_type": "code",
   "execution_count": null,
   "id": "d65c1afa-85e3-4632-88ab-696b49e0cef5",
   "metadata": {},
   "outputs": [],
   "source": [
    "counting = len(df[df['Date'].str.contains('|'.join(['c','C','s','S','-']), na=False)]) / len(df) * 100\n",
    "print(f'Date estimate : {counting}%')"
   ]
  },
  {
   "cell_type": "markdown",
   "id": "2d158042-4687-4d1c-a916-52b8e4ec9e4a",
   "metadata": {
    "tags": []
   },
   "source": [
    "## 1. Path preprocessing"
   ]
  },
  {
   "cell_type": "code",
   "execution_count": null,
   "id": "a7cdf7d2-7cf4-46ba-830e-01b7db1517f7",
   "metadata": {},
   "outputs": [],
   "source": [
    "df_path = df.copy()"
   ]
  },
  {
   "cell_type": "code",
   "execution_count": null,
   "id": "4ce6e95a-09cb-44d0-8cb6-cf60b8bc93c3",
   "metadata": {},
   "outputs": [],
   "source": [
    "noFile = list()\n",
    "for i in tqdm(df_path.index) :\n",
    "    if os.path.isfile(\"/home/jinny/datas/art500k/\"+df_path.Path[i])==False :\n",
    "        noFile.append(i)\n",
    "print(f'No File : {len(noFile)}')"
   ]
  },
  {
   "cell_type": "code",
   "execution_count": null,
   "id": "a040aa52-5afa-41b3-9cbe-daed6c03e587",
   "metadata": {
    "scrolled": true
   },
   "outputs": [],
   "source": [
    "df_path.drop(noFile, inplace=True)"
   ]
  },
  {
   "cell_type": "code",
   "execution_count": null,
   "id": "e8153257-fd45-4731-a346-db89cc180737",
   "metadata": {},
   "outputs": [],
   "source": [
    "print(f'path preprocessing : {len(df_path)}')"
   ]
  },
  {
   "cell_type": "markdown",
   "id": "d5854b13-1cb1-40f9-b9bb-015a1c18d34d",
   "metadata": {},
   "source": [
    "## 2. Date preprocessing"
   ]
  },
  {
   "cell_type": "code",
   "execution_count": null,
   "id": "b449e266-d899-40bc-a413-1d14ad6c3f7c",
   "metadata": {},
   "outputs": [],
   "source": [
    "df_date = df_path.copy().reset_index(drop=True)"
   ]
  },
  {
   "cell_type": "markdown",
   "id": "37fa0b79-76eb-4cd9-8544-3344509997e6",
   "metadata": {},
   "source": [
    "#### extract year"
   ]
  },
  {
   "cell_type": "code",
   "execution_count": null,
   "id": "5d52103d-5003-4fe6-ba96-cdc539573dd0",
   "metadata": {},
   "outputs": [],
   "source": [
    "df_date['new_date1'] = df_date['painting_name'].str.extract(r' (1\\d\\d\\d)$')\n",
    "df_date['new_date1'] = df_date['new_date1'].fillna('0')\n",
    "\n",
    "df_date['new_date2'] = df_date['Date'].str.extract(r'(1\\d\\d\\d)$')\n",
    "df_date['new_date2'] = df_date['new_date2'].fillna('0')"
   ]
  },
  {
   "cell_type": "code",
   "execution_count": null,
   "id": "475404b1-96ad-4f6f-b5ed-7a86481dc09a",
   "metadata": {},
   "outputs": [],
   "source": [
    "new_date = list()\n",
    "for idx,val in enumerate(df_date[['new_date1','new_date2']].values) :\n",
    "    if val[0]=='0' and val[1]=='0':\n",
    "        new_date.append('')\n",
    "    elif val[1]!='0':\n",
    "        new_date.append(val[1])\n",
    "    else :\n",
    "        new_date.append(val[0])"
   ]
  },
  {
   "cell_type": "code",
   "execution_count": null,
   "id": "4ff337e6-ffcc-4836-a0d2-d72a1f534ffe",
   "metadata": {},
   "outputs": [],
   "source": [
    "df_date['new_date'] = new_date\n",
    "df_date = df_date[df_date['new_date']!='']\n",
    "df_date.drop(['new_date1','new_date2'],axis='columns',inplace=True)"
   ]
  },
  {
   "cell_type": "markdown",
   "id": "cda032be-13a9-4f19-ab1b-8dc86d9a15d1",
   "metadata": {},
   "source": [
    "#### using decade"
   ]
  },
  {
   "cell_type": "code",
   "execution_count": null,
   "id": "62483ef6-42e4-41b4-951b-8c6ad7f2338d",
   "metadata": {},
   "outputs": [],
   "source": [
    "df_date['new_date_detail'] = df_date['new_date']"
   ]
  },
  {
   "cell_type": "code",
   "execution_count": null,
   "id": "aa48736d-8e18-4d4a-ad19-5d821c69da34",
   "metadata": {
    "tags": []
   },
   "outputs": [],
   "source": [
    "def change_last_character(value):\n",
    "    if len(value) > 0:\n",
    "        return value[:-1] + '0'\n",
    "    else:\n",
    "        return value\n",
    "\n",
    "df_date['new_date'] = df_date['new_date'].apply(change_last_character)"
   ]
  },
  {
   "cell_type": "code",
   "execution_count": null,
   "id": "cb73df98-6872-4936-b89f-6e8c4199e312",
   "metadata": {},
   "outputs": [],
   "source": [
    "df_date = df_date.astype({'new_date':'int'})\n",
    "df_date = df_date.astype({'new_date_detail':'int'})"
   ]
  },
  {
   "cell_type": "markdown",
   "id": "755bb173-d9c6-4ec2-a73a-d25885d51db7",
   "metadata": {},
   "source": [
    "#### using 1300 - 2000"
   ]
  },
  {
   "cell_type": "code",
   "execution_count": null,
   "id": "48491eb2-7d86-4a78-b4dd-24f6ccf7f3da",
   "metadata": {},
   "outputs": [],
   "source": [
    "df_date = df_date[df_date.new_date>=1300]\n",
    "df_date = df_date[df_date.new_date_detail>=1300]"
   ]
  },
  {
   "cell_type": "code",
   "execution_count": null,
   "id": "1d6f077d-b1c5-481f-bcfa-ee9f6bef1de6",
   "metadata": {},
   "outputs": [],
   "source": [
    "print(f'date preprocessing : {len(df_date)}')"
   ]
  },
  {
   "cell_type": "markdown",
   "id": "38aaf553-2635-4055-b848-6258cf78cbf7",
   "metadata": {
    "tags": []
   },
   "source": [
    "## 3. Style preprocessing"
   ]
  },
  {
   "cell_type": "code",
   "execution_count": null,
   "id": "09e3d172-c2b8-428d-a124-b78fa20fedf5",
   "metadata": {},
   "outputs": [],
   "source": [
    "df_style = df_date.copy()"
   ]
  },
  {
   "cell_type": "code",
   "execution_count": null,
   "id": "3d8b4e06-a05e-4c89-a1de-8cf0f5895699",
   "metadata": {},
   "outputs": [],
   "source": [
    "drop_style = ['Byzantine',\n",
    "                'Gothic',\n",
    "                'Gongbi',\n",
    "                'Ink and wash painting',\n",
    "                'Korean Art',\n",
    "                'Joseon Dynasty',\n",
    "                'Japanese',\n",
    "                'Shin-hanga',\n",
    "                'Sōsaku hanga',\n",
    "                'Ukiyo-e',\n",
    "                'Yamato-e',\n",
    "                'Kanō school style',\n",
    "                'Nanga (Bunjinga)',\n",
    "                'Nihonga',\n",
    "                'Zen',\n",
    "                'Ero guro',\n",
    "                'Islamic Art',\n",
    "                'Abbasid Period',\n",
    "                'Ilkhanid',\n",
    "                'Nas-Taliq',\n",
    "                'Timurid Period',\n",
    "                'Mughal',\n",
    "                'Ottoman Period',\n",
    "                'Safavid Period' ,\n",
    "                'Native Art',\n",
    "                'Yoruba',\n",
    "                'Folk art' ,\n",
    "                'Pre-Columbian Art',\n",
    "                'Post-classic',\n",
    "                'Dictionaries',\n",
    "                'New Ink Painting',\n",
    "                'Documentary photography' ,\n",
    "                'Street Photography',\n",
    "                'Ink and wash painting',\n",
    "                'Sumi-e',\n",
    "                'Safavid',\n",
    "                'Japonism',\n",
    "                'Indian']"
   ]
  },
  {
   "cell_type": "code",
   "execution_count": null,
   "id": "d7c28953-0b9c-46f3-a640-8071382dc5b1",
   "metadata": {},
   "outputs": [],
   "source": [
    "df_style = df_style[~df_style.Style.str.contains('|'.join(drop_style),na=False)]"
   ]
  },
  {
   "cell_type": "code",
   "execution_count": null,
   "id": "5897825c-ef0a-4d78-9c9f-f14b3d4e5500",
   "metadata": {},
   "outputs": [],
   "source": [
    "df_style['Style']=df_style['Style'].str.replace('/',',')\n",
    "df_style['Style']=df_style['Style'].str.replace(';',',')\n",
    "df_style['Style']=df_style['Style'].str.replace('\\xa0',' ')"
   ]
  },
  {
   "cell_type": "code",
   "execution_count": null,
   "id": "1a34ba69-889f-4eaf-8292-0fdc724df5ab",
   "metadata": {},
   "outputs": [],
   "source": [
    "print(f'style preprocessing : {len(df_style)}')"
   ]
  },
  {
   "cell_type": "markdown",
   "id": "6f0e3097-9f41-463c-972d-ecee1c603697",
   "metadata": {},
   "source": [
    "## 4. Field Preprocessing"
   ]
  },
  {
   "cell_type": "code",
   "execution_count": null,
   "id": "3b418f16-f896-45ed-b488-6b0381d6f026",
   "metadata": {},
   "outputs": [],
   "source": [
    "df_field = df_style.copy()\n",
    "df_field.Field = df_field.Field.str.lower()"
   ]
  },
  {
   "cell_type": "code",
   "execution_count": null,
   "id": "ad7a1029-932f-416f-8122-a0c58dbc0373",
   "metadata": {},
   "outputs": [],
   "source": [
    "using_field = [\"painting\", \"oil\", \"watercolor\", \"tempera\", \"drawing\", \"sketch\", \n",
    "                                      \"canvas\", \"etching\", \"pastel\", \"gouache\", \"printmaking\", \"lithograph\", \n",
    "                                      \"ink\", \"charcoal\", \"paper\"]"
   ]
  },
  {
   "cell_type": "code",
   "execution_count": null,
   "id": "009704c1-1091-41b6-a2e0-26290234a4b0",
   "metadata": {},
   "outputs": [],
   "source": [
    "drop_field = ['porcelain',\n",
    "              'interior',\n",
    "              'japanese',\n",
    "              'oriental',\n",
    "              'chinese',\n",
    "              'fresco',\n",
    "              'architecture',\n",
    "              'installation',\n",
    "              'ceiling',\n",
    "              'sculpture',\n",
    "              'digital',\n",
    "              'photo',\n",
    "              'oriental',\n",
    "              'wall',\n",
    "              'calligraphy',\n",
    "              'furniture',\n",
    "              'ukiyo',\n",
    "              'woodcut',\n",
    "              'masonite',\n",
    "              'silk',\n",
    "              'glass']"
   ]
  },
  {
   "cell_type": "code",
   "execution_count": null,
   "id": "bc303b75-d090-47a9-992c-5f231c5463e9",
   "metadata": {
    "scrolled": true
   },
   "outputs": [],
   "source": [
    "df_field = df_field[~df_field['Field'].str.contains('|'.join(drop_field),na=False)]\n",
    "df_field = df_field[df_field['Field'].str.contains('|'.join(using_field),na=False)]"
   ]
  },
  {
   "cell_type": "code",
   "execution_count": null,
   "id": "563208a8-a8cc-446c-adb8-e085ea7b0b14",
   "metadata": {},
   "outputs": [],
   "source": [
    "print(f'field preprocessing : {len(df_field)}')"
   ]
  },
  {
   "cell_type": "markdown",
   "id": "6754133d-e2d3-4f96-9521-4168ebcba084",
   "metadata": {
    "tags": []
   },
   "source": [
    "## 5. Genre preprocessing"
   ]
  },
  {
   "cell_type": "code",
   "execution_count": null,
   "id": "6d3e98de-b79d-4882-8740-63049f2fd1b3",
   "metadata": {},
   "outputs": [],
   "source": [
    "df_genre = df_field.copy()"
   ]
  },
  {
   "cell_type": "code",
   "execution_count": null,
   "id": "fbdd97d7-fc07-49cb-8982-4262f4904b20",
   "metadata": {
    "scrolled": true,
    "tags": []
   },
   "outputs": [],
   "source": [
    "drop_genre = [\n",
    "    'bijinga',\n",
    "    'graffiti',\n",
    "    'installation',\n",
    "    'sculpture',\n",
    "    'tapestry',\n",
    "    'photo',\n",
    "    'advertisement',\n",
    "    'performance'\n",
    "]"
   ]
  },
  {
   "cell_type": "code",
   "execution_count": null,
   "id": "b14e736c-0558-447a-a2fe-0b1174fa5e9d",
   "metadata": {
    "tags": []
   },
   "outputs": [],
   "source": [
    "df_genre = df_genre[~(df_genre.Genre.str.contains('|'.join(drop_genre),na=False))]"
   ]
  },
  {
   "cell_type": "code",
   "execution_count": null,
   "id": "8003da47-ffe4-49d5-b587-113c31082495",
   "metadata": {},
   "outputs": [],
   "source": [
    "print(f'genre preprocessing : {len(df_genre)}')"
   ]
  },
  {
   "cell_type": "markdown",
   "id": "7827c166-8f63-4fd1-8f96-ebbc5a356280",
   "metadata": {
    "tags": []
   },
   "source": [
    "## 5. Nationality preprocessing"
   ]
  },
  {
   "cell_type": "code",
   "execution_count": null,
   "id": "6cf347d4-1162-42cf-a09b-59d8c0fa5212",
   "metadata": {},
   "outputs": [],
   "source": [
    "df_nationality  = df_genre.copy()"
   ]
  },
  {
   "cell_type": "code",
   "execution_count": null,
   "id": "fe6716c7-049b-4a3e-9754-c8822a1681e1",
   "metadata": {},
   "outputs": [],
   "source": [
    "drop_nationality = [\n",
    "    \"Indian\", \"Japanese\", \"Chinese\", \"South Korean\", \"Iranian\", \"Emirati\",\n",
    "    \"Indonesian\", \"Iraqi\", \"Syrian\", \"Vietnamese\", \"Filipino\", \"Lebanese\",\n",
    "    \"Qatari\", \"Ethiopian\", \"Sudanese\", \"Egyptian\", \"Libyan\", \"Cameroonian\",\n",
    "    \"Nigerian\", \"Azerbaijani\", \"Georgian\", \"Armenian\"\n",
    "]"
   ]
  },
  {
   "cell_type": "code",
   "execution_count": null,
   "id": "846c3c35-02f8-4ed2-b417-ec1ebad12f5d",
   "metadata": {},
   "outputs": [],
   "source": [
    "df_nationality = df_nationality[~(df_nationality.Nationality.str.contains('|'.join(drop_nationality),na=False))]"
   ]
  },
  {
   "cell_type": "code",
   "execution_count": null,
   "id": "17a4fea1-c261-43ce-a2d1-1f1668c64f39",
   "metadata": {},
   "outputs": [],
   "source": [
    "print(f'nationality preprocessing : {len(df_nationality)}')"
   ]
  },
  {
   "cell_type": "markdown",
   "id": "c2e66d3d-d0d8-424c-987b-a7e1c9d09f3d",
   "metadata": {
    "tags": []
   },
   "source": [
    "## 6. Author preprocessing"
   ]
  },
  {
   "cell_type": "code",
   "execution_count": null,
   "id": "5273c4a7-8f91-4828-8d5a-82a1080e578b",
   "metadata": {},
   "outputs": [],
   "source": [
    "df_author = df_nationality.copy()"
   ]
  },
  {
   "cell_type": "markdown",
   "id": "e5977ef0-1f0b-4ae2-8a91-f48c6e5aebb8",
   "metadata": {},
   "source": [
    "#### name preprocessing"
   ]
  },
  {
   "cell_type": "code",
   "execution_count": null,
   "id": "66b23408-b4f3-4a41-9508-b6cc3d8380a2",
   "metadata": {},
   "outputs": [],
   "source": [
    "df_author.author_name = df_author.author_name.str.lower()"
   ]
  },
  {
   "cell_type": "code",
   "execution_count": null,
   "id": "d557447d-3353-4757-8ef5-bfd71ff11ae1",
   "metadata": {},
   "outputs": [],
   "source": [
    "df_author = df_author.drop_duplicates(subset=['painting_name','author_name'])"
   ]
  },
  {
   "cell_type": "code",
   "execution_count": null,
   "id": "6c0c0004-f61c-4d47-b6b3-aa0cee0d0749",
   "metadata": {},
   "outputs": [],
   "source": [
    "# AXCII 문자만 남기기 + stopword 필터링\n",
    "from nltk.corpus import stopwords\n",
    "from nltk.tokenize import word_tokenize\n",
    "import unicodedata\n",
    "\n",
    "def normalize_text(input_text):\n",
    "    # NFC 정규화를 통해 문자열을 정규화합니다.\n",
    "    normalized = unicodedata.normalize('NFD', input_text)\n",
    "    # 정규화된 문자열에서 비ASCII 문자를 필터링하여 ASCII 문자만 남깁니다.\n",
    "    return ''.join(c for c in normalized if unicodedata.category(c) != 'Mn')\n",
    "\n",
    "temp = list()\n",
    "for i in tqdm(df_author['author_name']) :\n",
    "    word_tokens = word_tokenize(i)\n",
    "    result = []\n",
    "    for word in word_tokens: \n",
    "        result.append(normalize_text(word))\n",
    "    temp.append(' '.join(result))"
   ]
  },
  {
   "cell_type": "code",
   "execution_count": null,
   "id": "9c69d8a2-332a-4cb8-93b8-c923e8400068",
   "metadata": {},
   "outputs": [],
   "source": [
    "df_author['author_name'] = temp"
   ]
  },
  {
   "cell_type": "code",
   "execution_count": null,
   "id": "8dd965f2-ee82-40ea-bc52-f2846e15a672",
   "metadata": {},
   "outputs": [],
   "source": [
    "print(f'author preprocessing : {len(df_author)}')"
   ]
  },
  {
   "cell_type": "markdown",
   "id": "14229958-ac6d-4ca4-ac68-2ec432b823bf",
   "metadata": {},
   "source": [
    "## 7. Shape preprocessing"
   ]
  },
  {
   "cell_type": "code",
   "execution_count": null,
   "id": "5971bdaf-090b-4305-9818-c57d45c2ffdc",
   "metadata": {},
   "outputs": [],
   "source": [
    "import cv2"
   ]
  },
  {
   "cell_type": "markdown",
   "id": "89f3e483-bf5b-4640-aee8-2e918144b62e",
   "metadata": {},
   "source": [
    "#### shape check"
   ]
  },
  {
   "cell_type": "code",
   "execution_count": null,
   "id": "4169dfb7-2a11-4766-9d08-c99dfe23726b",
   "metadata": {},
   "outputs": [],
   "source": [
    "%%time\n",
    "img_shape = []\n",
    "img_shape_no = []\n",
    "for i in tqdm(df_author.Path):\n",
    "    img = cv2.imread('/home/jinny/datas/art500k/'+i)\n",
    "    if type(img) is type(None) : \n",
    "        img_shape.append([0,0,i])\n",
    "        img_shape_no.append(i)\n",
    "        continue\n",
    "    h, w, c = img.shape\n",
    "    img_shape.append([h,w,i])"
   ]
  },
  {
   "cell_type": "code",
   "execution_count": null,
   "id": "65c98bf1-2052-4725-b76b-ea328b07b3e1",
   "metadata": {},
   "outputs": [],
   "source": [
    "df_shape = pd.merge(df_author, pd.DataFrame(img_shape,columns=['h','w','Path']), on = 'Path', how = 'left')\n",
    "df_shape = df_shape[df_shape['h']!=0]\n",
    "df_shape = df_shape[df_shape['w']!=0]\n",
    "df_shape['r'] = [h / w if h > w else w / h for h, w in zip(df_shape['h'], df_shape['w'])]\n",
    "df_shape['size'] = df_shape['h']*df_shape['w']"
   ]
  },
  {
   "cell_type": "markdown",
   "id": "de05a83a-5a81-4c84-a407-b8b712ff85cb",
   "metadata": {},
   "source": [
    "#### shape preprocessing"
   ]
  },
  {
   "cell_type": "code",
   "execution_count": null,
   "id": "7c39757c-e25b-4270-be35-b741ea3380fa",
   "metadata": {},
   "outputs": [],
   "source": [
    "ratio2 = len(df_shape[df_shape['r'] >= 2])\n",
    "under512 = len(df_shape[df_shape['size']<=410*410])\n",
    "print('ratio 2 over :',ratio2/len(df_shape)*100)\n",
    "print('size 512x512 under :',under512/len(df_shape)*100) # 512의 약 80%"
   ]
  },
  {
   "cell_type": "code",
   "execution_count": null,
   "id": "30d72215-f15a-4a90-9310-ef972667770d",
   "metadata": {},
   "outputs": [],
   "source": [
    "print(f'shape preprocessed data : {(ratio2+under512)}')"
   ]
  },
  {
   "cell_type": "code",
   "execution_count": null,
   "id": "a6b18516-2a8a-4855-9755-cf2f8617edac",
   "metadata": {},
   "outputs": [],
   "source": [
    "df_shape = df_shape[df_shape['r'] < 2]\n",
    "df_shape = df_shape[df_shape['size'] > 410*410]\n",
    "df_shape = df_shape.reset_index(drop=True)"
   ]
  },
  {
   "cell_type": "code",
   "execution_count": null,
   "id": "5e0fe526-1595-4eb4-be8c-5dd75d798a88",
   "metadata": {},
   "outputs": [],
   "source": [
    "print(f'shape preprocessing : {len(df_shape)}')"
   ]
  },
  {
   "cell_type": "markdown",
   "id": "bde3451a-6b1d-46dc-b7ce-6969019f5b42",
   "metadata": {},
   "source": [
    "#### resize test"
   ]
  },
  {
   "cell_type": "code",
   "execution_count": null,
   "id": "d61cd5b0-9b75-4bb1-9370-f7898982ff89",
   "metadata": {},
   "outputs": [],
   "source": [
    "import cv2\n",
    "\n",
    "def resize_cv2(image, target_size=(512, 512)):\n",
    "    return cv2.resize(image, target_size, interpolation=cv2.INTER_LANCZOS4)  # 고품질 보간"
   ]
  },
  {
   "cell_type": "code",
   "execution_count": null,
   "id": "826fccd2-d23f-441c-9b76-86545109638f",
   "metadata": {
    "scrolled": true
   },
   "outputs": [],
   "source": [
    "path = '/home/jinny/datas/art500k/'\n",
    "sample = df_shape"
   ]
  },
  {
   "cell_type": "code",
   "execution_count": null,
   "id": "419a1f0e-7b5d-4273-abac-6d1cdb971f59",
   "metadata": {
    "scrolled": true
   },
   "outputs": [],
   "source": [
    "image = cv2.imread(path+sample.iloc[0]['Path'])\n",
    "image = cv2.cvtColor(np.array(image), cv2.COLOR_RGB2BGR)\n",
    "plt.imshow(image)\n",
    "plt.show()\n",
    "resized_image = resize_cv2(image, (512, 512))\n",
    "plt.imshow(resized_image)\n",
    "plt.show()"
   ]
  },
  {
   "cell_type": "markdown",
   "id": "e485d687-24bd-40f5-9ddc-f55beac4372f",
   "metadata": {},
   "source": [
    "## 8. Save"
   ]
  },
  {
   "cell_type": "code",
   "execution_count": null,
   "id": "0fe215b2-37c8-4f5b-974e-d108a3a896ba",
   "metadata": {},
   "outputs": [],
   "source": [
    "df_shape.to_csv('datas/file_info.csv',index=False)"
   ]
  },
  {
   "cell_type": "code",
   "execution_count": null,
   "id": "18655cc9-5584-49d2-bba3-28501e7250a7",
   "metadata": {},
   "outputs": [],
   "source": [
    "prep_keyword = dict()\n",
    "prep_keyword['style'] = drop_style\n",
    "prep_keyword['field_d'] = drop_field\n",
    "prep_keyword['field_u'] = using_field\n",
    "prep_keyword['genre'] = drop_genre\n",
    "prep_keyword['nationality'] = drop_nationality"
   ]
  },
  {
   "cell_type": "code",
   "execution_count": null,
   "id": "9ff5699f-e3f2-4114-ae09-241003e7fb46",
   "metadata": {},
   "outputs": [],
   "source": [
    "pd.DataFrame.from_dict(prep_keyword, orient='index').to_csv('graph/supple/prep_keyword.csv',index=False)"
   ]
  },
  {
   "cell_type": "markdown",
   "id": "8bfaad6a-d970-44bc-98c1-4ae2c1a0641a",
   "metadata": {},
   "source": [
    "-------------------------------------------------------------------------"
   ]
  },
  {
   "cell_type": "markdown",
   "id": "df67a177-5d5e-4285-84a3-b415c823f3d3",
   "metadata": {
    "tags": []
   },
   "source": [
    "## newstyle ( style sep )"
   ]
  },
  {
   "cell_type": "markdown",
   "id": "e2fcdff6-955f-4a07-bc30-8586ad17524e",
   "metadata": {},
   "source": [
    "#### style sep"
   ]
  },
  {
   "cell_type": "code",
   "execution_count": null,
   "id": "e7dc1d9b-b8db-4206-844a-c8c82b4b973b",
   "metadata": {},
   "outputs": [],
   "source": [
    "df_newstyle = pd.read_csv('datas/file_info.csv')"
   ]
  },
  {
   "cell_type": "code",
   "execution_count": null,
   "id": "de5524b9-f5e0-4155-8d3f-a3bf776d3824",
   "metadata": {},
   "outputs": [],
   "source": [
    "df_newstyle['Style'] = df_newstyle['Style'].fillna('')\n",
    "df_newstyle['new_style'] = df_newstyle['Style'].str.split(',')\n",
    "df_newstyle['weight']=df_newstyle['new_style'].apply(len)\n",
    "df_newstyle['weight']=1/df_newstyle['weight']\n",
    "\n",
    "df_newstyle = df_newstyle.explode('new_style')\n",
    "df_newstyle.loc[df_newstyle['new_style']=='','new_style'] = 'nostyle'"
   ]
  },
  {
   "cell_type": "markdown",
   "id": "747c1e84-a2ce-4f34-9b80-b618936563bd",
   "metadata": {
    "tags": []
   },
   "source": [
    "#### style peak"
   ]
  },
  {
   "cell_type": "code",
   "execution_count": null,
   "id": "bb68a8b9-7069-4a09-aaa5-5228e027cf74",
   "metadata": {},
   "outputs": [],
   "source": [
    "df_peak = df_newstyle.drop_duplicates(subset='new_style')[['new_style']]\n",
    "df = df_newstyle.groupby(['new_date','new_style'])['painting_name'].count().reset_index()\n",
    "df_peak = pd.merge(df_peak,df.sort_values(by='painting_name',ascending=False).drop_duplicates(subset='new_date')[['new_date','new_style']], how='left', on='new_style')\n",
    "df_peak = pd.merge(df_peak,df.sort_values(by='painting_name',ascending=False).drop_duplicates(subset='new_date')[['new_date','new_style']], how='left', on='new_style')\n",
    "df_peak = df_peak.rename(columns={'new_date_x':'peak_by_year','new_date_y':'peak_by_style'})\n",
    "df_peak = df_peak.fillna(0)\n",
    "df_peak['peak_by_year'] = df_peak['peak_by_year'].astype(int)\n",
    "df_peak['peak_by_style'] = df_peak['peak_by_style'].astype(int)"
   ]
  },
  {
   "cell_type": "code",
   "execution_count": null,
   "id": "d30ec70d-10bd-4a65-9f77-374a37207cf7",
   "metadata": {},
   "outputs": [],
   "source": [
    "df_newstyle.to_csv('datas/df_newstyle.csv',index=False)\n",
    "df_peak.to_csv('datas/df_peak.csv',index=False)"
   ]
  },
  {
   "cell_type": "code",
   "execution_count": null,
   "id": "0ba56013-28ab-41b6-b2cf-e7a02769e6ce",
   "metadata": {},
   "outputs": [],
   "source": []
  }
 ],
 "metadata": {
  "kernelspec": {
   "display_name": "history",
   "language": "python",
   "name": "history"
  },
  "language_info": {
   "codemirror_mode": {
    "name": "ipython",
    "version": 3
   },
   "file_extension": ".py",
   "mimetype": "text/x-python",
   "name": "python",
   "nbconvert_exporter": "python",
   "pygments_lexer": "ipython3",
   "version": "3.8.5"
  }
 },
 "nbformat": 4,
 "nbformat_minor": 5
}
