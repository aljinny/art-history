{
 "cells": [
  {
   "cell_type": "code",
   "execution_count": null,
   "id": "5b377ed6-40e9-40b9-bfbb-bd4d53d98790",
   "metadata": {},
   "outputs": [],
   "source": [
    "import pandas as pd\n",
    "import numpy as np\n",
    "import matplotlib.pyplot as plt\n",
    "from tqdm import tqdm\n",
    "\n",
    "import matplotlib.pyplot as plt\n",
    "import matplotlib.image as img\n",
    "from matplotlib.image import imread\n",
    "import matplotlib.font_manager as fm\n",
    "from mpl_toolkits.axes_grid1.inset_locator import inset_axes\n",
    "from matplotlib.patches import Rectangle\n",
    "import umap\n",
    "\n",
    "import pickle"
   ]
  },
  {
   "cell_type": "markdown",
   "id": "f6bfc83a-dcf7-4906-8430-c75496c5c676",
   "metadata": {},
   "source": [
    "## Vector Setting"
   ]
  },
  {
   "cell_type": "code",
   "execution_count": null,
   "id": "ffddfae7-bb60-4e86-9b28-a4f3fb646151",
   "metadata": {},
   "outputs": [],
   "source": [
    "path = '/home/jinny/projects/Art-history/Art-history/datas/'\n",
    "file_info = pd.read_csv(path+'/file_info.csv')"
   ]
  },
  {
   "cell_type": "markdown",
   "id": "15985672-77a9-4d44-9620-f5588feb7f0e",
   "metadata": {},
   "source": [
    "#### A-vector"
   ]
  },
  {
   "cell_type": "code",
   "execution_count": null,
   "id": "8cdc68fd-8ae9-4c4e-829a-fd565e98de1f",
   "metadata": {},
   "outputs": [],
   "source": [
    "avecs = np.load(path+'vectors/avec_latents.npy', allow_pickle=True)\n",
    "print(f'{len(file_info)}, {len(avecs)}')"
   ]
  },
  {
   "cell_type": "markdown",
   "id": "46f6eee1-68ec-411b-ab15-325891e72fbd",
   "metadata": {},
   "source": [
    "#### C-vector"
   ]
  },
  {
   "cell_type": "raw",
   "id": "e5d01c76-5093-43d8-95dd-1be789b8cf4b",
   "metadata": {},
   "source": [
    "cvec_00 = np.load( path+'vectors/cvec_latents_00.npy', allow_pickle=True)\n",
    "cvec_01 = np.load( path+'vectors/cvec_latents_01.npy', allow_pickle=True)\n",
    "cvec_02 = np.load( path+'vectors/cvec_latents_02.npy', allow_pickle=True)\n",
    "cvec_03 = np.load( path+'vectors/cvec_latents_03.npy', allow_pickle=True)\n",
    "cvec_04 = np.load( path+'vectors/cvec_latents_04.npy', allow_pickle=True)\n",
    "cvec_05 = np.load( path+'vectors/cvec_latents_05.npy', allow_pickle=True)\n",
    "\n",
    "cvecs =  np.append(np.append(np.append(np.append(np.append(cvec_00,cvec_01, axis=0),\n",
    "                                                 cvec_02, axis=0),\n",
    "                                       cvec_03, axis=0),\n",
    "                             cvec_04, axis=0),\n",
    "                   cvec_05, axis=0)\n",
    "np.save(path+'vectors/cvec_latents', np.array(cvecs))"
   ]
  },
  {
   "cell_type": "code",
   "execution_count": null,
   "id": "61059cbd-c413-4c09-85fe-d9e60a6f3d82",
   "metadata": {},
   "outputs": [],
   "source": [
    "cvecs = np.load(path+'vectors/cvec_latents.npy', allow_pickle=True)\n",
    "print(len(cvecs))"
   ]
  },
  {
   "cell_type": "markdown",
   "id": "e1374796-f475-453f-81e0-65c8bf4e0d99",
   "metadata": {},
   "source": [
    "## Make UMAP"
   ]
  },
  {
   "cell_type": "code",
   "execution_count": null,
   "id": "c46b69b0-1a00-42cc-b942-35c47eced4b2",
   "metadata": {},
   "outputs": [],
   "source": [
    "avecs = np.array([np.array(i)[0] for i in avecs[:,[0]]])\n",
    "cvecs = np.array([np.array(i)[0][0] for i in cvecs[:,[0]]])"
   ]
  },
  {
   "cell_type": "code",
   "execution_count": null,
   "id": "5be021ea-415b-42bf-9283-584dc0e09f08",
   "metadata": {},
   "outputs": [],
   "source": [
    "avec_umap = umap.UMAP(n_neighbors=100, random_state=102, min_dist=0).fit(avecs)\n",
    "f_name = path+'models/avec_umap.sav'\n",
    "pickle.dump(avec_umap, open(f_name, 'wb'))"
   ]
  },
  {
   "cell_type": "code",
   "execution_count": null,
   "id": "724028a8-1ab5-450d-b12f-96bb8028e3df",
   "metadata": {},
   "outputs": [],
   "source": [
    "cvec_umap = umap.UMAP(n_neighbors=100, random_state=102, min_dist=0).fit(cvecs)\n",
    "f_name = path+'models/cvec_umap.sav'\n",
    "pickle.dump(cvec_umap, open(f_name, 'wb'))"
   ]
  }
 ],
 "metadata": {
  "kernelspec": {
   "display_name": "history",
   "language": "python",
   "name": "history"
  },
  "language_info": {
   "codemirror_mode": {
    "name": "ipython",
    "version": 3
   },
   "file_extension": ".py",
   "mimetype": "text/x-python",
   "name": "python",
   "nbconvert_exporter": "python",
   "pygments_lexer": "ipython3",
   "version": "3.8.5"
  }
 },
 "nbformat": 4,
 "nbformat_minor": 5
}
