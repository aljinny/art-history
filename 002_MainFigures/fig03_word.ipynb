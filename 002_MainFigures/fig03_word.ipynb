{
 "cells": [
  {
   "cell_type": "code",
   "execution_count": null,
   "id": "63bb3eb0-3e62-4f3b-b3c0-8f9ccf483713",
   "metadata": {},
   "outputs": [],
   "source": [
    "import pickle\n",
    "import pandas as pd\n",
    "from pandas import Series\n",
    "from tqdm import tqdm\n",
    "import seaborn as sns\n",
    "import numpy as np\n",
    "\n",
    "import matplotlib\n",
    "from matplotlib import pyplot as plt\n",
    "from matplotlib import font_manager as fm\n",
    "from matplotlib import rc\n",
    "\n",
    "from sklearn.preprocessing import normalize\n",
    "from sklearn.linear_model import LinearRegression"
   ]
  },
  {
   "cell_type": "code",
   "execution_count": null,
   "id": "1dbe89cd-29b1-47d7-ac99-da256296bb8e",
   "metadata": {},
   "outputs": [],
   "source": [
    "import matplotlib.pyplot as plt \n",
    "plt.rcParams.update({\n",
    "    \"font.family\" : 'Arial',   # specify font family here\n",
    "    \"font.size\" : 12,\n",
    "    \"font.weight\" : \"normal\"})          # specify font size here"
   ]
  },
  {
   "cell_type": "code",
   "execution_count": null,
   "id": "7ab4a03f-2c85-4731-aa07-dcb880065503",
   "metadata": {},
   "outputs": [],
   "source": [
    "base_path= '/home/jinny/projects/Art-history/Art-history/datas/'\n",
    "\n",
    "df = pd.read_csv(base_path+'words/vocas_counting.csv')\n",
    "df_idx = pd.read_csv(base_path+'words/vocas.csv')\n",
    "df_norm = pd.DataFrame(normalize(df, norm='l1', axis=0), columns=[int(x) for x in df.columns])\n",
    "\n",
    "idx2word = dict(zip(df_idx['index'], df_idx['word']))\n",
    "wordidx2cnt = df.sum(axis=1)\n",
    "wordidx2cnt = wordidx2cnt.sort_values(ascending=0)\n",
    "word2idx = {v:k for k,v in idx2word.items()}"
   ]
  },
  {
   "cell_type": "code",
   "execution_count": null,
   "id": "da93e91b-ba02-4b69-81c1-ae8c0d81bc07",
   "metadata": {},
   "outputs": [],
   "source": [
    "words_a = ['jesus','angel','saint']\n",
    "words_b = ['man','woman','people']\n",
    "words_c = ['portrait','abstract']\n",
    "words_d = ['mountain','river','trees']\n",
    "words_e = ['train','ship']\n",
    "words_f = ['blue','red','green']\n",
    "\n",
    "words_zip = [words_a, words_b, words_c, words_d, words_e, words_f]"
   ]
  },
  {
   "cell_type": "code",
   "execution_count": null,
   "id": "c6932d80-76c0-4d3a-9277-a6c51ce46e33",
   "metadata": {},
   "outputs": [],
   "source": [
    "import numpy as np\n",
    "import matplotlib.ticker as ticker\n",
    "\n",
    "fig, ax = plt.subplots(2, 3, figsize=(17, 11))\n",
    "ax = ax.reshape(-1)\n",
    "\n",
    "lims = [[0.00,0.05,0.10],[0.00,0.23,0.46],[0.00,0.14,0.28],[0.00,0.05,0.10],[0.00,0.015,0.03],[0.00,0.10,0.20]]\n",
    "lims = [np.array(i)*0.05 for i in lims]\n",
    "\n",
    "for idx, words in enumerate(words_zip):\n",
    "    for i, word in enumerate(words):\n",
    "        ax[idx].plot(df_norm[df_norm.columns.difference(['slope', 'word'])].loc[word2idx[word]], label=f'{word}')\n",
    "    if idx in [0,1,2] :\n",
    "        ax[idx].legend(bbox_to_anchor=(1, 1), fontsize=20, loc=\"upper right\")\n",
    "    else :\n",
    "        ax[idx].legend(bbox_to_anchor=(0, 1), fontsize=20, loc=\"upper left\")\n",
    "    ax[idx].set_xlabel('Year', fontsize=30)\n",
    "    ax[idx].set_ylabel('Normalized frequency', fontsize=30)\n",
    "\n",
    "    # Set 5 y-ticks between the min and max values\n",
    "    ax[idx].set_yticks(lims[idx])  # Set 5 evenly spaced ticks\n",
    "\n",
    "\n",
    "    # Format y-ticks to 2 decimal places\n",
    "    #ax[idx].yaxis.set_major_formatter(ticker.FormatStrFormatter('%.4f'))\n",
    "    r = lims[idx][2]-lims[idx][0]\n",
    "    ax[idx].set_ylim(lims[idx][0]-r*0.025,lims[idx][2]+r*0.025)\n",
    "\n",
    "    # Ensure all x-ticks are shown\n",
    "    ax[idx].set_xticks([1500+i*100 for i in range(6)])  # Set all x-ticks\n",
    "\n",
    "    # Set tick label sizes\n",
    "    ax[idx].tick_params(axis='x', labelsize=20, rotation=30)\n",
    "    ax[idx].tick_params(axis='y', labelsize=20, rotation=30)\n",
    "\n",
    "\n",
    "plt.tight_layout()  # Ensure that subplots do not overlap\n",
    "plt.savefig('/home/jinny/projects/Art-history/Art-history/graph/figure03.svg',bbox_inches='tight',transparent = True,dpi=600)\n",
    "plt.show()\n"
   ]
  },
  {
   "cell_type": "code",
   "execution_count": null,
   "id": "2c1b593b-3683-42e0-9383-91b1b9b8e9a3",
   "metadata": {},
   "outputs": [],
   "source": []
  }
 ],
 "metadata": {
  "kernelspec": {
   "display_name": "history",
   "language": "python",
   "name": "history"
  },
  "language_info": {
   "codemirror_mode": {
    "name": "ipython",
    "version": 3
   },
   "file_extension": ".py",
   "mimetype": "text/x-python",
   "name": "python",
   "nbconvert_exporter": "python",
   "pygments_lexer": "ipython3",
   "version": "3.8.5"
  }
 },
 "nbformat": 4,
 "nbformat_minor": 5
}
