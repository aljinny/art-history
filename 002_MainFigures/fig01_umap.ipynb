{
 "cells": [
  {
   "cell_type": "code",
   "execution_count": null,
   "id": "7f0a1d7c-b09e-421b-b22e-f14d787f332c",
   "metadata": {},
   "outputs": [],
   "source": [
    "import pandas as pd\n",
    "import numpy as np\n",
    "import matplotlib.pyplot as plt\n",
    "import seaborn as sns\n",
    "import umap\n",
    "from tqdm import tqdm\n",
    "\n",
    "import matplotlib.pyplot as plt\n",
    "import matplotlib.image as img\n",
    "from matplotlib.image import imread\n",
    "import matplotlib.font_manager as fm\n",
    "from mpl_toolkits.axes_grid1.inset_locator import inset_axes\n",
    "from matplotlib.patches import Rectangle\n",
    "\n",
    "import cv2\n",
    "import pickle"
   ]
  },
  {
   "cell_type": "code",
   "execution_count": null,
   "id": "52c58a37-b7ab-4dc9-9beb-5bed7ba37c25",
   "metadata": {},
   "outputs": [],
   "source": [
    "import matplotlib.pyplot as plt \n",
    "plt.rcParams.update({\n",
    "    \"font.family\" : 'Arial',   # specify font family here\n",
    "    \"font.size\" : 12,\n",
    "    \"font.weight\" : \"normal\"})          # specify font size here"
   ]
  },
  {
   "cell_type": "code",
   "execution_count": null,
   "id": "cf3162e5-1dd8-4766-b261-bc83fa0af4ec",
   "metadata": {},
   "outputs": [],
   "source": [
    "base_path = '/home/jinny/projects/Art-history/Art-history/datas/'\n",
    "file_info = pd.read_csv(base_path+'file_info.csv')\n",
    "\n",
    "# file_info_latent\n",
    "df = pd.DataFrame(( np.load(base_path+'vectors/avec_latents.npy', allow_pickle=True)),columns=['avec','Path'])\n",
    "file_info_latents = pd.merge(file_info, df, how = 'left', on = 'Path')\n",
    "file_info_latents = file_info_latents[~file_info_latents.avec.isnull()]\n",
    "\n",
    "avec = np.array([i.reshape(-1) for i in file_info_latents['avec']])"
   ]
  },
  {
   "cell_type": "code",
   "execution_count": null,
   "id": "8926ea1b-72b8-46b3-95ba-8177cc49ffb6",
   "metadata": {},
   "outputs": [],
   "source": [
    "df = pd.DataFrame(np.load(base_path+'vectors/cvec_latents.npy', allow_pickle=True),columns=['cvec','Path'])\n",
    "file_info_latents = pd.merge(file_info_latents, df, how = 'left', on = 'Path')\n",
    "\n",
    "cvec = np.array([i.reshape(-1) for i in file_info_latents['cvec']])"
   ]
  },
  {
   "cell_type": "markdown",
   "id": "65441086-64f7-448e-be5b-08d7a2f2d036",
   "metadata": {},
   "source": [
    "### graph-a"
   ]
  },
  {
   "cell_type": "code",
   "execution_count": null,
   "id": "332100da-facc-4ebe-af21-e9783064a6e3",
   "metadata": {},
   "outputs": [],
   "source": [
    "## #sandro botticelli #titian #jan van eyck #pietro lorenzetti\n",
    "r_painting = ['The Birth Of Venus 1485', 'Rape Of Europe 1562', 'The Arnolfini Wedding The Portrait', 'Madonna Enthroned With Angels 1340']"
   ]
  },
  {
   "cell_type": "code",
   "execution_count": null,
   "id": "1df914d6-55bf-4451-bc20-88ad6942d69a",
   "metadata": {},
   "outputs": [],
   "source": [
    "## #edvard munch #georges seurat #gustav #klimt #egon schiele\n",
    "pi_painting = ['The Scream 1895', 'Sunday Afternoon On The Island Of La Grande Jatte 1886', 'The Kiss 1908', 'Self Portrait With Chinese Lantern Fruits 1912']"
   ]
  },
  {
   "cell_type": "code",
   "execution_count": null,
   "id": "ddcd6e71-8cb1-4979-90c5-8e82b6c40b3b",
   "metadata": {},
   "outputs": [],
   "source": [
    "fig, ax = plt.subplots(2,2,figsize=(10, 10))\n",
    "ax = ax.reshape(-1)\n",
    "\n",
    "for i in range(4) :\n",
    "    path = file_info_latents['Path'][file_info_latents['painting_name'].str.contains(pi_painting[i])].values[0]\n",
    "    img = imread(base_path+\"resized_image/\"+path)\n",
    "    ax[i].imshow(img)\n",
    "    ax[i].axis('off')\n",
    "fig.tight_layout()\n",
    "plt.savefig('graph/figure01_A2.svg',bbox_inches='tight',transparent = True,dpi=600)"
   ]
  },
  {
   "cell_type": "markdown",
   "id": "4e727e9b-4970-4a0a-8cf8-2d54000d28da",
   "metadata": {},
   "source": [
    "# umap"
   ]
  },
  {
   "cell_type": "code",
   "execution_count": null,
   "id": "e04be031-25a6-48b4-a443-6e6656402eaa",
   "metadata": {},
   "outputs": [],
   "source": [
    "avec_umap = pickle.load((open(base_path+'models/avec_umap.sav', 'rb')))\n",
    "cvec_umap = pickle.load((open(base_path+'models/cvec_umap.sav', 'rb')))"
   ]
  },
  {
   "cell_type": "code",
   "execution_count": null,
   "id": "45db687c-6945-4e52-8124-6610708ccc9b",
   "metadata": {},
   "outputs": [],
   "source": [
    "avecs = avec_umap.transform(avec)\n",
    "avecs  = pd.DataFrame(avecs,columns=['x','y'])\n",
    "avecs['new_date_detail']= file_info_latents['new_date_detail']\n",
    "avecs['new_date'] = list(file_info_latents['new_date'])\n",
    "avecs['author_name'] = list(file_info_latents['author_name'])\n",
    "avecs['Style'] = list(file_info_latents['Style'])\n",
    "avecs['Path'] = list(file_info_latents['Path'])\n",
    "avecs['Genre'] = list(file_info_latents['Genre'])"
   ]
  },
  {
   "cell_type": "code",
   "execution_count": null,
   "id": "668673fb-c97b-4481-9325-9878e3c25d32",
   "metadata": {},
   "outputs": [],
   "source": [
    "cvecs = cvec_umap.transform(cvec)\n",
    "cvecs  = pd.DataFrame(cvecs,columns=['x','y'])\n",
    "cvecs['new_date_detail']= file_info_latents['new_date_detail']\n",
    "cvecs['new_date']= file_info_latents['new_date']\n",
    "cvecs['author_name']= file_info_latents['author_name']\n",
    "cvecs['Style'] = list(file_info_latents['Style'])\n",
    "cvecs['Path']= file_info_latents['Path']\n",
    "cvecs['Genre']= file_info_latents['Genre']"
   ]
  },
  {
   "cell_type": "markdown",
   "id": "7367662c-0867-4d2e-b5b8-6a11699bff00",
   "metadata": {},
   "source": [
    "### graph-b"
   ]
  },
  {
   "cell_type": "code",
   "execution_count": null,
   "id": "62d21aa4-9939-4576-982c-9f87bbe7ac3f",
   "metadata": {},
   "outputs": [],
   "source": [
    "def vec2img_date(date1,date2,date3,x1,x2,y1,y2) :\n",
    "    dates = [date1,date2,date3]\n",
    "    points = list()\n",
    "    df = avecs.copy()\n",
    "    df = df[(df['x']<x2)&(df['x']>x1)&(df['y']<y2)&(df['y']>y1)]\n",
    "\n",
    "    plt.figure(figsize=(10, 10))\n",
    "    for i,date in enumerate(dates) :\n",
    "        temp = df[df['new_date']==date]\n",
    "        temp = temp.sample(n=1,random_state=505)\n",
    "        \n",
    "        plt.subplot(1, 3, i + 1)\n",
    "        img = imread(base_path+\"resized_image/\"+temp['Path'].values[0])\n",
    "        plt.imshow(img)\n",
    "        plt.axis('off')\n",
    "        \n",
    "        points.append(temp['Path'].values[0])\n",
    "    return points"
   ]
  },
  {
   "cell_type": "code",
   "execution_count": null,
   "id": "07cecf1c-f9f5-4b90-9293-2ac3a781c354",
   "metadata": {},
   "outputs": [],
   "source": [
    "def vec2img_date_ac_ver(date,xa1,xa2,ya1,ya2,xc1,xc2,yc1,yc2) :\n",
    "    df = avecs.copy()\n",
    "    df_a = df[(df['x']<xa2)&(df['x']>xa1)&(df['y']<ya2)&(df['y']>ya1)]\n",
    "\n",
    "    df = cvecs.copy()\n",
    "    df = df[df['Path'].isin(df_a['Path'])]\n",
    "    df_c = df[(df['x']<xc2)&(df['x']>xc1)&(df['y']<yc2)&(df['y']>yc1)]\n",
    "\n",
    "    plt.figure(figsize=(10, 10))\n",
    "    temp = df_c[df_c['new_date']==date]\n",
    "    temp = temp['Path'].values[1]\n",
    "\n",
    "    img = imread(base_path+\"resized_image/\"+temp)\n",
    "    plt.imshow(img)\n",
    "    plt.axis('off')\n",
    "    \n",
    "    return temp"
   ]
  },
  {
   "cell_type": "code",
   "execution_count": null,
   "id": "a9df6062-0e7c-460d-99d4-94bf7010a92e",
   "metadata": {},
   "outputs": [],
   "source": [
    "points_A = vec2img_date(1340,1650,1950,0,2,2,4)\n",
    "points_B = vec2img_date(1300,1650,1950,4,6,1,2)\n",
    "points_C = vec2img_date(1300,1650,1950,7.5,10,0,1.5)\n",
    "\n",
    "# points_B_2 = vec2img_date_ac_ver(1630,5,6,1.5,2.5,0,1,0,1)\n",
    "# points_B[1] = points_B_2\n",
    "\n",
    "points = [points_A,points_B,points_C]"
   ]
  },
  {
   "cell_type": "code",
   "execution_count": null,
   "id": "3f09819b-0429-44e7-b693-38e646803912",
   "metadata": {},
   "outputs": [],
   "source": [
    "import matplotlib.cm as cm\n",
    "\n",
    "fig, ax = plt.subplots(1,1, figsize=(11, 9))\n",
    "ax.patch.set_facecolor('white')\n",
    "\n",
    "## umap\n",
    "sns.scatterplot(x='x',y='y', data=avecs, hue='new_date',alpha=0.5, s=3, palette=\"Spectral_r\",linewidth=0, edgecolor=None)\n",
    "for point in points :\n",
    "    temp = avecs[avecs['Path'].isin(point)]\n",
    "    #temp_p = avecs['Path'].values[0]\n",
    "    sns.scatterplot(x='x',y='y', data=temp, hue='new_date', s=70, palette='Spectral_r', edgecolor='black', linewidth=1, marker='s')  \n",
    "ax.set_title(f\"A-vector\",fontsize=34, pad=20)\n",
    "ax.legend(title='Date',loc = 'upper right').remove()\n",
    "ax.set_xlim(avecs.x.min()-0.2, avecs.x.max()+0.2)\n",
    "ax.set_ylim(avecs.y.min()-2, avecs.y.max()+2)\n",
    "ax.get_xaxis().set_visible(False)\n",
    "ax.get_yaxis().set_visible(False)\n",
    "\n",
    "## image\n",
    "# left\n",
    "for i in range(3):\n",
    "    axins = inset_axes(ax, width=\"8.5%\", height=\"8.5%\", loc='upper left',\n",
    "                       bbox_to_anchor=(-0.01+i*0.155, -1, 2, 2),\n",
    "                       bbox_transform=ax.transAxes)\n",
    "    axins.set_facecolor('darkblue')  # 일단 네모박스를 파란색으로 설정\n",
    "    temp = avecs[avecs['Path'] == points[0][i]]\n",
    "    img = imread(base_path+\"resized_image/\"+temp['Path'].values[0])\n",
    "    axins.imshow(img)\n",
    "    axins.axis('off')\n",
    "    # 이미지 아래에 숫자 추가\n",
    "    axins.text(0.5, -0.25, str(temp['new_date'].values[0]), transform=axins.transAxes, fontsize=26, ha='center')\n",
    "\n",
    "    # 이미지와 점 연결\n",
    "    ax.annotate('',\n",
    "                xy=(temp.x.values[0], temp.y.values[0]+0.04),   # 점의 좌표\n",
    "                xytext=(0.1 + i*0.155, 0.72),  # 이미지 박스의 좌표\n",
    "                textcoords='axes fraction',\n",
    "                arrowprops=dict(arrowstyle='-', lw=1.5, color='black'))\n",
    "# middle\n",
    "for i in range(3):\n",
    "    axins = inset_axes(ax, width=\"8.5%\", height=\"8.5%\", loc='lower center',\n",
    "                       bbox_to_anchor=(-0.65+i*0.155, 0.05, 2, 2),\n",
    "                       bbox_transform=ax.transAxes)\n",
    "    axins.set_facecolor('darkblue')\n",
    "    temp = avecs[avecs['Path'] == points[1][i]]\n",
    "    img = imread(base_path+\"resized_image/\"+temp['Path'].values[0])\n",
    "    axins.imshow(img, zorder=1)\n",
    "    axins.axis('off')\n",
    "    # 이미지 테두리\n",
    "    rect = Rectangle((0, 0), img.shape[1]-1, img.shape[0]-1, linewidth=13, edgecolor='r', facecolor='none', zorder=2)\n",
    "    axins.add_patch(rect)\n",
    "    # 이미지 아래에 숫자 추가\n",
    "    axins.text(0.5, -0.25, str(temp['new_date'].values[0]), transform=axins.transAxes, fontsize=26, ha='center')\n",
    "    # 이미지와 점 연결\n",
    "    ax.annotate('',\n",
    "                xy=(temp.x.values[0], temp.y.values[0]-0.04),   # 점의 좌표\n",
    "                xytext=(0.35+i*0.155,0.264),  # 이미지 박스의 좌표\n",
    "                textcoords='axes fraction',\n",
    "                arrowprops=dict(arrowstyle='-', lw=1.5, color='black'))\n",
    "# right\n",
    "for i in range(3):\n",
    "    axins = inset_axes(ax, width=\"8.5%\", height=\"8.5%\", loc='upper right',\n",
    "                       bbox_to_anchor=(-1.3+i*0.155, -1, 2, 2),\n",
    "                       bbox_transform=ax.transAxes)\n",
    "    axins.set_facecolor('darkblue')\n",
    "    temp = avecs[avecs['Path'] == points[2][i]]\n",
    "    img = imread(base_path+\"resized_image/\"+temp['Path'].values[0])\n",
    "    axins.imshow(img)\n",
    "    axins.axis('off')\n",
    "    # 이미지 아래에 숫자 추가\n",
    "    axins.text(0.5, -0.25, str(temp['new_date'].values[0]), transform=axins.transAxes, fontsize=26, ha='center')\n",
    "    # 이미지와 점 연결\n",
    "    ax.annotate('',\n",
    "                xy=(temp.x.values[0], temp.y.values[0]+0.04),   # 점의 좌표\n",
    "                xytext=(0.6+i*0.155,0.725),  # 이미지 박스의 좌표\n",
    "                textcoords='axes fraction',\n",
    "                arrowprops=dict(arrowstyle='-', lw=1.5, color='black'))\n",
    "\n",
    "## clolrbar\n",
    "# ScalarMappable을 사용하여 색상 매핑을 생성합니다.\n",
    "sm = cm.ScalarMappable(cmap='Spectral_r')\n",
    "sm.set_array(range(70))\n",
    "# colorbar를 추가합니다.\n",
    "cbar = plt.colorbar(sm, ax=ax, pad=0.01, aspect=30)\n",
    "cbar.set_label('Year', rotation=270, labelpad=30,fontsize=26)\n",
    "cbar.outline.set_edgecolor('black')\n",
    "cbar.outline.set_linewidth(0.8)\n",
    "# colorbar의 눈금과 눈금 레이블을 설정합니다.\n",
    "cbar.set_ticks([0,10,20,30,40,50,60, 69])  # 예시로 0, 35, 69 설정\n",
    "cbar.set_ticklabels([1300,1400,1500, 1600,1700,1800, 1900,1990])  # 예시로 숫자 변경\n",
    "cbar.ax.invert_yaxis()\n",
    "cbar.ax.yaxis.set_tick_params(labelsize=26)\n",
    "\n",
    "\n",
    "## save\n",
    "fig.tight_layout()\n",
    "plt.savefig('graph/figure01_B.png',bbox_inches='tight',transparent = True,dpi=600)"
   ]
  },
  {
   "cell_type": "markdown",
   "id": "1c42ece5-62ac-47d9-b02b-4816c2f4eced",
   "metadata": {},
   "source": [
    "### graph-c"
   ]
  },
  {
   "cell_type": "code",
   "execution_count": null,
   "id": "707aa3ff-ce64-4d05-9c91-cc0db060826c",
   "metadata": {},
   "outputs": [],
   "source": [
    "def vec2img_date_c_ver() :\n",
    "    dates = [[1300+j*100+i*10 for i in range(10)] for j in range(7)]\n",
    "    xp = [-1.0, -0.5, 0, 1, 2, 4, 5.5]\n",
    "    yp = [0, 0.3, 0.7, 1.2, 2.2, 3.5, 4.8]\n",
    "    points = list()\n",
    "    df = cvecs.copy()\n",
    "\n",
    "    plt.figure(figsize=(10, 10))\n",
    "    for i,date in enumerate(dates) :\n",
    "        temp = df[df['new_date'].isin(date)]\n",
    "        temp = temp[(temp['x']<xp[i]+0.2)&(temp['x']>xp[i]-0.2)&(temp['y']<yp[i]+0.2)&(temp['y']>yp[i]-0.2)]\n",
    "        temp = temp.sample(n=1,random_state=7)\n",
    "        print(temp['new_date'].values[0])\n",
    "        print(temp['Path'].values[0])\n",
    "        \n",
    "        plt.subplot(1, 7, i + 1)\n",
    "        img = imread(base_path+\"resized_image/\"+temp['Path'].values[0])\n",
    "        plt.imshow(img)\n",
    "        plt.axis('off')\n",
    "        \n",
    "        points.append(temp['Path'].values[0])\n",
    "    return points"
   ]
  },
  {
   "cell_type": "code",
   "execution_count": null,
   "id": "e6dffadc-3aed-48fe-8942-d0573e23542c",
   "metadata": {},
   "outputs": [],
   "source": [
    "points_c = vec2img_date_c_ver()\n",
    "points_c[0] = points_B[0]\n",
    "points_c[3] = points_B[1]\n",
    "points_c[6] = points_B[2]"
   ]
  },
  {
   "cell_type": "code",
   "execution_count": null,
   "id": "bd5c1642-61da-4c83-8fa7-f2dec22a0b3c",
   "metadata": {},
   "outputs": [],
   "source": [
    "fig, ax = plt.subplots(1,1, figsize=(11, 9))\n",
    "ax.patch.set_facecolor('white')\n",
    "\n",
    "## umap\n",
    "sns.scatterplot(x='x',y='y', data=cvecs, hue='new_date',alpha=0.5, s=3, palette=\"Spectral_r\",linewidth=0, edgecolor=None)\n",
    "\n",
    "temp = cvecs[cvecs['Path'].isin(points_c)]\n",
    "sns.scatterplot(x='x',y='y', data=temp, s=70, hue='new_date', palette=\"Spectral_r\", edgecolor='black', linewidth=1, marker='s') \n",
    "\n",
    "ax.set_title(f\"C-vector\",fontsize=34, pad = 20)\n",
    "ax.legend(title='Date',loc = 'upper right').remove()\n",
    "ax.set_xlim(cvecs.x.min()-0.2, cvecs.x.max()+0.2)\n",
    "ax.set_ylim(cvecs.y.min()-2.8, cvecs.y.max()+0.5)\n",
    "ax.get_xaxis().set_visible(False)\n",
    "ax.get_yaxis().set_visible(False)\n",
    "\n",
    "## image\n",
    "# top\n",
    "for i in range(3):\n",
    "    axins = inset_axes(ax, width=\"8.5%\", height=\"8.5%\", loc='upper left',\n",
    "                       bbox_to_anchor=(-0.02+i*0.155, -1, 2, 2),\n",
    "                       bbox_transform=ax.transAxes)\n",
    "    axins.set_facecolor('darkblue')  # 일단 네모박스를 파란색으로 설정\n",
    "    temp = cvecs[cvecs['Path'] == points_c[i]]\n",
    "    temp_path = temp['Path'].values[0]\n",
    "    img = imread(base_path+\"resized_image/\"+temp_path)\n",
    "    axins.imshow(img, zorder=1)\n",
    "    axins.axis('off')\n",
    "    # 이미지 테두리\n",
    "    if temp_path in points_B :\n",
    "        rect = Rectangle((0, 0), img.shape[1]-1, img.shape[0]-1, linewidth=13, edgecolor='r', facecolor='none', zorder=2)\n",
    "        axins.add_patch(rect)\n",
    "\n",
    "    # 이미지 아래에 숫자 추가\n",
    "    axins.text(0.5, -0.3, str(temp['new_date'].values[0]), transform=axins.transAxes, fontsize=26, ha='center')\n",
    "\n",
    "    # 이미지와 점 연결\n",
    "    ax.annotate('',\n",
    "                xy=(temp.x.values[0], temp.y.values[0]+0.1),   # 점의 좌표\n",
    "                xytext=(0.1 + i*0.155, 0.72),  # 이미지 박스의 좌표\n",
    "                textcoords='axes fraction',\n",
    "                arrowprops=dict(arrowstyle='-', lw=1.5, color='black'))\n",
    "# bottom\n",
    "for i in range(4):\n",
    "    axins = inset_axes(ax, width=\"8.5%\", height=\"8.5%\", loc='lower right',\n",
    "                       bbox_to_anchor=(-1.45+i*0.155, 0, 2, 2),\n",
    "                       bbox_transform=ax.transAxes)\n",
    "    axins.set_facecolor('darkblue')  # 일단 네모박스를 파란색으로 설정\n",
    "    temp = cvecs[cvecs['Path'] == points_c[i+3]]\n",
    "    temp_path = temp['Path'].values[0]\n",
    "    img = imread(base_path+\"resized_image/\"+temp_path)\n",
    "    axins.imshow(img, zorder=1)\n",
    "    axins.axis('off')\n",
    "    # 이미지 테두리\n",
    "    if temp_path in points_B :\n",
    "        rect = Rectangle((0, 0), img.shape[1]-1, img.shape[0]-1, linewidth=13, edgecolor='r', facecolor='none', zorder=2)\n",
    "        axins.add_patch(rect)\n",
    "    # 이미지 아래에 숫자 추가\n",
    "    axins.text(0.5, 1.05, str(temp['new_date'].values[0]), transform=axins.transAxes, fontsize=26, ha='center')\n",
    "\n",
    "    # 이미지와 점 연결\n",
    "    ax.annotate('',\n",
    "                xy=(temp.x.values[0], temp.y.values[0]-0.15),   # 점의 좌표\n",
    "                xytext=(0.44 + i*0.155, 0.28),  # 이미지 박스의 좌표\n",
    "                textcoords='axes fraction',\n",
    "                arrowprops=dict(arrowstyle='-', lw=1.5, color='black'))\n",
    "\n",
    "\n",
    "## clolrbar\n",
    "# ScalarMappable을 사용하여 색상 매핑을 생성합니다.\n",
    "sm = cm.ScalarMappable(cmap='Spectral_r')\n",
    "sm.set_array(range(70))\n",
    "# colorbar를 추가합니다.\n",
    "cbar = plt.colorbar(sm, ax=ax, pad=0.01, aspect=30)\n",
    "cbar.set_label('Year', rotation=270, labelpad=30,fontsize=26)\n",
    "cbar.outline.set_edgecolor('black')\n",
    "cbar.outline.set_linewidth(0.8)\n",
    "# colorbar의 눈금과 눈금 레이블을 설정합니다.\n",
    "cbar.set_ticks([0,10,20,30,40,50,60, 69])  # 예시로 0, 35, 69 설정\n",
    "cbar.set_ticklabels([1300,1400,1500, 1600,1700,1800, 1900,1990])  # 예시로 숫자 변경\n",
    "cbar.ax.yaxis.set_tick_params(labelsize=26)\n",
    "cbar.ax.invert_yaxis()\n",
    "\n",
    "\n",
    "## save\n",
    "fig.tight_layout()\n",
    "plt.savefig('graph/figure01_C.png',bbox_inches='tight',transparent = True,dpi=600)"
   ]
  },
  {
   "cell_type": "markdown",
   "id": "6784fa0d-f60b-468c-9b5d-3d76824c7d28",
   "metadata": {},
   "source": [
    "# umap sub"
   ]
  },
  {
   "cell_type": "code",
   "execution_count": null,
   "id": "500f18c4-2c9e-4f16-be32-7efe243ac67a",
   "metadata": {},
   "outputs": [],
   "source": [
    "avecs['x_c'] = cvecs['x']\n",
    "avecs['y_c'] = cvecs['y']"
   ]
  },
  {
   "cell_type": "code",
   "execution_count": null,
   "id": "3b88d3ba-4617-4247-912c-258676fbf475",
   "metadata": {},
   "outputs": [],
   "source": [
    "#스타일 가중치 계산 및 대표 년도 추가\n",
    "df_newstyle = file_info['Style'].str.split(',', expand=True)\n",
    "df_newstyle = df_newstyle.melt(value_name='Style', ignore_index=False).dropna().drop(columns='variable')\n",
    "\n",
    "temp = file_info[['new_date','Style','painting_name']].drop(columns='Style').join(df_newstyle, how='left')\n",
    "temp['Weight'] = 1 / (temp.groupby('painting_name')['Style'].transform('count'))\n",
    "\n",
    "df_newstyle = temp.dropna(subset=['Style'])\n",
    "\n",
    "temp = df_newstyle.groupby('Style')['new_date'].agg(lambda x: x.mode().iloc[0]).reset_index()\n",
    "temp.rename(columns={'new_date': 'Peak_year'}, inplace=True)\n",
    "\n",
    "df_newstyle = df_newstyle.merge(temp, on='Style', how='left')\n",
    "\n",
    "style_peak_year = df_newstyle[['Style','Peak_year']]\n",
    "style_peak_year = style_peak_year.drop_duplicates()\n",
    "\n",
    "new_style = list()\n",
    "for i in df_newstyle['Style'] :\n",
    "    year = style_peak_year['Peak_year'][style_peak_year['Style']==i].values[0]\n",
    "    new_style.append(f'{i} ({year})')\n",
    "df_newstyle['Style_Peak_year'] = new_style"
   ]
  },
  {
   "cell_type": "code",
   "execution_count": null,
   "id": "f7693279-dc1d-4e4e-a911-f7e1faf0f59c",
   "metadata": {},
   "outputs": [],
   "source": [
    "temp = df_newstyle[['Style_Peak_year','Weight']].groupby('Style_Peak_year').sum()\n",
    "temp = temp.sort_values(by='Weight', ascending=False)[:10].reset_index()\n",
    "\n",
    "styles = df_newstyle[['Style','Style_Peak_year']].drop_duplicates()\n",
    "styles10 = temp['Style_Peak_year'].values"
   ]
  },
  {
   "cell_type": "code",
   "execution_count": null,
   "id": "e5812c39-7f8a-4089-a6a6-0b8cb059d742",
   "metadata": {},
   "outputs": [],
   "source": [
    "df_umap_style = avecs.copy()\n",
    "df_umap_style['new_style'] = df_umap_style['Style'].str.split(',')\n",
    "df_umap_style = df_umap_style.explode('new_style') \n",
    "\n",
    "df_umap_style10 = df_umap_style[df_umap_style['new_style'].isin(styles['Style'][styles['Style_Peak_year'].isin(styles10)].unique())]\n",
    "df_umap_style10['Style_Peak_year'] = df_umap_style10['new_style'].map(styles.set_index('Style')['Style_Peak_year'])"
   ]
  },
  {
   "cell_type": "code",
   "execution_count": null,
   "id": "2c10780c-9ec7-4fb7-bc38-b666da3a9e66",
   "metadata": {},
   "outputs": [],
   "source": [
    "#target_authors = [['Albrecht Durer (1471-1528)','albrecht durer'],['Rembrandt (1606-1669)','rembrandt'],['Johannes Vermeer (1632-1675)','johannes vermeer'],['Jean-Francois Millet (1814-1875)','jean-francois millet'],['Edouard Manet (1832-1883)','edouard manet'],['Paul Cezanne (1839-1906)','paul cezanne'],['Pierre-Auguste Renoir (1841-1919)','pierre auguste renoir'],['Vincent van Gogh (1853-1890)','vincent van gogh'],['Gustav Klimt (1862-1918)','gustav klimt'],['Egon Schiele (1890-1918)','egon schiele']]\n",
    "target_authors = [['Albrecht Durer (1528)','albrecht durer'],['Rembrandt (1669)','rembrandt'],['Johannes Vermeer (1675)','johannes vermeer'],['Jean-Francois Millet (1875)','jean-francois millet'],['Edouard Manet (1883)','edouard manet'],['Paul Cezanne (1906)','paul cezanne'],['Pierre-Auguste Renoir (1919)','pierre auguste renoir'],['Vincent van Gogh (1890)','vincent van gogh'],['Gustav Klimt (1918)','gustav klimt'],['Egon Schiele (1918)','egon schiele']]\n",
    "\n",
    "target_authors_dic = {i[1]:i[0] for i in target_authors}\n",
    "\n",
    "df_umap_author10 = avecs[avecs['author_name'].isin(target_authors_dic.keys())]\n",
    "df_umap_author10['author_name_year'] = [target_authors_dic[i] for i in df_umap_author10['author_name'] ]\n"
   ]
  },
  {
   "cell_type": "markdown",
   "id": "bd9a1f8a-9137-4cad-a5ac-21c60ce81fa4",
   "metadata": {},
   "source": [
    "### graph-de"
   ]
  },
  {
   "cell_type": "code",
   "execution_count": null,
   "id": "eee409bb-4e54-466d-a350-768b16e10e5b",
   "metadata": {},
   "outputs": [],
   "source": [
    "import matplotlib.pyplot as plt\n",
    "import seaborn as sns\n",
    "\n",
    "# 'Paired' 컬러 팔레트 불러오기\n",
    "import matplotlib.colors as mcolors\n",
    "palette = sns.color_palette(\"Paired\") \n",
    "palette[2] = mcolors.to_rgb('#A09317')\n",
    "palette[8] = mcolors.to_rgb('#872600')\n",
    "\n",
    "# 그래프와 축 설정 (constrained_layout 제거)\n",
    "fig, ax = plt.subplots(1, 2, figsize=(17, 6))\n",
    "ax = ax.reshape(-1)\n",
    "\n",
    "# 축 설정 (배경, 테두리 등)\n",
    "for i in range(2):\n",
    "    ax[i].patch.set_facecolor('white')\n",
    "    for spine in ax[i].spines.values():\n",
    "        spine.set_linewidth(0.8)\n",
    "\n",
    "# 스타일 리스트\n",
    "styles_order = ['Northern Renaissance (1510)', 'Baroque (1630)', 'Rococo (1780)', 'Romanticism (1820)',\n",
    "           'Realism (1880)', 'Impressionism (1880)', 'Post-Impressionism (1880)', 'Symbolism (1900)', 'Art Nouveau (Modern) (1910)',\n",
    "           'Expressionism (1910)']\n",
    "\n",
    "# 첫 번째 그래프\n",
    "sns.scatterplot(x='x', y='y', data=df_umap_style, s=3, alpha=0.01, color='gray', edgecolor=None, ax=ax[0])\n",
    "sns.scatterplot(x='x', y='y', data=df_umap_style10, hue='Style_Peak_year', alpha=0.5, hue_order=styles_order, s=6, palette=palette, edgecolor=None, ax=ax[0],linewidth=0,facecolors='none')\n",
    "\n",
    "ax[0].set_title(f\"A-vector\", fontsize=45, pad=20)\n",
    "ax[0].set_xlim(avecs.x.min() - 0.2, avecs.x.max() + 0.2)\n",
    "ax[0].set_ylim(avecs.y.min() - 1.2, avecs.y.max() + 1.2)\n",
    "ax[0].get_xaxis().set_visible(False)\n",
    "ax[0].get_yaxis().set_visible(False)\n",
    "ax[0].get_legend().remove()\n",
    "\n",
    "# 두 번째 그래프 (범례 없이)\n",
    "sns.scatterplot(x='x_c', y='y_c', data=df_umap_style, s=3, alpha=0.01, color='gray', edgecolor=None, ax=ax[1],linewidth=0)\n",
    "sns.scatterplot(x='x_c', y='y_c', data=df_umap_style10, hue='Style_Peak_year', alpha=0.5, hue_order=styles_order, s=6, palette=palette, edgecolor=None, ax=ax[1],linewidth=0)\n",
    "ax[1].set_title(f\"C-vector\", fontsize=45, pad=20)\n",
    "ax[1].set_xlim(avecs.x_c.min() - 0.2, avecs.x_c.max() + 0.2)\n",
    "ax[1].set_ylim(avecs.y_c.min() - 1, avecs.y_c.max() + 0.2)\n",
    "ax[1].get_xaxis().set_visible(False)\n",
    "ax[1].get_yaxis().set_visible(False)\n",
    "ax[1].get_legend().remove()\n",
    "\n",
    "# 그래프 간 간격 조정 (wspace 조정)\n",
    "plt.subplots_adjust(wspace=0.1)  # wspace 값을 사용하여 간격을 조정합니다\n",
    "\n",
    "# 범례를 두 그래프의 아래에 공통으로 추가\n",
    "handles, labels = ax[0].get_legend_handles_labels()\n",
    "legend = fig.legend(handles=handles, labels=labels, ncol=2, loc='lower center', bbox_to_anchor=(0.51, -0.62),\n",
    "           fontsize=32, frameon=False, handlelength=0.8, columnspacing=0.4, markerscale=2, handletextpad=0.2, title='Style Periods', title_fontsize=36)\n",
    "legend.get_title().set_position((0, 18))\n",
    "\n",
    "plt.savefig('graph/figure01_DE.png',bbox_inches='tight',transparent = True,dpi=600)\n",
    "plt.show()"
   ]
  },
  {
   "cell_type": "markdown",
   "id": "89f81bf9-f0a5-4ab5-a45a-17d1d44af6c3",
   "metadata": {},
   "source": [
    "### graph-fg"
   ]
  },
  {
   "cell_type": "code",
   "execution_count": null,
   "id": "a3eaa0a3-bd7e-449a-ae96-ac7fb87e4d8e",
   "metadata": {},
   "outputs": [],
   "source": [
    "import matplotlib.cm as cm\n",
    "import matplotlib.colors as mcl\n",
    "import matplotlib as mpl\n",
    "\n",
    "# 'Paired' 컬러 팔레트 불러오기\n",
    "import matplotlib.colors as mcolors\n",
    "palette = sns.color_palette(\"Paired\") \n",
    "palette[2] = mcolors.to_rgb('#A09317')\n",
    "palette[8] = mcolors.to_rgb('#872600')\n",
    "\n",
    "# 그래프와 축 설정 (constrained_layout 제거)\n",
    "fig, ax = plt.subplots(1, 2, figsize=(17, 6))\n",
    "ax = ax.reshape(-1)\n",
    "\n",
    "# 축 설정 (배경, 테두리 등)\n",
    "for i in range(2):\n",
    "    ax[i].patch.set_facecolor('white')\n",
    "    for spine in ax[i].spines.values():\n",
    "        spine.set_color('black')\n",
    "        spine.set_linewidth(0.8)\n",
    "\n",
    "sns.scatterplot(x='x',y='y', data=df_umap_style, s=3,alpha=0.01, color='gray', ax=ax[0],edgecolor=None)\n",
    "sns.scatterplot(x='x',y='y', data=df_umap_author10, hue='author_name_year',alpha=0.9,hue_order=target_authors_dic.values(), s=6, palette=palette, ax=ax[0],edgecolor=None)\n",
    "ax[0].set_title(f\"A-vector\",fontsize=45, pad=20)\n",
    "ax[0].set_xlim(avecs.x.min()-0.2, avecs.x.max()+0.2)\n",
    "ax[0].set_ylim(avecs.y.min()-1.2, avecs.y.max()+1.2)\n",
    "ax[0].get_xaxis().set_visible(False)\n",
    "ax[0].get_yaxis().set_visible(False)\n",
    "ax[0].get_legend().remove()\n",
    "\n",
    "sns.scatterplot(x='x_c',y='y_c', data=df_umap_style, s=5,alpha=0.01, color='gray', ax=ax[1], edgecolor=None)\n",
    "sns.scatterplot(x='x_c',y='y_c', data=df_umap_author10, hue='author_name_year',alpha=0.9,hue_order=target_authors_dic.values(), s=6, palette=palette, ax=ax[1], edgecolor=None)\n",
    "ax[1].set_title(f\"C-vector\", fontsize=45, pad=20)\n",
    "ax[1].set_xlim(avecs.x_c.min() - 0.2, avecs.x_c.max() + 0.2)\n",
    "ax[1].set_ylim(avecs.y_c.min()-1, avecs.y_c.max()+0.2)\n",
    "ax[1].get_xaxis().set_visible(False)\n",
    "ax[1].get_yaxis().set_visible(False)\n",
    "ax[1].get_legend().remove()\n",
    "\n",
    "# 그래프 간 간격 조정 (wspace 조정)\n",
    "plt.subplots_adjust(wspace=0.1)  # wspace 값을 사용하여 간격을 조정합니다\n",
    "\n",
    "# 범례를 두 그래프의 아래에 공통으로 추가\n",
    "handles, labels = ax[0].get_legend_handles_labels()\n",
    "legend = fig.legend(handles=handles, labels=labels, ncol=2, loc='lower center', bbox_to_anchor=(0.51, -0.62),\n",
    "           fontsize=32, frameon=False, handlelength=0.8, columnspacing=0.4, markerscale=2, handletextpad=0.2, title='Painting Artists', title_fontsize=36)\n",
    "legend.get_title().set_position((0, 18))\n",
    "\n",
    "plt.savefig('graph/figure01_FG.png',bbox_inches='tight',transparent = True,dpi=600)"
   ]
  },
  {
   "cell_type": "markdown",
   "id": "a7fe0f97-0192-4590-a966-0c0e45e88057",
   "metadata": {},
   "source": [
    "# Reression"
   ]
  },
  {
   "cell_type": "markdown",
   "id": "3028fdff-94d8-42ae-b7aa-4e4403dfa893",
   "metadata": {},
   "source": [
    "### graph-hi"
   ]
  },
  {
   "cell_type": "code",
   "execution_count": null,
   "id": "ddc6c61d-eba2-45e1-86be-3629e8ffa9ab",
   "metadata": {},
   "outputs": [],
   "source": [
    "import sklearn\n",
    "from xgboost import XGBClassifier\n",
    "from sklearn.metrics import r2_score, mean_squared_error\n",
    "import numpy as np\n",
    "from xgboost import plot_importance\n",
    "import xgboost as xgb"
   ]
  },
  {
   "cell_type": "code",
   "execution_count": null,
   "id": "78bc213b-cdde-48aa-a0c6-91c0b5f1be47",
   "metadata": {},
   "outputs": [],
   "source": [
    "sample_indexs_train = list()\n",
    "sample_indexs_test = list()\n",
    "for year in [1500 +i*10 for i in range(50)] :\n",
    "    temp = file_info_latents[file_info_latents['new_date']==year]\n",
    "    sample_num = int(len(temp)*0.7)\n",
    "    sample_index = temp.sample(sample_num).index\n",
    "    sample_indexs_train.extend(sample_index)\n",
    "    sample_indexs_test.extend(temp.drop(sample_index,axis=0).index)"
   ]
  },
  {
   "cell_type": "code",
   "execution_count": null,
   "id": "32f593ab-49dd-49cc-8628-4af4bb89541c",
   "metadata": {},
   "outputs": [],
   "source": [
    "len(sample_indexs_train)/(len(sample_indexs_test)+len(sample_indexs_train))"
   ]
  },
  {
   "cell_type": "code",
   "execution_count": null,
   "id": "aaf38afb-18bd-4369-b428-8cf885c0d3cd",
   "metadata": {},
   "outputs": [],
   "source": [
    "X_raw = pd.DataFrame(cvec)\n",
    "y = file_info_latents['new_date']\n",
    "\n",
    "X_train = X_raw[X_raw.index.isin(sample_indexs_train)]\n",
    "y_train = file_info_latents['new_date'][file_info_latents.index.isin(sample_indexs_train)]\n",
    "y_train = list(map(int, (y_train-1500)/10))\n",
    "\n",
    "X_test = X_raw[X_raw.index.isin(sample_indexs_test)]\n",
    "y_test = file_info_latents['new_date'][file_info_latents.index.isin(sample_indexs_test)]\n",
    "y_test = list(map(int, (y_test-1500)/10))"
   ]
  },
  {
   "cell_type": "code",
   "execution_count": null,
   "id": "072a941c-3570-4739-a46e-e295b90346ea",
   "metadata": {},
   "outputs": [],
   "source": [
    "# import xgboost\n",
    "\n",
    "# cvec_xgb_model = xgboost.XGBRegressor(n_estimators=100, learning_rate=0.08, gamma=0, subsample=0.75,\n",
    "#                            colsample_bytree=1, max_depth=7)\n",
    "# cvec_xgb_model.fit(X_train, y_train)\n",
    "# cvec_xgb_model.save_model(base_path+\"models/cvec_xgb_model.json\") \n",
    "\n",
    "# 모델 불러오기\n",
    "cvec_xgb_model = xgb.XGBRegressor()\n",
    "cvec_xgb_model.load_model(base_path+\"models/cvec_xgb_model.json\")"
   ]
  },
  {
   "cell_type": "code",
   "execution_count": null,
   "id": "3f15c374-6b5e-491e-b6b3-614a8bbb4c90",
   "metadata": {},
   "outputs": [],
   "source": [
    "y_pre_cvec = cvec_xgb_model.predict(X_test)"
   ]
  },
  {
   "cell_type": "code",
   "execution_count": null,
   "id": "9c3eaa92-3a8b-44e7-876a-1e3fc52f4201",
   "metadata": {},
   "outputs": [],
   "source": [
    "# 산점도 및 회귀선 그리기\n",
    "fig, ax = plt.subplots(figsize=(9.5, 9))\n",
    "ax.spines['top'].set_visible(False)\n",
    "ax.spines['right'].set_visible(False)\n",
    "\n",
    "sns.regplot(x=y_test, y=y_pre_cvec, scatter_kws={'s': 10,'alpha':0.3, 'color':'#78ACF6'}, line_kws={'color': '#0057D3'}, ax=ax, lowess=True )\n",
    "\n",
    "plt.xlabel('Year',fontsize=28)  # x축 레이블 설정\n",
    "plt.ylabel('Predict Year',fontsize=28)\n",
    "plt.xlim(-5, 55)\n",
    "plt.ylim(-5, 55)\n",
    "plt.xticks([0, 10, 20, 30, 40, 50], [1500, 1600, 1700, 1800, 1900, 2000],fontsize=32, rotation=30)\n",
    "plt.yticks([0, 10, 20, 30, 40, 50], [1500, 1600, 1700, 1800, 1900, 2000],fontsize=32)\n",
    "plt.grid(True)\n",
    "plt.title('C-vector', fontsize=40)\n",
    "\n",
    "plt.savefig('graph/figure01_I.png',bbox_inches='tight',transparent = True,dpi=600)\n",
    "plt.show()"
   ]
  },
  {
   "cell_type": "code",
   "execution_count": null,
   "id": "bc1935e4-bdf1-44bd-9e0f-1f51c6f35556",
   "metadata": {},
   "outputs": [],
   "source": [
    "df_test = pd.DataFrame({'y_test':y_test,'y_pre':y_pre_cvec})\n",
    "correlation = df_test['y_test'].corr(df_test['y_pre'])\n",
    "print(f'Correlation: {correlation}')\n",
    "print(f'r2_score : {r2_score(y_test, y_pre_cvec)}')"
   ]
  },
  {
   "cell_type": "code",
   "execution_count": null,
   "id": "047a9b25-780c-440a-b89b-12b2a804d6c8",
   "metadata": {},
   "outputs": [],
   "source": [
    "X_raw = pd.DataFrame(avec)\n",
    "y = file_info_latents['new_date']\n",
    "\n",
    "X_train = X_raw[X_raw.index.isin(sample_indexs_train)]\n",
    "y_train = file_info_latents['new_date'][file_info_latents.index.isin(sample_indexs_train)]\n",
    "y_train = list(map(int, (y_train-1500)/10))\n",
    "\n",
    "X_test = X_raw[X_raw.index.isin(sample_indexs_test)]\n",
    "y_test = file_info_latents['new_date'][file_info_latents.index.isin(sample_indexs_test)]\n",
    "y_test = list(map(int, (y_test-1500)/10))"
   ]
  },
  {
   "cell_type": "code",
   "execution_count": null,
   "id": "55d097fb-f693-4479-a61b-45af1f678e2d",
   "metadata": {
    "scrolled": true
   },
   "outputs": [],
   "source": [
    "# import xgboost\n",
    "\n",
    "# avec_xgb_model = xgboost.XGBRegressor(n_estimators=100, learning_rate=0.08, gamma=0, subsample=0.75,\n",
    "#                            colsample_bytree=1, max_depth=7)\n",
    "# avec_xgb_model.fit(X_train, y_train)\n",
    "# avec_xgb_model.save_model(base_path+\"models/avec_xgb_model.json\")  # .json, .txt 등의 형식으로 저장 가능\n",
    "\n",
    "# 모델 불러오기\n",
    "avec_xgb_model = xgb.XGBRegressor()\n",
    "avec_xgb_model.load_model(base_path+\"models/avec_xgb_model.json\")"
   ]
  },
  {
   "cell_type": "code",
   "execution_count": null,
   "id": "9f513435-ae29-412a-866a-9b90c598a0db",
   "metadata": {},
   "outputs": [],
   "source": [
    "y_pre_avec = avec_xgb_model.predict(X_test)"
   ]
  },
  {
   "cell_type": "code",
   "execution_count": null,
   "id": "bc90a132-f810-424d-90c4-9e926957f6c5",
   "metadata": {},
   "outputs": [],
   "source": [
    "# 산점도 및 회귀선 그리기\n",
    "fig, ax = plt.subplots(figsize=(9.5, 9))\n",
    "# 위쪽과 오른쪽 테두리 제거\n",
    "ax.spines['top'].set_visible(False)\n",
    "ax.spines['right'].set_visible(False)\n",
    "\n",
    "sns.regplot(x=y_test, y=y_pre_avec, scatter_kws={'s': 10,'alpha':0.3, 'color':'#78ACF6'}, line_kws={'color': '#0057D3'}, ax=ax, lowess=True)\n",
    "\n",
    "plt.xlabel('Year',fontsize=28)  # x축 레이블 설정\n",
    "plt.ylabel('Predict Year',fontsize=28)\n",
    "plt.xlim(-5, 55)\n",
    "plt.ylim(-5, 55)\n",
    "plt.xticks([0, 10, 20, 30, 40, 50], [1500, 1600, 1700, 1800, 1900, 2000],fontsize=32, rotation=30)\n",
    "plt.yticks([0, 10, 20, 30, 40, 50], [1500, 1600, 1700, 1800, 1900, 2000],fontsize=32)\n",
    "plt.grid(True)\n",
    "plt.title('A-vector', fontsize=40)\n",
    "plt.savefig('graph/figure01_J.png',bbox_inches='tight',transparent = True,dpi=600)\n",
    "plt.show()"
   ]
  },
  {
   "cell_type": "code",
   "execution_count": null,
   "id": "26ed146c-abe0-4522-b5dc-1aefa3981de5",
   "metadata": {},
   "outputs": [],
   "source": [
    "df_test = pd.DataFrame({'y_test':y_test,'y_pre':y_pre_avec})\n",
    "\n",
    "correlation = df_test['y_test'].corr(df_test['y_pre'])\n",
    "print(f'Correlation: {correlation}')\n",
    "print(f'r2_score : {r2_score(y_test, y_pre_avec)}')"
   ]
  },
  {
   "cell_type": "code",
   "execution_count": null,
   "id": "b7c32e21-80ce-44a3-82e8-3991566b9feb",
   "metadata": {},
   "outputs": [],
   "source": []
  },
  {
   "cell_type": "code",
   "execution_count": null,
   "id": "39168bca-402c-4f05-b346-93c111c61850",
   "metadata": {},
   "outputs": [],
   "source": []
  }
 ],
 "metadata": {
  "kernelspec": {
   "display_name": "history",
   "language": "python",
   "name": "history"
  },
  "language_info": {
   "codemirror_mode": {
    "name": "ipython",
    "version": 3
   },
   "file_extension": ".py",
   "mimetype": "text/x-python",
   "name": "python",
   "nbconvert_exporter": "python",
   "pygments_lexer": "ipython3",
   "version": "3.8.5"
  }
 },
 "nbformat": 4,
 "nbformat_minor": 5
}
